{
 "cells": [
  {
   "cell_type": "markdown",
   "metadata": {},
   "source": [
    "**计算polya尾巴上的非A碱基修饰**"
   ]
  },
  {
   "cell_type": "code",
   "execution_count": 1,
   "metadata": {},
   "outputs": [],
   "source": [
    "from collections import defaultdict, namedtuple, Counter\n",
    "import pickle\n",
    "import pandas as pd\n",
    "import numpy as np\n",
    "from concurrent.futures import ProcessPoolExecutor\n",
    "import pyranges as pr\n",
    "import pysam\n",
    "from matplotlib import pyplot as plt\n",
    "import matplotlib.ticker as ticker\n",
    "import seaborn as sns\n",
    "from scipy.stats import variation, gaussian_kde, pearsonr, mannwhitneyu\n",
    "from Bio import SeqIO"
   ]
  },
  {
   "cell_type": "code",
   "execution_count": 2,
   "metadata": {},
   "outputs": [],
   "source": [
    "import logging\n",
    "logging.basicConfig(level=logging.DEBUG,\n",
    "                    format='%(asctime)s %(filename)s: %(message)s',\n",
    "                    datefmt='%m/%d/%Y %I:%M:%S %p',\n",
    "                    )"
   ]
  },
  {
   "cell_type": "code",
   "execution_count": 3,
   "metadata": {},
   "outputs": [],
   "source": [
    "# 设置全局字体\n",
    "import matplotlib.pyplot as plt\n",
    "import matplotlib.font_manager as font_manager\n",
    "font_dirs = [\"/public/home/mowp/test/fonts/\"]\n",
    "font_files = font_manager.findSystemFonts(fontpaths=font_dirs)\n",
    "\n",
    "for font_file in font_files:\n",
    "    font_manager.fontManager.addfont(font_file)\n",
    "    \n",
    "plt.rcParams[\"font.family\"] = \"Arial\"\n",
    "plt.rcParams['font.size'] = 12\n",
    "plt.rcParams['svg.fonttype'] = 'none'"
   ]
  },
  {
   "cell_type": "code",
   "execution_count": null,
   "metadata": {},
   "outputs": [],
   "source": []
  },
  {
   "cell_type": "code",
   "execution_count": 4,
   "metadata": {},
   "outputs": [
    {
     "data": {
      "text/html": [
       "<div>\n",
       "<style scoped>\n",
       "    .dataframe tbody tr th:only-of-type {\n",
       "        vertical-align: middle;\n",
       "    }\n",
       "\n",
       "    .dataframe tbody tr th {\n",
       "        vertical-align: top;\n",
       "    }\n",
       "\n",
       "    .dataframe thead th {\n",
       "        text-align: right;\n",
       "    }\n",
       "</style>\n",
       "<table border=\"1\" class=\"dataframe\">\n",
       "  <thead>\n",
       "    <tr style=\"text-align: right;\">\n",
       "      <th></th>\n",
       "      <th>Chromosome</th>\n",
       "      <th>Start</th>\n",
       "      <th>End</th>\n",
       "      <th>Score</th>\n",
       "      <th>Strand</th>\n",
       "    </tr>\n",
       "    <tr>\n",
       "      <th>Name</th>\n",
       "      <th></th>\n",
       "      <th></th>\n",
       "      <th></th>\n",
       "      <th></th>\n",
       "      <th></th>\n",
       "    </tr>\n",
       "  </thead>\n",
       "  <tbody>\n",
       "    <tr>\n",
       "      <th>AT1G01010</th>\n",
       "      <td>1</td>\n",
       "      <td>3629</td>\n",
       "      <td>5899</td>\n",
       "      <td>.</td>\n",
       "      <td>+</td>\n",
       "    </tr>\n",
       "    <tr>\n",
       "      <th>AT1G01020</th>\n",
       "      <td>1</td>\n",
       "      <td>6786</td>\n",
       "      <td>9130</td>\n",
       "      <td>.</td>\n",
       "      <td>-</td>\n",
       "    </tr>\n",
       "    <tr>\n",
       "      <th>AT1G03987</th>\n",
       "      <td>1</td>\n",
       "      <td>11099</td>\n",
       "      <td>11372</td>\n",
       "      <td>.</td>\n",
       "      <td>+</td>\n",
       "    </tr>\n",
       "    <tr>\n",
       "      <th>AT1G01030</th>\n",
       "      <td>1</td>\n",
       "      <td>11647</td>\n",
       "      <td>13714</td>\n",
       "      <td>.</td>\n",
       "      <td>-</td>\n",
       "    </tr>\n",
       "    <tr>\n",
       "      <th>AT1G01040</th>\n",
       "      <td>1</td>\n",
       "      <td>23119</td>\n",
       "      <td>31227</td>\n",
       "      <td>.</td>\n",
       "      <td>+</td>\n",
       "    </tr>\n",
       "  </tbody>\n",
       "</table>\n",
       "</div>"
      ],
      "text/plain": [
       "          Chromosome  Start    End Score Strand\n",
       "Name                                           \n",
       "AT1G01010          1   3629   5899     .      +\n",
       "AT1G01020          1   6786   9130     .      -\n",
       "AT1G03987          1  11099  11372     .      +\n",
       "AT1G01030          1  11647  13714     .      -\n",
       "AT1G01040          1  23119  31227     .      +"
      ]
     },
     "execution_count": 4,
     "metadata": {},
     "output_type": "execute_result"
    }
   ],
   "source": [
    "gene_model_bed = '/public/home/mowp/db/Arabidopsis_thaliana/isoform/araport11.gene.bed'\n",
    "gene_model = pr.read_bed(gene_model_bed, as_df=True)\n",
    "gene_model = gene_model.set_index(['Name'])\n",
    "gene_model.head()"
   ]
  },
  {
   "cell_type": "code",
   "execution_count": null,
   "metadata": {},
   "outputs": [],
   "source": []
  },
  {
   "cell_type": "code",
   "execution_count": 5,
   "metadata": {},
   "outputs": [],
   "source": [
    "# reverse complement\n",
    "\n",
    "old_chars = \"ACGT\"\n",
    "replace_chars = \"TGCA\"\n",
    "tab = str.maketrans(old_chars,replace_chars)\n",
    "def reverse_complement(seq):\n",
    "    return seq.translate(tab)[::-1]"
   ]
  },
  {
   "cell_type": "code",
   "execution_count": 6,
   "metadata": {},
   "outputs": [],
   "source": [
    "# get high qualty reads\n",
    "# number pass >= 10\n",
    "\n",
    "ccs_bam = '/public/home/mowp/data/total_RNA/pacbio_cdna/raw_data/totalRNA.ccs.bam'\n",
    "high_qual_reads = set()\n",
    "with pysam.AlignmentFile(ccs_bam, 'rb', check_sq=False) as inbam:\n",
    "    for read in inbam:\n",
    "        if read.get_tag('np') >= 10:\n",
    "            high_qual_reads.add(read.query_name)"
   ]
  },
  {
   "cell_type": "code",
   "execution_count": 133,
   "metadata": {},
   "outputs": [],
   "source": [
    "# 获取pacbio polyA序列\n",
    "\n",
    "infile = '/public/home/mowp/data/total_RNA/pacbio_cdna/aligned_data/totalRNA.polyA_tail.result.tsv'\n",
    "df = pd.read_csv(infile, sep='\\t')\n",
    "\n",
    "df['read_id'] = df['read_core_id'].map(lambda x: x.split(',')[0])\n",
    "\n",
    "df.drop_duplicates('read_id', False, inplace=True)\n",
    "\n",
    "df = df.loc[:, ['read_id', 'polya_start_base', 'polya_end_base']]\n",
    "\n",
    "polya_info = {item[0]: (item[1], item[2]) for item in df.values}"
   ]
  },
  {
   "cell_type": "code",
   "execution_count": null,
   "metadata": {},
   "outputs": [],
   "source": []
  },
  {
   "cell_type": "code",
   "execution_count": 32,
   "metadata": {},
   "outputs": [
    {
     "name": "stdout",
     "output_type": "stream",
     "text": [
      "CPU times: user 22.7 s, sys: 781 ms, total: 23.5 s\n",
      "Wall time: 23.3 s\n"
     ]
    }
   ],
   "source": [
    "%%time\n",
    "\n",
    "infile = '/public/home/mowp/data/total_RNA/pacbio_cdna/aligned_data/totalRNA.polyA_tail.fasta'\n",
    "\n",
    "polya_seq_dict = {}\n",
    "for read in SeqIO.parse(infile, 'fasta'):\n",
    "    if read.id in high_qual_reads:\n",
    "        polya_seq = str(read.seq)\n",
    "        polya_seq_dict[read.id] = polya_seq"
   ]
  },
  {
   "cell_type": "code",
   "execution_count": 45,
   "metadata": {},
   "outputs": [
    {
     "name": "stdout",
     "output_type": "stream",
     "text": [
      "CPU times: user 1min 2s, sys: 227 ms, total: 1min 2s\n",
      "Wall time: 1min 2s\n"
     ]
    }
   ],
   "source": [
    "%%time\n",
    "\n",
    "infile = '/public/home/mowp/data/total_RNA/pacbio_cdna/polyadenylated_data/totalRNA.polyadenylated.bam'\n",
    "\n",
    "n = 0\n",
    "nucleotide_freq = defaultdict(lambda: Counter())\n",
    "non_a_reads_count = defaultdict(lambda: Counter())\n",
    "total_count = Counter()\n",
    "with pysam.AlignmentFile(infile, 'rb') as inbam:\n",
    "\n",
    "    for read in inbam:\n",
    "        polya_len = read.get_tag('pa')\n",
    "        read_gene_id = read.get_tag('gi')\n",
    "        if read.query_name in polya_seq_dict:  \n",
    "            if polya_len <= 150:\n",
    "                polya_len = polya_len//3*3\n",
    "                polya_seq = polya_seq_dict[read.query_name]\n",
    "                nucleotide_freq[polya_len] += Counter(polya_seq)\n",
    "                total_count += Counter(polya_seq)\n",
    "                \n",
    "                if 'T' in polya_seq:\n",
    "                    non_a_reads_count[polya_len]['T'] += 1\n",
    "                if 'C' in polya_seq:\n",
    "                    non_a_reads_count[polya_len]['C'] += 1\n",
    "                if 'G' in polya_seq:\n",
    "                    non_a_reads_count[polya_len]['G'] += 1\n",
    "                non_a_reads_count[polya_len]['n'] += 1\n",
    "                \n",
    "                n += 1"
   ]
  },
  {
   "cell_type": "code",
   "execution_count": 46,
   "metadata": {},
   "outputs": [
    {
     "data": {
      "text/plain": [
       "1260759"
      ]
     },
     "execution_count": 46,
     "metadata": {},
     "output_type": "execute_result"
    }
   ],
   "source": [
    "n"
   ]
  },
  {
   "cell_type": "markdown",
   "metadata": {},
   "source": [
    "# nucleotide freq in different length"
   ]
  },
  {
   "cell_type": "code",
   "execution_count": 47,
   "metadata": {},
   "outputs": [],
   "source": [
    "x, tt, gg, cc = [], [], [], []\n",
    "for polya_len in range(15, 150):\n",
    "    \n",
    "    total = nucleotide_freq[polya_len]['T']+nucleotide_freq[polya_len]['C']+nucleotide_freq[polya_len]['G']+nucleotide_freq[polya_len]['A']\n",
    "    if total > 0:\n",
    "        x.append(polya_len)\n",
    "        tt.append(nucleotide_freq[polya_len]['T']/total)\n",
    "        gg.append(nucleotide_freq[polya_len]['G']/total)\n",
    "        cc.append(nucleotide_freq[polya_len]['C']/total)"
   ]
  },
  {
   "cell_type": "code",
   "execution_count": 48,
   "metadata": {},
   "outputs": [
    {
     "data": {
      "image/png": "[encoded data removed]",
      "text/plain": [
       "<Figure size 288x216 with 1 Axes>"
      ]
     },
     "metadata": {
      "needs_background": "light"
     },
     "output_type": "display_data"
    }
   ],
   "source": [
    "@ticker.FuncFormatter\n",
    "def formatter(x, pos):\n",
    "    if x==0:\n",
    "        return x\n",
    "    return f'{x*100:0.2f}'\n",
    "plt.figure(figsize=(4, 3))\n",
    "plt.plot(x, cc, label='C')\n",
    "plt.plot(x, gg, label='G')\n",
    "plt.plot(x, tt, label='U')\n",
    "plt.legend(frameon=False)\n",
    "plt.ylabel('Nucleotide frequency (%)')\n",
    "plt.xlabel('Poly(A) tail length (nt)')\n",
    "plt.gca().get_yaxis().set_major_formatter(formatter)"
   ]
  },
  {
   "cell_type": "markdown",
   "metadata": {},
   "source": [
    "# non-A read frequency"
   ]
  },
  {
   "cell_type": "code",
   "execution_count": 49,
   "metadata": {},
   "outputs": [],
   "source": [
    "x, tt, gg, cc = [], [], [], []\n",
    "for polya_len in range(15, 150):\n",
    "    total = non_a_reads_count[polya_len]['n']\n",
    "    if total > 0:\n",
    "        x.append(polya_len)\n",
    "        tt.append(non_a_reads_count[polya_len]['T']/total)\n",
    "        gg.append(non_a_reads_count[polya_len]['G']/total)\n",
    "        cc.append(non_a_reads_count[polya_len]['C']/total)"
   ]
  },
  {
   "cell_type": "code",
   "execution_count": 50,
   "metadata": {},
   "outputs": [
    {
     "data": {
      "image/png": "[encoded data removed]",
      "text/plain": [
       "<Figure size 288x216 with 1 Axes>"
      ]
     },
     "metadata": {
      "needs_background": "light"
     },
     "output_type": "display_data"
    }
   ],
   "source": [
    "@ticker.FuncFormatter\n",
    "def formatter(x, pos):\n",
    "    if x==0:\n",
    "        return x\n",
    "    return f'{x*100:0.2f}'\n",
    "plt.figure(figsize=(4, 3))\n",
    "plt.plot(x, cc, label='C')\n",
    "plt.plot(x, gg, label='G')\n",
    "plt.plot(x, tt, label='U')\n",
    "plt.legend(frameon=False)\n",
    "plt.ylabel('Nucleotide frequency (%)')\n",
    "plt.xlabel('Poly(A) tail length (nt)')\n",
    "plt.gca().get_yaxis().set_major_formatter(formatter)"
   ]
  },
  {
   "cell_type": "markdown",
   "metadata": {},
   "source": [
    "# nucleotide freq"
   ]
  },
  {
   "cell_type": "code",
   "execution_count": 37,
   "metadata": {},
   "outputs": [
    {
     "data": {
      "text/plain": [
       "Counter({'A': 105438402, 'G': 32653, 'T': 77933, 'C': 143787})"
      ]
     },
     "execution_count": 37,
     "metadata": {},
     "output_type": "execute_result"
    }
   ],
   "source": [
    "total_count"
   ]
  },
  {
   "cell_type": "code",
   "execution_count": 38,
   "metadata": {},
   "outputs": [],
   "source": [
    "total = total_count['T']+total_count['C']+total_count['G']+total_count['A']\n",
    "x, y = [], []\n",
    "for i, base in enumerate(('C', 'G', 'T')):\n",
    "    x.append(i)\n",
    "    y.append(total_count[base]/total)"
   ]
  },
  {
   "cell_type": "code",
   "execution_count": 39,
   "metadata": {},
   "outputs": [
    {
     "data": {
      "image/png": "[encoded data removed]",
      "text/plain": [
       "<Figure size 144x216 with 1 Axes>"
      ]
     },
     "metadata": {
      "needs_background": "light"
     },
     "output_type": "display_data"
    }
   ],
   "source": [
    "plt.figure(figsize=(2, 3))\n",
    "plt.bar(x, y, width=.6, color=['#1F77B4', '#FF9E4A', '#62B862'])\n",
    "plt.xticks(x, ['C', 'G', 'U'])\n",
    "plt.ylabel('Nucleotide frequency (%)')\n",
    "plt.gca().get_yaxis().set_major_formatter(formatter)"
   ]
  },
  {
   "cell_type": "code",
   "execution_count": null,
   "metadata": {},
   "outputs": [],
   "source": []
  },
  {
   "cell_type": "code",
   "execution_count": null,
   "metadata": {},
   "outputs": [],
   "source": []
  },
  {
   "cell_type": "code",
   "execution_count": null,
   "metadata": {},
   "outputs": [],
   "source": []
  },
  {
   "cell_type": "code",
   "execution_count": null,
   "metadata": {},
   "outputs": [],
   "source": []
  },
  {
   "cell_type": "code",
   "execution_count": null,
   "metadata": {},
   "outputs": [],
   "source": []
  },
  {
   "cell_type": "code",
   "execution_count": null,
   "metadata": {},
   "outputs": [],
   "source": []
  },
  {
   "cell_type": "code",
   "execution_count": null,
   "metadata": {},
   "outputs": [],
   "source": []
  },
  {
   "cell_type": "code",
   "execution_count": null,
   "metadata": {},
   "outputs": [],
   "source": []
  },
  {
   "cell_type": "code",
   "execution_count": 52,
   "metadata": {},
   "outputs": [
    {
     "name": "stdout",
     "output_type": "stream",
     "text": [
      "CPU times: user 2min 54s, sys: 326 ms, total: 2min 54s\n",
      "Wall time: 2min 54s\n"
     ]
    }
   ],
   "source": [
    "%%time\n",
    "\n",
    "infile = '/public/home/mowp/data/total_RNA/pacbio_cdna/polyadenylated_data/totalRNA.polyadenylated.bam'\n",
    "\n",
    "fwd_nucleotide_pos = defaultdict(lambda: Counter())\n",
    "with pysam.AlignmentFile(infile, 'rb') as inbam:\n",
    "\n",
    "    for read in inbam:\n",
    "        polya_len = read.get_tag('pa')\n",
    "        read_gene_id = read.get_tag('gi')\n",
    "        if read.query_name in polya_seq_dict:\n",
    "\n",
    "            polya_seq = polya_seq_dict[read.query_name]\n",
    "            for pos, nucleotide in enumerate(polya_seq, 1):\n",
    "                if pos > 150:\n",
    "                    break\n",
    "                fwd_nucleotide_pos[pos][nucleotide] += 1"
   ]
  },
  {
   "cell_type": "code",
   "execution_count": 53,
   "metadata": {},
   "outputs": [],
   "source": [
    "x, tt, gg, cc = [], [], [], []\n",
    "for pos in range(5, 150):\n",
    "    \n",
    "    total = fwd_nucleotide_pos[pos]['T']+fwd_nucleotide_pos[pos]['C']+fwd_nucleotide_pos[pos]['G']+fwd_nucleotide_pos[pos]['A']\n",
    "    if total > 0:\n",
    "        x.append(pos)\n",
    "        tt.append(fwd_nucleotide_pos[pos]['T']/total)\n",
    "        gg.append(fwd_nucleotide_pos[pos]['G']/total)\n",
    "        cc.append(fwd_nucleotide_pos[pos]['C']/total)"
   ]
  },
  {
   "cell_type": "code",
   "execution_count": 54,
   "metadata": {},
   "outputs": [
    {
     "data": {
      "image/png": "[encoded data removed]",
      "text/plain": [
       "<Figure size 216x216 with 1 Axes>"
      ]
     },
     "metadata": {
      "needs_background": "light"
     },
     "output_type": "display_data"
    }
   ],
   "source": [
    "@ticker.FuncFormatter\n",
    "def formatter(x, pos):\n",
    "    if x==0:\n",
    "        return x\n",
    "    return f'{x*100:0.2f}'\n",
    "\n",
    "plt.figure(figsize=(3, 3))\n",
    "plt.scatter(x, cc, label='C', s=5)\n",
    "plt.scatter(x, gg, label='G', s=5)\n",
    "plt.scatter(x, tt, label='U', s=5)\n",
    "plt.legend(frameon=False)\n",
    "plt.ylabel('Nucleotide frequency (%)')\n",
    "plt.xlabel('Position')\n",
    "plt.gca().get_yaxis().set_major_formatter(formatter)"
   ]
  },
  {
   "cell_type": "code",
   "execution_count": null,
   "metadata": {},
   "outputs": [],
   "source": []
  },
  {
   "cell_type": "code",
   "execution_count": 55,
   "metadata": {},
   "outputs": [
    {
     "name": "stdout",
     "output_type": "stream",
     "text": [
      "CPU times: user 2min 54s, sys: 353 ms, total: 2min 54s\n",
      "Wall time: 2min 54s\n"
     ]
    }
   ],
   "source": [
    "%%time\n",
    "\n",
    "infile = '/public/home/mowp/data/total_RNA/pacbio_cdna/polyadenylated_data/totalRNA.polyadenylated.bam'\n",
    "\n",
    "rev_nucleotide_pos = defaultdict(lambda: Counter())\n",
    "with pysam.AlignmentFile(infile, 'rb') as inbam:\n",
    "\n",
    "    for read in inbam:\n",
    "        polya_len = read.get_tag('pa')\n",
    "        read_gene_id = read.get_tag('gi')\n",
    "        if read.query_name in polya_seq_dict:\n",
    "                \n",
    "            polya_seq = polya_seq_dict[read.query_name]\n",
    "            for pos, nucleotide in enumerate(polya_seq[::-1], 1):\n",
    "                if pos > 150:\n",
    "                    break\n",
    "                rev_nucleotide_pos[pos][nucleotide] += 1"
   ]
  },
  {
   "cell_type": "code",
   "execution_count": 140,
   "metadata": {},
   "outputs": [],
   "source": [
    "x, tt, gg, cc = [], [], [], []\n",
    "for pos in range(0, 25):\n",
    "    \n",
    "    total = rev_nucleotide_pos[pos]['T']+rev_nucleotide_pos[pos]['C']+rev_nucleotide_pos[pos]['G']+rev_nucleotide_pos[pos]['A']\n",
    "    if total > 0:\n",
    "        x.append(pos)\n",
    "        tt.append(rev_nucleotide_pos[pos]['T']/total)\n",
    "        gg.append(rev_nucleotide_pos[pos]['G']/total)\n",
    "        cc.append(rev_nucleotide_pos[pos]['C']/total)"
   ]
  },
  {
   "cell_type": "code",
   "execution_count": 146,
   "metadata": {},
   "outputs": [
    {
     "data": {
      "image/png": "[encoded data removed]",
      "text/plain": [
       "<Figure size 216x216 with 1 Axes>"
      ]
     },
     "metadata": {
      "needs_background": "light"
     },
     "output_type": "display_data"
    }
   ],
   "source": [
    "@ticker.FuncFormatter\n",
    "def formatter(x, pos):\n",
    "    if x==0:\n",
    "        return x\n",
    "    return f'{x*100:0.2f}'\n",
    "plt.figure(figsize=(3, 3))\n",
    "# plt.scatter(x, cc, label='C', s=5)\n",
    "# plt.scatter(x, gg, label='G', s=5)\n",
    "# plt.scatter(x, tt, label='U', s=5)\n",
    "\n",
    "plt.plot(x, cc, label='C', marker='o')\n",
    "plt.plot(x, gg, label='G', marker='o')\n",
    "plt.plot(x, tt, label='U', marker='o')\n",
    "plt.legend(frameon=False)\n",
    "plt.ylabel('Nucleotide frequency (%)')\n",
    "plt.xlabel('Position')\n",
    "plt.gca().get_yaxis().set_major_formatter(formatter)\n",
    "plt.xlim(26, -1)\n",
    "plt.xticks(np.linspace(0, 25, 4, dtype='int'),  np.linspace(0, 25, 4, dtype='int')*-1)\n",
    "plt.show()"
   ]
  },
  {
   "cell_type": "code",
   "execution_count": 58,
   "metadata": {},
   "outputs": [],
   "source": [
    "def plot_freq_pos(ax, x, cc, gg, tt, ylabel=None):\n",
    "    if ylabel is not None:\n",
    "        ax.set_ylabel(ylabel)\n",
    "    ax.set_xlabel('Position')\n",
    "    ax.spines['right'].set_visible(False)\n",
    "    ax.spines['top'].set_visible(False)\n",
    "    \n",
    "    ax.scatter(x, cc, label='C', s=5)\n",
    "    ax.scatter(x, gg, label='G', s=5)\n",
    "    ax.scatter(x, tt, label='U', s=5)\n",
    "    ax.yaxis.set_major_formatter(formatter)\n",
    "\n",
    "    \n",
    "def get_data(nucleotide_pos, start, end):\n",
    "    x, tt, gg, cc = [], [], [], []\n",
    "    for pos in range(start, end):\n",
    "\n",
    "        total = nucleotide_pos[pos]['T']+nucleotide_pos[pos]['C']+nucleotide_pos[pos]['G']+nucleotide_pos[pos]['A']\n",
    "        if total > 0:\n",
    "            x.append(pos)\n",
    "            tt.append(nucleotide_pos[pos]['T']/total)\n",
    "            gg.append(nucleotide_pos[pos]['G']/total)\n",
    "            cc.append(nucleotide_pos[pos]['C']/total)\n",
    "    return x, tt, gg, cc"
   ]
  },
  {
   "cell_type": "code",
   "execution_count": 125,
   "metadata": {},
   "outputs": [
    {
     "data": {
      "text/plain": [
       "<matplotlib.legend.Legend at 0x2baa537e98d0>"
      ]
     },
     "execution_count": 125,
     "metadata": {},
     "output_type": "execute_result"
    },
    {
     "data": {
      "image/png": "[encoded data removed]",
      "text/plain": [
       "<Figure size 432x216 with 2 Axes>"
      ]
     },
     "metadata": {
      "needs_background": "light"
     },
     "output_type": "display_data"
    }
   ],
   "source": [
    "fig, ax = plt.subplots(1, 2, figsize=(6, 3), sharey=True)\n",
    "x, tt, gg, cc = get_data(fwd_nucleotide_pos, 0, 150)\n",
    "plot_freq_pos(ax[0], x, cc, gg, tt, ylabel='Nucleotide frequency (%)')\n",
    "ax[0].set_xticks(np.linspace(0, 150, 4, dtype='int'))\n",
    "\n",
    "\n",
    "x, tt, gg, cc = get_data(rev_nucleotide_pos, 0, 150)\n",
    "plot_freq_pos(ax[1], x, cc, gg, tt)\n",
    "ax[1].spines['left'].set_visible(False)\n",
    "ax[1].yaxis.set_ticks_position('none')\n",
    "plt.xlim(155, -5)\n",
    "plt.xticks(np.linspace(0, 150, 4, dtype='int'),  np.linspace(0, 150, 4, dtype='int')*-1)\n",
    "plt.setp(ax[1].get_yticklabels(), visible=False)\n",
    "plt.legend(frameon=False)"
   ]
  },
  {
   "cell_type": "code",
   "execution_count": null,
   "metadata": {},
   "outputs": [],
   "source": []
  },
  {
   "cell_type": "code",
   "execution_count": 93,
   "metadata": {},
   "outputs": [],
   "source": [
    "STRAND_TO_BOOL = {'-': True, '+': False}\n",
    "def get_nucleotide_freq(infile, gene_id, nucleotide, log=False):\n",
    "    chrom, start, end, _, gene_strand = gene_model.loc[gene_id, :].values\n",
    "    \n",
    "    totol_count = 0\n",
    "    nucleotide_count = 0\n",
    "    with pysam.AlignmentFile(infile, 'rb') as inbam:\n",
    "        for read in inbam.fetch(chrom, start, end):\n",
    "            if read.query_name in polya_seq_dict:\n",
    "\n",
    "                polya_seq = polya_seq_dict[read.query_name]\n",
    "                read_gene_id = read.get_tag('gi')\n",
    "                if read_gene_id != gene_id:\n",
    "                    continue\n",
    "                    \n",
    "                if nucleotide in polya_seq:\n",
    "                    nucleotide_count += 1\n",
    "                totol_count += 1\n",
    "                \n",
    "                if log:\n",
    "                    print(polya_seq)\n",
    "                                \n",
    "    return nucleotide_count, totol_count, gene_id"
   ]
  },
  {
   "cell_type": "markdown",
   "metadata": {},
   "source": [
    "# mRNA half life"
   ]
  },
  {
   "cell_type": "code",
   "execution_count": 113,
   "metadata": {},
   "outputs": [],
   "source": [
    "infile = '/public/home/mowp/data/total_RNA/notebook/mRNA_half_life/TPC_Global_mRNA_Decay.tsv'\n",
    "tpc_half_life = pd.read_csv(infile, sep='\\t')\n",
    "tpc_half_life['gene_id'] = tpc_half_life['gene_id'].str.upper()"
   ]
  },
  {
   "cell_type": "markdown",
   "metadata": {},
   "source": [
    "# uridylated"
   ]
  },
  {
   "cell_type": "code",
   "execution_count": 94,
   "metadata": {},
   "outputs": [],
   "source": [
    "# multi run\n",
    "\n",
    "infile = '/public/home/mowp/data/total_RNA/pacbio_cdna/polyadenylated_data/totalRNA.polyadenylated.bam'\n",
    "\n",
    "results = []\n",
    "with ProcessPoolExecutor(max_workers=64) as e:\n",
    "    for gene_id in gene_model.index:\n",
    "        results.append(e.submit(get_nucleotide_freq, infile, gene_id, 'T'))"
   ]
  },
  {
   "cell_type": "code",
   "execution_count": null,
   "metadata": {},
   "outputs": [],
   "source": [
    "get_nucleotide_freq(infile, 'AT3G22530', 'T', log=True)"
   ]
  },
  {
   "cell_type": "code",
   "execution_count": null,
   "metadata": {},
   "outputs": [],
   "source": []
  },
  {
   "cell_type": "code",
   "execution_count": 95,
   "metadata": {},
   "outputs": [],
   "source": [
    "uridylated_results = []\n",
    "for res in results:\n",
    "    result = res.result()\n",
    "    if result[1] >= 10:\n",
    "        uridylated_results.append(result)"
   ]
  },
  {
   "cell_type": "code",
   "execution_count": 96,
   "metadata": {},
   "outputs": [],
   "source": [
    "uridylated_results = pd.DataFrame(uridylated_results, columns=['nucleotide_count', 'total_count', 'gene_id'])"
   ]
  },
  {
   "cell_type": "code",
   "execution_count": 98,
   "metadata": {},
   "outputs": [],
   "source": [
    "uridylated_results['freq'] = uridylated_results['nucleotide_count']/uridylated_results['total_count']"
   ]
  },
  {
   "cell_type": "code",
   "execution_count": 99,
   "metadata": {},
   "outputs": [
    {
     "data": {
      "text/plain": [
       "<AxesSubplot:>"
      ]
     },
     "execution_count": 99,
     "metadata": {},
     "output_type": "execute_result"
    },
    {
     "data": {
      "image/png": "[encoded data removed]",
      "text/plain": [
       "<Figure size 432x288 with 1 Axes>"
      ]
     },
     "metadata": {
      "needs_background": "light"
     },
     "output_type": "display_data"
    }
   ],
   "source": [
    "uridylated_results['freq'].hist(bins=np.linspace(0, 1, 50))"
   ]
  },
  {
   "cell_type": "code",
   "execution_count": 118,
   "metadata": {},
   "outputs": [],
   "source": [
    "df = pd.merge(uridylated_results, tpc_half_life, on='gene_id')"
   ]
  },
  {
   "cell_type": "code",
   "execution_count": 119,
   "metadata": {},
   "outputs": [
    {
     "data": {
      "text/plain": [
       "(-0.08759075924975708, 1.9820681762476744e-20)"
      ]
     },
     "execution_count": 119,
     "metadata": {},
     "output_type": "execute_result"
    }
   ],
   "source": [
    "pearsonr(df['freq'], df['t1/2'])"
   ]
  },
  {
   "cell_type": "markdown",
   "metadata": {},
   "source": [
    "# Cytosin"
   ]
  },
  {
   "cell_type": "code",
   "execution_count": 101,
   "metadata": {},
   "outputs": [],
   "source": [
    "# multi run\n",
    "\n",
    "infile = '/public/home/mowp/data/total_RNA/pacbio_cdna/polyadenylated_data/totalRNA.polyadenylated.bam'\n",
    "\n",
    "results = []\n",
    "with ProcessPoolExecutor(max_workers=64) as e:\n",
    "    for gene_id in gene_model.index:\n",
    "        results.append(e.submit(get_nucleotide_freq, infile, gene_id, 'C'))"
   ]
  },
  {
   "cell_type": "code",
   "execution_count": 102,
   "metadata": {},
   "outputs": [],
   "source": [
    "cytosin_results = []\n",
    "for res in results:\n",
    "    result = res.result()\n",
    "    if result[1] >= 10:\n",
    "        cytosin_results.append(result)"
   ]
  },
  {
   "cell_type": "code",
   "execution_count": 103,
   "metadata": {},
   "outputs": [],
   "source": [
    "cytosin_results = pd.DataFrame(cytosin_results, columns=['nucleotide_count', 'total_count', 'gene_id'])"
   ]
  },
  {
   "cell_type": "code",
   "execution_count": 104,
   "metadata": {},
   "outputs": [],
   "source": [
    "cytosin_results['freq'] = cytosin_results['nucleotide_count']/cytosin_results['total_count']"
   ]
  },
  {
   "cell_type": "code",
   "execution_count": 105,
   "metadata": {},
   "outputs": [
    {
     "data": {
      "text/plain": [
       "<AxesSubplot:>"
      ]
     },
     "execution_count": 105,
     "metadata": {},
     "output_type": "execute_result"
    },
    {
     "data": {
      "image/png": "[encoded data removed]",
      "text/plain": [
       "<Figure size 432x288 with 1 Axes>"
      ]
     },
     "metadata": {
      "needs_background": "light"
     },
     "output_type": "display_data"
    }
   ],
   "source": [
    "cytosin_results['freq'].hist(bins=np.linspace(0, 1, 50))"
   ]
  },
  {
   "cell_type": "code",
   "execution_count": 120,
   "metadata": {},
   "outputs": [],
   "source": [
    "df = pd.merge(cytosin_results, tpc_half_life, on='gene_id')"
   ]
  },
  {
   "cell_type": "code",
   "execution_count": 121,
   "metadata": {},
   "outputs": [
    {
     "data": {
      "text/plain": [
       "(-0.07513986351726257, 1.981618725398178e-15)"
      ]
     },
     "execution_count": 121,
     "metadata": {},
     "output_type": "execute_result"
    }
   ],
   "source": [
    "pearsonr(df['freq'], df['t1/2'])"
   ]
  },
  {
   "cell_type": "code",
   "execution_count": null,
   "metadata": {},
   "outputs": [],
   "source": []
  },
  {
   "cell_type": "markdown",
   "metadata": {},
   "source": [
    "# guanylated"
   ]
  },
  {
   "cell_type": "code",
   "execution_count": 106,
   "metadata": {},
   "outputs": [],
   "source": [
    "# multi run\n",
    "\n",
    "infile = '/public/home/mowp/data/total_RNA/pacbio_cdna/polyadenylated_data/totalRNA.polyadenylated.bam'\n",
    "\n",
    "results = []\n",
    "with ProcessPoolExecutor(max_workers=64) as e:\n",
    "    for gene_id in gene_model.index:\n",
    "        results.append(e.submit(get_nucleotide_freq, infile, gene_id, 'G'))"
   ]
  },
  {
   "cell_type": "code",
   "execution_count": 107,
   "metadata": {},
   "outputs": [],
   "source": [
    "guanylated_results = []\n",
    "for res in results:\n",
    "    result = res.result()\n",
    "    if result[1] >= 10:\n",
    "        guanylated_results.append(result)"
   ]
  },
  {
   "cell_type": "code",
   "execution_count": 108,
   "metadata": {},
   "outputs": [],
   "source": [
    "guanylated_results = pd.DataFrame(guanylated_results, columns=['nucleotide_count', 'total_count', 'gene_id'])"
   ]
  },
  {
   "cell_type": "code",
   "execution_count": 109,
   "metadata": {},
   "outputs": [],
   "source": [
    "guanylated_results['freq'] = guanylated_results['nucleotide_count']/guanylated_results['total_count']"
   ]
  },
  {
   "cell_type": "code",
   "execution_count": 110,
   "metadata": {},
   "outputs": [
    {
     "data": {
      "text/plain": [
       "<AxesSubplot:>"
      ]
     },
     "execution_count": 110,
     "metadata": {},
     "output_type": "execute_result"
    },
    {
     "data": {
      "image/png": "[encoded data removed]",
      "text/plain": [
       "<Figure size 432x288 with 1 Axes>"
      ]
     },
     "metadata": {
      "needs_background": "light"
     },
     "output_type": "display_data"
    }
   ],
   "source": [
    "guanylated_results['freq'].hist(bins=np.linspace(0, 1, 50))"
   ]
  },
  {
   "cell_type": "code",
   "execution_count": 122,
   "metadata": {},
   "outputs": [],
   "source": [
    "df = pd.merge(guanylated_results, tpc_half_life, on='gene_id')"
   ]
  },
  {
   "cell_type": "code",
   "execution_count": 123,
   "metadata": {},
   "outputs": [
    {
     "data": {
      "text/plain": [
       "(-0.03852173899862705, 4.7498501632661175e-05)"
      ]
     },
     "execution_count": 123,
     "metadata": {},
     "output_type": "execute_result"
    }
   ],
   "source": [
    "pearsonr(df['freq'], df['t1/2'])"
   ]
  },
  {
   "cell_type": "code",
   "execution_count": 726,
   "metadata": {},
   "outputs": [
    {
     "name": "stdout",
     "output_type": "stream",
     "text": [
      "AAAAAAAAAAAAAAAAAAAAAA\n",
      "AAAAAAAAAAAAAAAAAAAAAAAAAAAAAAAAAAAAAAAAAAAAAAAAAAAAAAAAAAAAAAAAAAAAAAAAAAAAAAAAAAAAAAAAAAAAAAAAAAAAAAAAAAAAAAAAAAAAAAAAAAAAAAAAA\n",
      "AAAAAAAAAAAAAAAAAAAAAAAAAAAAAAAAAAAAAAAAAAAAAAAAAAAAAAAAAAAAAAAAAAAAAAAAAAAAAAAAAAAAAAAAAAA\n",
      "AAAAAAAAAAAAAAAAAAAAAAAAAAAAAAAAAAAAAAAAAAAAAAAAAAAAAAAAAAAAAAAAAAAAAAAAA\n",
      "AAAAAAAAAAAAAAAAAAAAAAAAAAAAAAAAAAAAAAAAAAAAAAAAAAAAAAAAAAAAAAAAAAA\n",
      "AAAATAAAAATAAAAAAATAAAAAAAAAAAAAAAAAATAAAAAATAAAAATAAAAAAATAAAAAAAATAAAAAAAAAAAAAATAAAAAAAAAAAAAAAAAAAAAAAAAAAAA\n",
      "AAAAAAAAAAAAAAAAAAAAAAAAAAAAAAAAAAAAAAAAAAAAAAAAAAAAAAAAAAAAAAAAAAAAAAAAAA\n",
      "AAAAAAAAAAAAAAAAAAAAAAAAAAAAAAAAAAAAAAAAAAAAAAAAAAAAAAAAAAAAAAAAAAAAAAAAAAAAAAAAA\n",
      "AAAAAAAAAAAAAAAAAAAAAAAAAAAAAAAAAAAAAAAAAAAAAAAAAAAAAAAAAAAAAAAAAAAAAAAAAAAAAAAAAAAAAAAAAAAAAA\n",
      "AAAAAAAAAAAAAAAAAAAAAAAAAAAAAAAAAAAAAAAAAAAAAAAAAAAAAAAAAAAAAAAAAAAAAAAAAAAAAAAAAAAAAAAAAAAAAAAAAAAAAAAA\n",
      "AAAAAAAAAAAAAAAAAAAAAAAAAAAAAAAAAAAAAA\n",
      "AAAAAAAAAAAAAAAAAAAAAAAAAAAAAAAAAAAAAAAAAAAAAAAAAAAAAAAAAAAAAAAAAAAAAAAAAAAAAAAAAAAAAAAAAAAAAAAAAAAAAAAAAAAAAAAA\n",
      "AAAAAAAAAAAAAAAAAAAAAAAAAAAAAAAAAAAAAAAAAAAAAAAAAAAAAAAAAAAAAAAAAA\n",
      "AAAAAAAAAAAAAAAAAAAAAAAAAAAAAAAAAAAAAAAAAAAAAAAAAAAAAAAAAAAAAAAAAAAAAAAAAAAAAAAAAAAAAAAAAAAAAAAAAAAAAAAAAAAAAAAAAAAA\n",
      "CAAAAAAAAAAAAAAAAAAAAAAAAAAAAAAAAAAAAAAAAAAAAAAAAAAAAAAAAAAAAAAAAAAAAAAAAAAAAAAAAAAAAAAAAAAAAAAAAAAAAAAAAAA\n",
      "CAAAAAAAAAAAAAAAAAAAAAAAAAAAAAAAAAAAAAAAAAAAAAAAAAAAAAAAAAAAAAAAAAAAAAAAAAAAAAAAAAAAAAAA\n",
      "CAAAAAAAAAAAAAAAAAAAAAAAAAAAAAAAAAAAAAAAAAAAAAAAAAAAAAAAAAAAAAAAAAAAAAAAAAAAAAAAAAAAAAAAAAAAA\n",
      "CAAAAAAAAAAAAAAAAAAAAAAAAAAAAAAAAAAAAAAAAAAAAAAAAAAAAAAAAAAAAAAAAAAAAAAAAAAAAAAAAAAAAAAAAAAAAAAAAAA\n",
      "CAAAAAAAAAAAAAAAAAAAAAAAAAAAAAAAAAAAAAAAAAAAAAAAAAAAAAAAAAAAAACAAAAAAAAAAAA\n",
      "CAAAAAAAAAAAAAAAAAAAAAAAAAAAAAAAAAAAAAAAAAAAAAAAAAAAAAAAAAAAAAAAAAAAAAAAAAAAAAAAAAAAAAAAAAAAAAAAAAAAAAAAAAAAA\n",
      "CAAAAAAAAAAAAAAAAAAAAAAAAAAAAA\n",
      "CAAAAAAAAAAAAAAAAAAAAAAAAAAAAAAAAAAAA\n",
      "CAAAAAAAAAAAAAAAAAAAAAAAAAAAAAAAAAAAAAAAAAAAAAAAAAAAAAAAAAAAAAAAAAAAAAAAAAAAAA\n",
      "CAAAAAAAAAAAAAAAAAAAAAAAAAAAAAAAAAAAAAAAAAAAAAAAAAAAAAAAAAAAAAAAAAAAAAAAAAAAAAAAAAAAAAAAAAAAAAAAAAA\n",
      "CAAAAAAAAAAAAAAAAAAAAAAAAAAAAAAAAAAAAAAAAAAAAAAAAAAAAAAAAA\n",
      "CAAAAAAAAAAAAAAAAAAAAAAAAAAAAAAAAAAAAAAAA\n",
      "CAAAAAAAATAAAAAAAAAAAAAAAAAAAAAAAAAAAAAAAAAAAAAAAAAAAAAAAAAAAAAA\n",
      "CAAAAAAAAAAAAAAAAAAAAAAAAAAAAAAAAAAAAAAAAAAAAAAAAAAAAAAAAAAAAAAA\n",
      "CAAAAAAAAAAAAAAAAAAAAAAAAAAAAAAAAAAAAAAAAAAAAAAAAAAAAAAAAAAAAAAAAAAAAAAAAAAAAAAAAAAAAAAAAAAAAAAAAAAAAAAAAAAA\n",
      "CAAAAAAAAAAAAAAAAAAAAAAAAAAAAAAAAAAAAAAAAAAAA\n",
      "CAAAAAAAAAAAAAAAAAAAAAAAAAAAAAAAAAAAAAAAAAAAAAAAAAAAAAAAAAAAAAAAAAAAAAAAAAAAAAAAAAAAAAAAAAAAAAAAAAAAAAAAAAAAAA\n",
      "CAAAAAAAAAAAAAAAAAAAAAAAAAAAAAAAAAAAAAAAAAAAAAAAAAAAAAAAAAAAAAAAAAAAAAAAAAAAAAAAAAAAAAAAAAAAA\n",
      "CAAAAAAAAAAAAAAAAAAAAAAAAAAAAAAAAAAAAAAAAAAAAAAAAAAAAAAAAAAAAAAAAAAAAAAAAAA\n"
     ]
    },
    {
     "data": {
      "text/plain": [
       "(0, 33, 'AT3G22530')"
      ]
     },
     "execution_count": 726,
     "metadata": {},
     "output_type": "execute_result"
    }
   ],
   "source": [
    "get_nucleotide_freq(infile, 'AT3G22530', 'G', log=True)"
   ]
  },
  {
   "cell_type": "code",
   "execution_count": 153,
   "metadata": {},
   "outputs": [],
   "source": [
    "import seqlogo"
   ]
  },
  {
   "cell_type": "code",
   "execution_count": 151,
   "metadata": {},
   "outputs": [],
   "source": [
    "n = 0\n",
    "count = Counter()\n",
    "for read_id in polya_seq_dict:\n",
    "    seq = polya_seq_dict[read_id][-5:]\n",
    "    if seq.count('A') != 5:\n",
    "        count[seq] += 1"
   ]
  },
  {
   "cell_type": "code",
   "execution_count": null,
   "metadata": {},
   "outputs": [],
   "source": [
    "count.most_common()"
   ]
  },
  {
   "cell_type": "code",
   "execution_count": 156,
   "metadata": {},
   "outputs": [],
   "source": [
    "def get_base_freq(kmer, kmer_len=5):\n",
    "    freq = {\n",
    "        'A': np.zeros(kmer_len), \n",
    "        'C': np.zeros(kmer_len),\n",
    "        'G': np.zeros(kmer_len),\n",
    "        'T': np.zeros(kmer_len)\n",
    "        }\n",
    "    for k in kmer.most_common():\n",
    "        for n, base in enumerate(k[0]):\n",
    "            freq[base][n] += k[1]\n",
    "    \n",
    "    freq = pd.DataFrame(freq)\n",
    "    freq = freq.div(freq.sum(axis=1), axis=0)\n",
    "    ppm = seqlogo.Ppm(freq)\n",
    "    return ppm"
   ]
  },
  {
   "cell_type": "code",
   "execution_count": 158,
   "metadata": {},
   "outputs": [],
   "source": [
    "ppm = get_base_freq(count)"
   ]
  }
 ],
 "metadata": {
  "kernelspec": {
   "display_name": "Python 3",
   "language": "python",
   "name": "python3"
  },
  "language_info": {
   "codemirror_mode": {
    "name": "ipython",
    "version": 3
   },
   "file_extension": ".py",
   "mimetype": "text/x-python",
   "name": "python",
   "nbconvert_exporter": "python",
   "pygments_lexer": "ipython3",
   "version": "3.7.8"
  }
 },
 "nbformat": 4,
 "nbformat_minor": 4
}
