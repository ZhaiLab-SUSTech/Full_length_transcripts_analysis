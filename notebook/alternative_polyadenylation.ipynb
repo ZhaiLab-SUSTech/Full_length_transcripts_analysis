{
 "cells": [
  {
   "cell_type": "code",
   "execution_count": 1,
   "metadata": {},
   "outputs": [],
   "source": [
    "from collections import Counter\n",
    "import numpy as np\n",
    "import pysam\n",
    "from scipy import stats\n",
    "import click\n",
    "import pyranges as pr\n",
    "from concurrent.futures import ProcessPoolExecutor\n",
    "from matplotlib import pyplot as plt\n",
    "from collections import defaultdict\n",
    "import pandas as pd\n",
    "from scipy.stats import variation, gaussian_kde, pearsonr, mannwhitneyu\n",
    "import seaborn as sns"
   ]
  },
  {
   "cell_type": "code",
   "execution_count": 387,
   "metadata": {},
   "outputs": [
    {
     "data": {
      "image/png": "[encoded data removed]",
      "text/plain": [
       "<Figure size 864x72 with 1 Axes>"
      ]
     },
     "metadata": {
      "needs_background": "light"
     },
     "output_type": "display_data"
    }
   ],
   "source": [
    "# 设置全局字体\n",
    "\n",
    "import matplotlib.font_manager as font_manager\n",
    "font_dirs = [\"/public/home/mowp/test/fonts/\"]\n",
    "font_files = font_manager.findSystemFonts(fontpaths=font_dirs)\n",
    "\n",
    "for font_file in font_files:\n",
    "    font_manager.fontManager.addfont(font_file)\n",
    "    \n",
    "plt.rcParams[\"font.family\"] = \"Arial\"\n",
    "plt.rcParams['font.size'] = 12\n",
    "\n",
    "# setting color palette\n",
    "\n",
    "pal = sns.color_palette(\"Paired\")\n",
    "sns.set_palette(pal)\n",
    "sns.palplot(pal)"
   ]
  },
  {
   "cell_type": "code",
   "execution_count": 3,
   "metadata": {},
   "outputs": [],
   "source": [
    "# 读取代表性转录本gene_model\n",
    "araport11_isoform_path = '/public/home/mowp/db/Arabidopsis_thaliana/representative_gene_model/araport11.representative.gene_model.bed'\n",
    "araport11_isoform = pd.read_csv(araport11_isoform_path, sep='\\t', \n",
    "                                names=['chrom', 'chromStart', 'chromEnd', 'name', \n",
    "                                       'score', 'strand', 'thickStart', 'thickEnd', \n",
    "                                       'itemRgb', 'blockCount', 'blockSizes', 'blockStarts']\n",
    "                               )\n",
    "araport11_isoform['gene_id'] = araport11_isoform['name'].map(lambda x: x.split('.')[0])\n",
    "araport11_isoform.set_index('gene_id', inplace=True)"
   ]
  },
  {
   "cell_type": "code",
   "execution_count": 4,
   "metadata": {},
   "outputs": [],
   "source": [
    "coding_gene = '/public/home/mowp/db/Arabidopsis_thaliana/bed/Araport11_protein_coding.201606.bed'\n",
    "coding_gene = pr.read_bed(coding_gene, as_df=True)\n",
    "coding_gene = set(coding_gene['Name'].map(lambda x: x.split('.')[0]))"
   ]
  },
  {
   "cell_type": "markdown",
   "metadata": {},
   "source": [
    "# get APA"
   ]
  },
  {
   "cell_type": "code",
   "execution_count": 5,
   "metadata": {},
   "outputs": [],
   "source": [
    "polya_cluster = '/public/home/mowp/data/total_RNA/nanopore_cdna/polya_sites/nanopore_cdna.polya_cluster.bed'\n",
    "polya_cluster = pr.read_bed(polya_cluster, as_df=True)\n",
    "polya_cluster['gene_id'] = polya_cluster.Name.map(lambda x: x.split('_')[0])"
   ]
  },
  {
   "cell_type": "code",
   "execution_count": 475,
   "metadata": {},
   "outputs": [
    {
     "data": {
      "text/plain": [
       "array([5, 26944100, 26944164, 'AT5G67530_2', 13, '+', 2.873, 'AT5G67530'],\n",
       "      dtype=object)"
      ]
     },
     "execution_count": 475,
     "metadata": {},
     "output_type": "execute_result"
    }
   ],
   "source": [
    "item"
   ]
  },
  {
   "cell_type": "code",
   "execution_count": 359,
   "metadata": {},
   "outputs": [],
   "source": [
    "# 筛选有两个polya site的基因\n",
    "apa_count = polya_cluster.groupby('gene_id').apply(len)\n",
    "apa_gene = list(apa_count[apa_count == 2].index)\n",
    "mask = polya_cluster['gene_id'].isin(apa_gene)"
   ]
  },
  {
   "cell_type": "code",
   "execution_count": 68,
   "metadata": {},
   "outputs": [],
   "source": [
    "STRAND_TO_BOOL = {'-': True, '+': False}\n",
    "def get_APA_polya_len(infile, gene_id, apa):\n",
    "    '''\n",
    "    获取同一基因不同APA isoform的polya长度\n",
    "        apa: array([1, 64279, 64360, 'AT1G01140_1', 100, '-'], dtype=object)\n",
    "    '''\n",
    "    chrom, start, end, *_, gene_strand = apa\n",
    "    chrom = str(chrom)\n",
    "    gene_strand = STRAND_TO_BOOL[gene_strand]\n",
    "    polya_len_list = []\n",
    "\n",
    "    with pysam.AlignmentFile(infile, 'rb') as inbam:\n",
    "        for read in inbam.fetch(chrom, start, end+1):\n",
    "            polya_len = read.get_tag('pa')\n",
    "            read_gene_id = read.get_tag('gi')\n",
    "            \n",
    "            if read_gene_id != gene_id:\n",
    "                continue\n",
    "            \n",
    "            three_prime_end = read.reference_start if gene_strand else read.reference_end\n",
    "            if start <= three_prime_end <= end+1:\n",
    "                polya_len_list.append(polya_len)\n",
    "\n",
    "    return polya_len_list, gene_id"
   ]
  },
  {
   "cell_type": "code",
   "execution_count": 342,
   "metadata": {},
   "outputs": [],
   "source": [
    "# multi run\n",
    "\n",
    "infile = '/public/home/mowp/data/total_RNA/nanopore_cdna/polyadenylated_data/nanopore_cdna.polyadenylated.bam'\n",
    "\n",
    "d_results, p_results = [], []\n",
    "with ProcessPoolExecutor(max_workers=64) as e:\n",
    "    for gene_id, df in polya_cluster[mask].groupby('gene_id'):\n",
    "        p_apa = df.iloc[0].values[:6]\n",
    "        d_apa = df.iloc[1].values[:6]\n",
    "        if (p_apa[-1] == '+' and d_apa[1] - p_apa[2] < 100) \\\n",
    "            or (p_apa[-1] == '-' and p_apa[1] - d_apa[2] < 100):\n",
    "            p_results.append(e.submit(get_APA_polya_len, infile, gene_id, p_apa))\n",
    "            d_results.append(e.submit(get_APA_polya_len, infile, gene_id, d_apa))"
   ]
  },
  {
   "cell_type": "code",
   "execution_count": 343,
   "metadata": {},
   "outputs": [],
   "source": [
    "polya_results = []\n",
    "for p_apa, d_apa in zip(p_results, d_results):\n",
    "    p_apa, gene_id = p_apa.result()\n",
    "    d_apa, _ = d_apa.result()\n",
    "    polya_results.append([np.median(p_apa), len(p_apa), np.median(d_apa), len(d_apa), gene_id])"
   ]
  },
  {
   "cell_type": "code",
   "execution_count": 344,
   "metadata": {},
   "outputs": [],
   "source": [
    "apa_polya_df = pd.DataFrame(polya_results, columns=['p_pas', 'len_p_pas', 'd_pas', 'len_d_pas', 'gene_id'])"
   ]
  },
  {
   "cell_type": "code",
   "execution_count": 345,
   "metadata": {},
   "outputs": [],
   "source": [
    "apa_polya_df.dropna(inplace=True)"
   ]
  },
  {
   "cell_type": "code",
   "execution_count": 346,
   "metadata": {},
   "outputs": [
    {
     "data": {
      "text/html": [
       "<div>\n",
       "<style scoped>\n",
       "    .dataframe tbody tr th:only-of-type {\n",
       "        vertical-align: middle;\n",
       "    }\n",
       "\n",
       "    .dataframe tbody tr th {\n",
       "        vertical-align: top;\n",
       "    }\n",
       "\n",
       "    .dataframe thead th {\n",
       "        text-align: right;\n",
       "    }\n",
       "</style>\n",
       "<table border=\"1\" class=\"dataframe\">\n",
       "  <thead>\n",
       "    <tr style=\"text-align: right;\">\n",
       "      <th></th>\n",
       "      <th>p_pas</th>\n",
       "      <th>len_p_pas</th>\n",
       "      <th>d_pas</th>\n",
       "      <th>len_d_pas</th>\n",
       "      <th>gene_id</th>\n",
       "    </tr>\n",
       "  </thead>\n",
       "  <tbody>\n",
       "    <tr>\n",
       "      <th>0</th>\n",
       "      <td>116.029999</td>\n",
       "      <td>100</td>\n",
       "      <td>122.980003</td>\n",
       "      <td>87</td>\n",
       "      <td>AT1G01140</td>\n",
       "    </tr>\n",
       "    <tr>\n",
       "      <th>1</th>\n",
       "      <td>116.020000</td>\n",
       "      <td>8</td>\n",
       "      <td>137.550003</td>\n",
       "      <td>20</td>\n",
       "      <td>AT1G01200</td>\n",
       "    </tr>\n",
       "    <tr>\n",
       "      <th>2</th>\n",
       "      <td>110.714996</td>\n",
       "      <td>42</td>\n",
       "      <td>112.300003</td>\n",
       "      <td>11</td>\n",
       "      <td>AT1G01260</td>\n",
       "    </tr>\n",
       "    <tr>\n",
       "      <th>3</th>\n",
       "      <td>117.199997</td>\n",
       "      <td>18</td>\n",
       "      <td>90.820000</td>\n",
       "      <td>21</td>\n",
       "      <td>AT1G01305</td>\n",
       "    </tr>\n",
       "    <tr>\n",
       "      <th>4</th>\n",
       "      <td>102.040001</td>\n",
       "      <td>81</td>\n",
       "      <td>93.489998</td>\n",
       "      <td>113</td>\n",
       "      <td>AT1G01490</td>\n",
       "    </tr>\n",
       "    <tr>\n",
       "      <th>...</th>\n",
       "      <td>...</td>\n",
       "      <td>...</td>\n",
       "      <td>...</td>\n",
       "      <td>...</td>\n",
       "      <td>...</td>\n",
       "    </tr>\n",
       "    <tr>\n",
       "      <th>2047</th>\n",
       "      <td>107.799999</td>\n",
       "      <td>12</td>\n",
       "      <td>90.720001</td>\n",
       "      <td>13</td>\n",
       "      <td>AT5G67350</td>\n",
       "    </tr>\n",
       "    <tr>\n",
       "      <th>2048</th>\n",
       "      <td>81.094997</td>\n",
       "      <td>22</td>\n",
       "      <td>109.139999</td>\n",
       "      <td>41</td>\n",
       "      <td>AT5G67390</td>\n",
       "    </tr>\n",
       "    <tr>\n",
       "      <th>2049</th>\n",
       "      <td>105.519997</td>\n",
       "      <td>33</td>\n",
       "      <td>101.129997</td>\n",
       "      <td>143</td>\n",
       "      <td>AT5G67420</td>\n",
       "    </tr>\n",
       "    <tr>\n",
       "      <th>2050</th>\n",
       "      <td>87.289997</td>\n",
       "      <td>36</td>\n",
       "      <td>105.920002</td>\n",
       "      <td>40</td>\n",
       "      <td>AT5G67460</td>\n",
       "    </tr>\n",
       "    <tr>\n",
       "      <th>2051</th>\n",
       "      <td>115.059998</td>\n",
       "      <td>89</td>\n",
       "      <td>112.339996</td>\n",
       "      <td>13</td>\n",
       "      <td>AT5G67530</td>\n",
       "    </tr>\n",
       "  </tbody>\n",
       "</table>\n",
       "<p>2052 rows × 5 columns</p>\n",
       "</div>"
      ],
      "text/plain": [
       "           p_pas  len_p_pas       d_pas  len_d_pas    gene_id\n",
       "0     116.029999        100  122.980003         87  AT1G01140\n",
       "1     116.020000          8  137.550003         20  AT1G01200\n",
       "2     110.714996         42  112.300003         11  AT1G01260\n",
       "3     117.199997         18   90.820000         21  AT1G01305\n",
       "4     102.040001         81   93.489998        113  AT1G01490\n",
       "...          ...        ...         ...        ...        ...\n",
       "2047  107.799999         12   90.720001         13  AT5G67350\n",
       "2048   81.094997         22  109.139999         41  AT5G67390\n",
       "2049  105.519997         33  101.129997        143  AT5G67420\n",
       "2050   87.289997         36  105.920002         40  AT5G67460\n",
       "2051  115.059998         89  112.339996         13  AT5G67530\n",
       "\n",
       "[2052 rows x 5 columns]"
      ]
     },
     "execution_count": 346,
     "metadata": {},
     "output_type": "execute_result"
    }
   ],
   "source": [
    "apa_polya_df"
   ]
  },
  {
   "cell_type": "code",
   "execution_count": 347,
   "metadata": {},
   "outputs": [],
   "source": [
    "# Calculate the point density\n",
    "xy = np.vstack([apa_polya_df['p_pas'], apa_polya_df['d_pas']])\n",
    "color = gaussian_kde(xy)(xy)"
   ]
  },
  {
   "cell_type": "code",
   "execution_count": 348,
   "metadata": {},
   "outputs": [
    {
     "data": {
      "image/png": "[encoded data removed]",
      "text/plain": [
       "<Figure size 266.4x216 with 2 Axes>"
      ]
     },
     "metadata": {
      "needs_background": "light"
     },
     "output_type": "display_data"
    }
   ],
   "source": [
    "plt.figure(figsize=(3.7, 3))\n",
    "plt.scatter(x=apa_polya_df['p_pas'], y=apa_polya_df['d_pas'], s=1, c=color)\n",
    "plt.xlim(0, 300)\n",
    "plt.ylim(0, 300)\n",
    "plt.plot([0, 300], [0, 300], color='#555555', ls='--')\n",
    "plt.xlabel('Median poly(A) tail length\\n(Proximal PAS)')\n",
    "plt.ylabel('Median poly(A) tail length\\n(Distal PAS)')\n",
    "plt.xticks([0, 100, 200, 300])\n",
    "plt.yticks([0, 100, 200, 300])\n",
    "colorbar = plt.colorbar()\n",
    "colorbar.set_label(\"Density\")"
   ]
  },
  {
   "cell_type": "code",
   "execution_count": null,
   "metadata": {},
   "outputs": [],
   "source": []
  },
  {
   "cell_type": "code",
   "execution_count": null,
   "metadata": {},
   "outputs": [],
   "source": [
    "df_ = apa_polya_df.loc[:, ['p_pas', 'd_pas',]].melt(var_name='type', value_name='polya_len')\n",
    "plt.figure(figsize=(3, 3))\n",
    "sns.violinplot(x='type', y='polya_len', data=df_, width=.5,)\n",
    "plt.xticks([0, 1], ['Proximal PAS', 'Distal PAS'])\n",
    "plt.ylabel('Median poly(A) tail length (nt)')\n",
    "plt.xlabel(None)"
   ]
  },
  {
   "cell_type": "code",
   "execution_count": 350,
   "metadata": {},
   "outputs": [
    {
     "name": "stdout",
     "output_type": "stream",
     "text": [
      "Proximal PAS = 108.26\n",
      "Distal PAS = 108.10\n"
     ]
    }
   ],
   "source": [
    "print(f'Proximal PAS = {np.median(apa_polya_df[\"p_pas\"]):.2f}')\n",
    "print(f'Distal PAS = {np.median(apa_polya_df[\"d_pas\"]):.2f}')"
   ]
  },
  {
   "cell_type": "code",
   "execution_count": 351,
   "metadata": {},
   "outputs": [
    {
     "data": {
      "text/plain": [
       "MannwhitneyuResult(statistic=2099982.5, pvalue=0.44375116306271645)"
      ]
     },
     "execution_count": 351,
     "metadata": {},
     "output_type": "execute_result"
    }
   ],
   "source": [
    "mannwhitneyu(apa_polya_df['p_pas'], apa_polya_df['d_pas'])"
   ]
  },
  {
   "cell_type": "markdown",
   "metadata": {},
   "source": [
    "## single gene"
   ]
  },
  {
   "cell_type": "code",
   "execution_count": 413,
   "metadata": {},
   "outputs": [
    {
     "data": {
      "text/html": [
       "<div>\n",
       "<style scoped>\n",
       "    .dataframe tbody tr th:only-of-type {\n",
       "        vertical-align: middle;\n",
       "    }\n",
       "\n",
       "    .dataframe tbody tr th {\n",
       "        vertical-align: top;\n",
       "    }\n",
       "\n",
       "    .dataframe thead th {\n",
       "        text-align: right;\n",
       "    }\n",
       "</style>\n",
       "<table border=\"1\" class=\"dataframe\">\n",
       "  <thead>\n",
       "    <tr style=\"text-align: right;\">\n",
       "      <th></th>\n",
       "      <th>Chromosome</th>\n",
       "      <th>Start</th>\n",
       "      <th>End</th>\n",
       "      <th>Name</th>\n",
       "      <th>Score</th>\n",
       "      <th>Strand</th>\n",
       "      <th>ThickStart</th>\n",
       "      <th>gene_id</th>\n",
       "    </tr>\n",
       "  </thead>\n",
       "  <tbody>\n",
       "    <tr>\n",
       "      <th>20569</th>\n",
       "      <td>5</td>\n",
       "      <td>26416560</td>\n",
       "      <td>26416659</td>\n",
       "      <td>AT5G66052_1</td>\n",
       "      <td>36</td>\n",
       "      <td>+</td>\n",
       "      <td>3.365</td>\n",
       "      <td>AT5G66052</td>\n",
       "    </tr>\n",
       "    <tr>\n",
       "      <th>20570</th>\n",
       "      <td>5</td>\n",
       "      <td>26416908</td>\n",
       "      <td>26416952</td>\n",
       "      <td>AT5G66052_2</td>\n",
       "      <td>174</td>\n",
       "      <td>+</td>\n",
       "      <td>3.605</td>\n",
       "      <td>AT5G66052</td>\n",
       "    </tr>\n",
       "  </tbody>\n",
       "</table>\n",
       "</div>"
      ],
      "text/plain": [
       "       Chromosome     Start       End         Name  Score Strand  ThickStart  \\\n",
       "20569           5  26416560  26416659  AT5G66052_1     36      +       3.365   \n",
       "20570           5  26416908  26416952  AT5G66052_2    174      +       3.605   \n",
       "\n",
       "         gene_id  \n",
       "20569  AT5G66052  \n",
       "20570  AT5G66052  "
      ]
     },
     "execution_count": 413,
     "metadata": {},
     "output_type": "execute_result"
    }
   ],
   "source": [
    "gene_id = 'AT5G66052'\n",
    "df = polya_cluster.query('gene_id == @gene_id')\n",
    "df"
   ]
  },
  {
   "cell_type": "code",
   "execution_count": 414,
   "metadata": {},
   "outputs": [],
   "source": [
    "p_apa = df.iloc[0].values[:6]\n",
    "d_apa = df.iloc[1].values[:6]\n",
    "if (p_apa[-1] == '+' and d_apa[1] - p_apa[2] > 100) \\\n",
    "    or (p_apa[-1] == '-' and p_apa[1] - d_apa[2] > 100):\n",
    "    p_results = get_APA_polya_len(infile, gene_id, p_apa)[0]\n",
    "    d_results = get_APA_polya_len(infile, gene_id, d_apa)[0]"
   ]
  },
  {
   "cell_type": "code",
   "execution_count": 415,
   "metadata": {},
   "outputs": [],
   "source": [
    "d_results = np.array(d_results)\n",
    "d_results = d_results[d_results<300]"
   ]
  },
  {
   "cell_type": "code",
   "execution_count": 416,
   "metadata": {},
   "outputs": [],
   "source": [
    "df1 = pd.DataFrame(p_results, columns=['polya_len'])\n",
    "df1['type'] = 'p_pas'\n",
    "df2 = pd.DataFrame(d_results, columns=['polya_len'])\n",
    "df2['type'] = 'd_pas'\n",
    "df = pd.concat([df1, df2])\n",
    "del df1, df2"
   ]
  },
  {
   "cell_type": "code",
   "execution_count": 419,
   "metadata": {},
   "outputs": [
    {
     "data": {
      "text/plain": [
       "Text(0.5, 0, '')"
      ]
     },
     "execution_count": 419,
     "metadata": {},
     "output_type": "execute_result"
    },
    {
     "data": {
      "image/png": "[encoded data removed]",
      "text/plain": [
       "<Figure size 216x216 with 1 Axes>"
      ]
     },
     "metadata": {
      "needs_background": "light"
     },
     "output_type": "display_data"
    }
   ],
   "source": [
    "plt.figure(figsize=(3, 3))\n",
    "plt.title(gene_id, size='medium')\n",
    "sns.violinplot(x='type', y='polya_len', data=df, width=.5)\n",
    "plt.ylabel('Median poly(A) tail length (nt)')\n",
    "plt.xticks([0, 1], ['Proximal PAS', 'Distal PAS'])\n",
    "plt.xlabel(None)"
   ]
  },
  {
   "cell_type": "code",
   "execution_count": 74,
   "metadata": {},
   "outputs": [
    {
     "name": "stdout",
     "output_type": "stream",
     "text": [
      "Proximal PAS = 71.11, n=36\n",
      "Distal PAS = 97.18, n=171\n"
     ]
    }
   ],
   "source": [
    "print(f'Proximal PAS = {np.median(p_results):.2f}, n={len(p_results)}')\n",
    "print(f'Distal PAS = {np.median(d_results):.2f}, n={len(d_results)}')"
   ]
  },
  {
   "cell_type": "code",
   "execution_count": 358,
   "metadata": {},
   "outputs": [
    {
     "data": {
      "text/plain": [
       "MannwhitneyuResult(statistic=1711.5, pvalue=1.4462208124586428e-05)"
      ]
     },
     "execution_count": 358,
     "metadata": {},
     "output_type": "execute_result"
    }
   ],
   "source": [
    "mannwhitneyu(p_results, d_results)"
   ]
  },
  {
   "cell_type": "code",
   "execution_count": null,
   "metadata": {},
   "outputs": [],
   "source": []
  },
  {
   "cell_type": "markdown",
   "metadata": {},
   "source": [
    "# CR-APA"
   ]
  },
  {
   "cell_type": "code",
   "execution_count": 332,
   "metadata": {},
   "outputs": [],
   "source": [
    "STRAND_TO_BOOL = {'-': True, '+': False}\n",
    "def get_CR_APA_polya_len(infile, gene_id, apa):\n",
    "    '''\n",
    "    获取同一基因不同APA isoform的polya长度\n",
    "        apa: array([1, 64279, 64360, 'AT1G01140_1', 100, '-'], dtype=object)\n",
    "    '''\n",
    "    polya_len_list = []\n",
    "    for apa_ in apa:\n",
    "        chrom, start, end, *_, gene_strand = apa_\n",
    "        chrom = str(chrom)\n",
    "        gene_strand = STRAND_TO_BOOL[gene_strand]\n",
    "\n",
    "        with pysam.AlignmentFile(infile, 'rb') as inbam:\n",
    "            for read in inbam.fetch(chrom, start, end+1):\n",
    "                polya_len = read.get_tag('pa')\n",
    "                read_gene_id = read.get_tag('gi')\n",
    "\n",
    "                if read_gene_id != gene_id:\n",
    "                    continue\n",
    "\n",
    "                three_prime_end = read.reference_start if gene_strand else read.reference_end\n",
    "                if start <= three_prime_end <= end+1:\n",
    "                    polya_len_list.append(polya_len)\n",
    "\n",
    "    return polya_len_list, gene_id"
   ]
  },
  {
   "cell_type": "code",
   "execution_count": 420,
   "metadata": {},
   "outputs": [],
   "source": [
    "# 筛选APA的基因\n",
    "apa_count = polya_cluster.groupby('gene_id').apply(len)\n",
    "apa_gene = list(apa_count[apa_count >= 2].index)\n",
    "mask = polya_cluster['gene_id'].isin(apa_gene)"
   ]
  },
  {
   "cell_type": "code",
   "execution_count": 423,
   "metadata": {},
   "outputs": [],
   "source": [
    "# multi run\n",
    "\n",
    "cr_apa_gene = set()\n",
    "cr_results, utr_results = [], []\n",
    "with ProcessPoolExecutor(max_workers=64) as e:\n",
    "    for gene_id, df in polya_cluster[mask].groupby('gene_id'):\n",
    "        if gene_id not in coding_gene:\n",
    "            continue\n",
    "        utr_apa, cr_apa = [], []\n",
    "        for item in df.values:\n",
    "            apa = item[:6]\n",
    "            gene_id = item[-1]\n",
    "            if (apa[5] == '+' and apa[2] < araport11_isoform.loc[gene_id, 'thickEnd']) \\\n",
    "                or (apa[5] == '-' and apa[1] > araport11_isoform.loc[gene_id, 'thickStart']+1):\n",
    "                cr_apa_gene.add(gene_id)\n",
    "                cr_apa.append(apa)\n",
    "\n",
    "            elif (apa[5] == '+' and apa[2] > araport11_isoform.loc[gene_id, 'thickEnd']) \\\n",
    "                or (apa[5] == '-' and apa[1] < araport11_isoform.loc[gene_id, 'thickStart']+1):\n",
    "                utr_apa.append(apa)\n",
    "\n",
    "        if len(cr_apa) >= 1 and len(utr_apa) >= 1:\n",
    "            cr_results.append(e.submit(get_CR_APA_polya_len, infile, gene_id, cr_apa))\n",
    "            utr_results.append(e.submit(get_CR_APA_polya_len, infile, gene_id, utr_apa))"
   ]
  },
  {
   "cell_type": "code",
   "execution_count": 424,
   "metadata": {},
   "outputs": [],
   "source": [
    "polya_results = []\n",
    "for cr_apa, utr_apa in zip(cr_results, utr_results):\n",
    "    cr_apa, gene_id = cr_apa.result()\n",
    "    utr_apa, _ = utr_apa.result()\n",
    "    p_value = -np.log10(mannwhitneyu(cr_apa, utr_apa)[1])\n",
    "    polya_results.append([np.median(cr_apa), len(cr_apa), np.median(utr_apa), len(utr_apa), p_value, gene_id])"
   ]
  },
  {
   "cell_type": "code",
   "execution_count": 425,
   "metadata": {},
   "outputs": [],
   "source": [
    "apa_polya_df = pd.DataFrame(polya_results, columns=['cr_apa', 'len_cr_apa', 'utr_apa', 'len_utr_apa', 'p_value', 'gene_id'])"
   ]
  },
  {
   "cell_type": "code",
   "execution_count": 426,
   "metadata": {},
   "outputs": [
    {
     "data": {
      "text/html": [
       "<div>\n",
       "<style scoped>\n",
       "    .dataframe tbody tr th:only-of-type {\n",
       "        vertical-align: middle;\n",
       "    }\n",
       "\n",
       "    .dataframe tbody tr th {\n",
       "        vertical-align: top;\n",
       "    }\n",
       "\n",
       "    .dataframe thead th {\n",
       "        text-align: right;\n",
       "    }\n",
       "</style>\n",
       "<table border=\"1\" class=\"dataframe\">\n",
       "  <thead>\n",
       "    <tr style=\"text-align: right;\">\n",
       "      <th></th>\n",
       "      <th>cr_apa</th>\n",
       "      <th>len_cr_apa</th>\n",
       "      <th>utr_apa</th>\n",
       "      <th>len_utr_apa</th>\n",
       "      <th>p_value</th>\n",
       "      <th>gene_id</th>\n",
       "    </tr>\n",
       "  </thead>\n",
       "  <tbody>\n",
       "    <tr>\n",
       "      <th>0</th>\n",
       "      <td>143.339996</td>\n",
       "      <td>15</td>\n",
       "      <td>176.039993</td>\n",
       "      <td>13</td>\n",
       "      <td>1.818410</td>\n",
       "      <td>AT1G01770</td>\n",
       "    </tr>\n",
       "    <tr>\n",
       "      <th>1</th>\n",
       "      <td>87.080002</td>\n",
       "      <td>23</td>\n",
       "      <td>112.279999</td>\n",
       "      <td>181</td>\n",
       "      <td>0.414587</td>\n",
       "      <td>AT1G02090</td>\n",
       "    </tr>\n",
       "    <tr>\n",
       "      <th>2</th>\n",
       "      <td>138.325005</td>\n",
       "      <td>78</td>\n",
       "      <td>145.619995</td>\n",
       "      <td>14</td>\n",
       "      <td>0.746739</td>\n",
       "      <td>AT1G03780</td>\n",
       "    </tr>\n",
       "    <tr>\n",
       "      <th>3</th>\n",
       "      <td>183.300003</td>\n",
       "      <td>9</td>\n",
       "      <td>126.879997</td>\n",
       "      <td>13</td>\n",
       "      <td>0.635817</td>\n",
       "      <td>AT1G06490</td>\n",
       "    </tr>\n",
       "    <tr>\n",
       "      <th>4</th>\n",
       "      <td>126.965000</td>\n",
       "      <td>80</td>\n",
       "      <td>208.669998</td>\n",
       "      <td>41</td>\n",
       "      <td>8.944984</td>\n",
       "      <td>AT1G06630</td>\n",
       "    </tr>\n",
       "    <tr>\n",
       "      <th>...</th>\n",
       "      <td>...</td>\n",
       "      <td>...</td>\n",
       "      <td>...</td>\n",
       "      <td>...</td>\n",
       "      <td>...</td>\n",
       "      <td>...</td>\n",
       "    </tr>\n",
       "    <tr>\n",
       "      <th>110</th>\n",
       "      <td>99.059998</td>\n",
       "      <td>31</td>\n",
       "      <td>112.705002</td>\n",
       "      <td>162</td>\n",
       "      <td>1.202241</td>\n",
       "      <td>AT5G57180</td>\n",
       "    </tr>\n",
       "    <tr>\n",
       "      <th>111</th>\n",
       "      <td>101.130001</td>\n",
       "      <td>46</td>\n",
       "      <td>131.970001</td>\n",
       "      <td>117</td>\n",
       "      <td>4.463324</td>\n",
       "      <td>AT5G58040</td>\n",
       "    </tr>\n",
       "    <tr>\n",
       "      <th>112</th>\n",
       "      <td>90.119999</td>\n",
       "      <td>78</td>\n",
       "      <td>102.224998</td>\n",
       "      <td>104</td>\n",
       "      <td>0.730499</td>\n",
       "      <td>AT5G62270</td>\n",
       "    </tr>\n",
       "    <tr>\n",
       "      <th>113</th>\n",
       "      <td>139.019997</td>\n",
       "      <td>24</td>\n",
       "      <td>97.004997</td>\n",
       "      <td>18</td>\n",
       "      <td>1.510413</td>\n",
       "      <td>AT5G63320</td>\n",
       "    </tr>\n",
       "    <tr>\n",
       "      <th>114</th>\n",
       "      <td>105.300003</td>\n",
       "      <td>59</td>\n",
       "      <td>120.040001</td>\n",
       "      <td>15</td>\n",
       "      <td>0.638662</td>\n",
       "      <td>AT5G66450</td>\n",
       "    </tr>\n",
       "  </tbody>\n",
       "</table>\n",
       "<p>115 rows × 6 columns</p>\n",
       "</div>"
      ],
      "text/plain": [
       "         cr_apa  len_cr_apa     utr_apa  len_utr_apa   p_value    gene_id\n",
       "0    143.339996          15  176.039993           13  1.818410  AT1G01770\n",
       "1     87.080002          23  112.279999          181  0.414587  AT1G02090\n",
       "2    138.325005          78  145.619995           14  0.746739  AT1G03780\n",
       "3    183.300003           9  126.879997           13  0.635817  AT1G06490\n",
       "4    126.965000          80  208.669998           41  8.944984  AT1G06630\n",
       "..          ...         ...         ...          ...       ...        ...\n",
       "110   99.059998          31  112.705002          162  1.202241  AT5G57180\n",
       "111  101.130001          46  131.970001          117  4.463324  AT5G58040\n",
       "112   90.119999          78  102.224998          104  0.730499  AT5G62270\n",
       "113  139.019997          24   97.004997           18  1.510413  AT5G63320\n",
       "114  105.300003          59  120.040001           15  0.638662  AT5G66450\n",
       "\n",
       "[115 rows x 6 columns]"
      ]
     },
     "execution_count": 426,
     "metadata": {},
     "output_type": "execute_result"
    }
   ],
   "source": [
    "apa_polya_df"
   ]
  },
  {
   "cell_type": "code",
   "execution_count": 428,
   "metadata": {},
   "outputs": [
    {
     "data": {
      "text/html": [
       "<div>\n",
       "<style scoped>\n",
       "    .dataframe tbody tr th:only-of-type {\n",
       "        vertical-align: middle;\n",
       "    }\n",
       "\n",
       "    .dataframe tbody tr th {\n",
       "        vertical-align: top;\n",
       "    }\n",
       "\n",
       "    .dataframe thead th {\n",
       "        text-align: right;\n",
       "    }\n",
       "</style>\n",
       "<table border=\"1\" class=\"dataframe\">\n",
       "  <thead>\n",
       "    <tr style=\"text-align: right;\">\n",
       "      <th></th>\n",
       "      <th>cr_apa</th>\n",
       "      <th>len_cr_apa</th>\n",
       "      <th>utr_apa</th>\n",
       "      <th>len_utr_apa</th>\n",
       "      <th>p_value</th>\n",
       "      <th>gene_id</th>\n",
       "    </tr>\n",
       "  </thead>\n",
       "  <tbody>\n",
       "    <tr>\n",
       "      <th>1</th>\n",
       "      <td>87.080002</td>\n",
       "      <td>23</td>\n",
       "      <td>112.279999</td>\n",
       "      <td>181</td>\n",
       "      <td>0.414587</td>\n",
       "      <td>AT1G02090</td>\n",
       "    </tr>\n",
       "    <tr>\n",
       "      <th>3</th>\n",
       "      <td>183.300003</td>\n",
       "      <td>9</td>\n",
       "      <td>126.879997</td>\n",
       "      <td>13</td>\n",
       "      <td>0.635817</td>\n",
       "      <td>AT1G06490</td>\n",
       "    </tr>\n",
       "    <tr>\n",
       "      <th>7</th>\n",
       "      <td>83.695000</td>\n",
       "      <td>68</td>\n",
       "      <td>90.900002</td>\n",
       "      <td>97</td>\n",
       "      <td>0.892515</td>\n",
       "      <td>AT1G13190</td>\n",
       "    </tr>\n",
       "    <tr>\n",
       "      <th>8</th>\n",
       "      <td>106.669998</td>\n",
       "      <td>11</td>\n",
       "      <td>166.000000</td>\n",
       "      <td>93</td>\n",
       "      <td>2.213058</td>\n",
       "      <td>AT1G15030</td>\n",
       "    </tr>\n",
       "    <tr>\n",
       "      <th>11</th>\n",
       "      <td>167.750000</td>\n",
       "      <td>13</td>\n",
       "      <td>117.809998</td>\n",
       "      <td>19</td>\n",
       "      <td>1.340262</td>\n",
       "      <td>AT1G22400</td>\n",
       "    </tr>\n",
       "    <tr>\n",
       "      <th>...</th>\n",
       "      <td>...</td>\n",
       "      <td>...</td>\n",
       "      <td>...</td>\n",
       "      <td>...</td>\n",
       "      <td>...</td>\n",
       "      <td>...</td>\n",
       "    </tr>\n",
       "    <tr>\n",
       "      <th>108</th>\n",
       "      <td>83.669998</td>\n",
       "      <td>15</td>\n",
       "      <td>111.805000</td>\n",
       "      <td>84</td>\n",
       "      <td>1.445050</td>\n",
       "      <td>AT5G47455</td>\n",
       "    </tr>\n",
       "    <tr>\n",
       "      <th>109</th>\n",
       "      <td>103.950001</td>\n",
       "      <td>14</td>\n",
       "      <td>121.620003</td>\n",
       "      <td>93</td>\n",
       "      <td>0.909546</td>\n",
       "      <td>AT5G54250</td>\n",
       "    </tr>\n",
       "    <tr>\n",
       "      <th>110</th>\n",
       "      <td>99.059998</td>\n",
       "      <td>31</td>\n",
       "      <td>112.705002</td>\n",
       "      <td>162</td>\n",
       "      <td>1.202241</td>\n",
       "      <td>AT5G57180</td>\n",
       "    </tr>\n",
       "    <tr>\n",
       "      <th>111</th>\n",
       "      <td>101.130001</td>\n",
       "      <td>46</td>\n",
       "      <td>131.970001</td>\n",
       "      <td>117</td>\n",
       "      <td>4.463324</td>\n",
       "      <td>AT5G58040</td>\n",
       "    </tr>\n",
       "    <tr>\n",
       "      <th>112</th>\n",
       "      <td>90.119999</td>\n",
       "      <td>78</td>\n",
       "      <td>102.224998</td>\n",
       "      <td>104</td>\n",
       "      <td>0.730499</td>\n",
       "      <td>AT5G62270</td>\n",
       "    </tr>\n",
       "  </tbody>\n",
       "</table>\n",
       "<p>82 rows × 6 columns</p>\n",
       "</div>"
      ],
      "text/plain": [
       "         cr_apa  len_cr_apa     utr_apa  len_utr_apa   p_value    gene_id\n",
       "1     87.080002          23  112.279999          181  0.414587  AT1G02090\n",
       "3    183.300003           9  126.879997           13  0.635817  AT1G06490\n",
       "7     83.695000          68   90.900002           97  0.892515  AT1G13190\n",
       "8    106.669998          11  166.000000           93  2.213058  AT1G15030\n",
       "11   167.750000          13  117.809998           19  1.340262  AT1G22400\n",
       "..          ...         ...         ...          ...       ...        ...\n",
       "108   83.669998          15  111.805000           84  1.445050  AT5G47455\n",
       "109  103.950001          14  121.620003           93  0.909546  AT5G54250\n",
       "110   99.059998          31  112.705002          162  1.202241  AT5G57180\n",
       "111  101.130001          46  131.970001          117  4.463324  AT5G58040\n",
       "112   90.119999          78  102.224998          104  0.730499  AT5G62270\n",
       "\n",
       "[82 rows x 6 columns]"
      ]
     },
     "execution_count": 428,
     "metadata": {},
     "output_type": "execute_result"
    }
   ],
   "source": [
    "apa_polya_df.query('len_cr_apa < len_utr_apa')"
   ]
  },
  {
   "cell_type": "code",
   "execution_count": 453,
   "metadata": {
    "jupyter": {
     "source_hidden": true
    }
   },
   "outputs": [],
   "source": [
    "# Calculate the point density\n",
    "xy = np.vstack([apa_polya_df['cr_apa'], apa_polya_df['utr_apa']])\n",
    "color = gaussian_kde(xy)(xy)"
   ]
  },
  {
   "cell_type": "code",
   "execution_count": 398,
   "metadata": {},
   "outputs": [
    {
     "data": {
      "text/plain": [
       "Text(0.5, 1.0, 'Median poly(A) tail (nt)')"
      ]
     },
     "execution_count": 398,
     "metadata": {},
     "output_type": "execute_result"
    },
    {
     "data": {
      "image/png": "[encoded data removed]",
      "text/plain": [
       "<Figure size 216x302.4 with 2 Axes>"
      ]
     },
     "metadata": {
      "needs_background": "light"
     },
     "output_type": "display_data"
    }
   ],
   "source": [
    "# CR-APA\n",
    "\n",
    "plt.figure(figsize=(3, 4.2))\n",
    "plt.scatter(\n",
    "    x=apa_polya_df['cr_apa'], \n",
    "    y=apa_polya_df['utr_apa'], \n",
    "    s=10, \n",
    "    c=apa_polya_df['p_value'],\n",
    "    cmap=plt.cm.get_cmap('Reds'),\n",
    "    vmax=4\n",
    ")\n",
    "plt.xlim(0, 300)\n",
    "plt.ylim(0, 300)\n",
    "plt.plot([0, 300], [0, 300], color='#555555', ls='--')\n",
    "plt.xlabel('Proximal PAS')\n",
    "plt.ylabel('Distal PAS')\n",
    "plt.xticks([0, 100, 200, 300])\n",
    "plt.yticks([0, 100, 200, 300])\n",
    "colorbar = plt.colorbar(orientation=\"horizontal\")\n",
    "colorbar.set_ticks([1, 2, 3, 4])\n",
    "colorbar.set_ticklabels([1, 2, 3, '>4'])\n",
    "colorbar.set_label(\"- $\\log_{10}\\mathrm{(pvalue)}$\", size='small')\n",
    "plt.title('Median poly(A) tail (nt)', size='medium')"
   ]
  },
  {
   "cell_type": "code",
   "execution_count": 399,
   "metadata": {},
   "outputs": [
    {
     "data": {
      "text/plain": [
       "Text(0.5, 1.0, 'CR-APA')"
      ]
     },
     "execution_count": 399,
     "metadata": {},
     "output_type": "execute_result"
    },
    {
     "data": {
      "image/png": "[encoded data removed]",
      "text/plain": [
       "<Figure size 216x216 with 1 Axes>"
      ]
     },
     "metadata": {
      "needs_background": "light"
     },
     "output_type": "display_data"
    }
   ],
   "source": [
    "df_ = apa_polya_df.loc[:, ['cr_apa', 'utr_apa',]].melt(var_name='type', value_name='polya_len')\n",
    "plt.figure(figsize=(3, 3))\n",
    "sns.violinplot(x='type', y='polya_len', data=df_, width=.5, palette=pal)\n",
    "plt.xticks([0, 1], ['Proximal PAS', 'Distal PAS'])\n",
    "plt.ylabel('Median poly(A) tail length (nt)')\n",
    "plt.xlabel(None)\n",
    "plt.title('CR-APA', size='medium')"
   ]
  },
  {
   "cell_type": "code",
   "execution_count": 466,
   "metadata": {},
   "outputs": [
    {
     "data": {
      "text/plain": [
       "MannwhitneyuResult(statistic=4285.0, pvalue=1.994678043985873e-06)"
      ]
     },
     "execution_count": 466,
     "metadata": {},
     "output_type": "execute_result"
    }
   ],
   "source": [
    "mannwhitneyu(apa_polya_df['cr_apa'], apa_polya_df['utr_apa'])"
   ]
  },
  {
   "cell_type": "code",
   "execution_count": 473,
   "metadata": {},
   "outputs": [
    {
     "name": "stdout",
     "output_type": "stream",
     "text": [
      "Proximal = 104.77, n=115\n",
      "Distal = 126.88, n=115\n"
     ]
    }
   ],
   "source": [
    "print(f'Proximal = {np.median(apa_polya_df[\"cr_apa\"]):.2f}, n={len(apa_polya_df[\"utr_apa\"])}')\n",
    "print(f'Distal = {np.median(apa_polya_df[\"utr_apa\"]):.2f}, n={len(apa_polya_df[\"utr_apa\"])}')"
   ]
  },
  {
   "cell_type": "markdown",
   "metadata": {},
   "source": [
    "## single gene"
   ]
  },
  {
   "cell_type": "code",
   "execution_count": 371,
   "metadata": {},
   "outputs": [],
   "source": [
    "gene_id = 'AT2G43410'\n",
    "\n",
    "utr_apa, cr_apa = [], []\n",
    "for item in polya_cluster[mask].query('gene_id == @gene_id').values:\n",
    "    apa = item[:6]\n",
    "    gene_id = item[-1]\n",
    "    \n",
    "    if (apa[5] == '+' and apa[2] < araport11_isoform.loc[gene_id, 'thickEnd']) \\\n",
    "        or (apa[5] == '-' and apa[1] > araport11_isoform.loc[gene_id, 'thickStart']+1):\n",
    "        cr_apa.append(apa)\n",
    "\n",
    "    elif (apa[5] == '+' and apa[2] > araport11_isoform.loc[gene_id, 'thickEnd']) \\\n",
    "        or (apa[5] == '-' and apa[1] < araport11_isoform.loc[gene_id, 'thickStart']+1):\n",
    "        utr_apa.append(apa)\n",
    "\n",
    "if len(cr_apa) >= 1 and len(utr_apa) >= 1:\n",
    "    cr_results_ = get_CR_APA_polya_len(infile, gene_id, cr_apa)[0]\n",
    "    utr_results_ = get_CR_APA_polya_len(infile, gene_id, utr_apa)[0]"
   ]
  },
  {
   "cell_type": "code",
   "execution_count": 372,
   "metadata": {},
   "outputs": [],
   "source": [
    "cr_results_ = np.array(cr_results_)\n",
    "cr_results_ = cr_results_[cr_results_<300]"
   ]
  },
  {
   "cell_type": "code",
   "execution_count": 373,
   "metadata": {},
   "outputs": [],
   "source": [
    "df1 = pd.DataFrame(cr_results_, columns=['polya_len'])\n",
    "df1['type'] = 'Proximal PAS'\n",
    "df2 = pd.DataFrame(utr_results_, columns=['polya_len'])\n",
    "df2['type'] = 'Distal PAS'\n",
    "df = pd.concat([df1, df2])\n",
    "del df1, df2"
   ]
  },
  {
   "cell_type": "code",
   "execution_count": 389,
   "metadata": {},
   "outputs": [
    {
     "data": {
      "text/plain": [
       "Text(0.5, 1.0, 'AT2G43410')"
      ]
     },
     "execution_count": 389,
     "metadata": {},
     "output_type": "execute_result"
    },
    {
     "data": {
      "image/png": "[encoded data removed]",
      "text/plain": [
       "<Figure size 216x216 with 1 Axes>"
      ]
     },
     "metadata": {
      "needs_background": "light"
     },
     "output_type": "display_data"
    }
   ],
   "source": [
    "plt.figure(figsize=(3, 3))\n",
    "sns.violinplot(x='type', y='polya_len', data=df, width=.5,)\n",
    "plt.ylabel('Poly(A) tail length (nt)')\n",
    "plt.xticks([0, 1], ['Proximal PAS', 'Distal PAS'])\n",
    "plt.xlabel(None)\n",
    "plt.title(gene_id)"
   ]
  },
  {
   "cell_type": "code",
   "execution_count": 330,
   "metadata": {},
   "outputs": [
    {
     "data": {
      "text/plain": [
       "MannwhitneyuResult(statistic=775.0, pvalue=0.018613834721067875)"
      ]
     },
     "execution_count": 330,
     "metadata": {},
     "output_type": "execute_result"
    }
   ],
   "source": [
    "mannwhitneyu(cr_results_, utr_results_)"
   ]
  },
  {
   "cell_type": "code",
   "execution_count": 331,
   "metadata": {},
   "outputs": [
    {
     "name": "stdout",
     "output_type": "stream",
     "text": [
      "Proximal PAS = 99.45, n=40\n",
      "Distal PAS = 122.63, n=52\n"
     ]
    }
   ],
   "source": [
    "print(f'Proximal PAS = {np.median(cr_results_):.2f}, n={len(cr_results_)}')\n",
    "print(f'Distal PAS = {np.median(utr_results_):.2f}, n={len(utr_results_)}')"
   ]
  },
  {
   "cell_type": "markdown",
   "metadata": {},
   "source": [
    "# UTR-APA"
   ]
  },
  {
   "cell_type": "code",
   "execution_count": 76,
   "metadata": {},
   "outputs": [],
   "source": [
    "STRAND_TO_BOOL = {'-': True, '+': False}\n",
    "def get_UTR_APA_polya_len(infile, gene_id, apa):\n",
    "    '''\n",
    "    获取同一基因不同APA isoform的polya长度\n",
    "        apa: array([1, 64279, 64360, 'AT1G01140_1', 100, '-'], dtype=object)\n",
    "    '''\n",
    "    chrom, start, end, *_, gene_strand = apa\n",
    "    chrom = str(chrom)\n",
    "    gene_strand = STRAND_TO_BOOL[gene_strand]\n",
    "    polya_len_list = []\n",
    "\n",
    "    with pysam.AlignmentFile(infile, 'rb') as inbam:\n",
    "        for read in inbam.fetch(chrom, start, end+1):\n",
    "            polya_len = read.get_tag('pa')\n",
    "            read_gene_id = read.get_tag('gi')\n",
    "            \n",
    "            if read_gene_id != gene_id:\n",
    "                continue\n",
    "            \n",
    "            three_prime_end = read.reference_start if gene_strand else read.reference_end\n",
    "            if start <= three_prime_end <= end+1:\n",
    "                polya_len_list.append(polya_len)\n",
    "\n",
    "    return polya_len_list, gene_id"
   ]
  },
  {
   "cell_type": "code",
   "execution_count": 429,
   "metadata": {},
   "outputs": [],
   "source": [
    "# 筛选APA的基因\n",
    "apa_count = polya_cluster.groupby('gene_id').apply(len)\n",
    "apa_gene = list(apa_count[apa_count == 2].index)\n",
    "mask = polya_cluster['gene_id'].isin(apa_gene)"
   ]
  },
  {
   "cell_type": "code",
   "execution_count": 430,
   "metadata": {},
   "outputs": [],
   "source": [
    "# multi run\n",
    "\n",
    "infile = '/public/home/mowp/data/total_RNA/nanopore_cdna/polyadenylated_data/nanopore_cdna.polyadenylated.bam'\n",
    "\n",
    "d_apa_result, p_apa_result, distance_result = [], [], []\n",
    "with ProcessPoolExecutor(max_workers=64) as e:\n",
    "    \n",
    "    for gene_id, df in polya_cluster[mask].groupby('gene_id'):\n",
    "        if gene_id not in coding_gene:\n",
    "            continue\n",
    "        p_apa, d_apa = None, None\n",
    "        for item in df.values:\n",
    "            apa = item[:6]\n",
    "            # apa = array([5, 26416560, 26416659, 'AT5G66052_1', 36, '+'], dtype=object)\n",
    "            gene_id = item[-1]\n",
    "\n",
    "            if (apa[5] == '+' and apa[2] > araport11_isoform.loc[gene_id, 'thickEnd']) \\\n",
    "                or (apa[5] == '-' and apa[1] < araport11_isoform.loc[gene_id, 'thickStart']+1):\n",
    "                if p_apa is None:\n",
    "                    p_apa = apa\n",
    "                else:\n",
    "                    d_apa = apa\n",
    "\n",
    "        if p_apa is not None and d_apa is not None:\n",
    "            p_apa_result.append(e.submit(get_UTR_APA_polya_len, infile, gene_id, p_apa))\n",
    "            d_apa_result.append(e.submit(get_UTR_APA_polya_len, infile, gene_id, d_apa))\n",
    "            if p_apa[-1] == '+':\n",
    "                distance_result.append(d_apa[1] - p_apa[2])\n",
    "            else:\n",
    "                distance_result.append(p_apa[1] - d_apa[2])"
   ]
  },
  {
   "cell_type": "code",
   "execution_count": 75,
   "metadata": {},
   "outputs": [
    {
     "data": {
      "text/plain": [
       "array([5, 26416560, 26416659, 'AT5G66052_1', 36, '+'], dtype=object)"
      ]
     },
     "execution_count": 75,
     "metadata": {},
     "output_type": "execute_result"
    }
   ],
   "source": [
    "p_apa"
   ]
  },
  {
   "cell_type": "code",
   "execution_count": 431,
   "metadata": {},
   "outputs": [
    {
     "name": "stdout",
     "output_type": "stream",
     "text": [
      "2252\n"
     ]
    }
   ],
   "source": [
    "polya_results = []\n",
    "n = 0\n",
    "for p_apa, d_apa, distance in zip(p_apa_result, d_apa_result, distance_result):\n",
    "    p_apa, gene_id = p_apa.result()\n",
    "    d_apa, _ = d_apa.result()\n",
    "    p_value = -np.log10(mannwhitneyu(p_apa, d_apa)[1])\n",
    "    n += 1\n",
    "    polya_results.append([np.median(p_apa), len(p_apa), np.median(d_apa), len(d_apa), distance, p_value, gene_id])\n",
    "print(n)"
   ]
  },
  {
   "cell_type": "code",
   "execution_count": 432,
   "metadata": {},
   "outputs": [],
   "source": [
    "apa_polya_df = pd.DataFrame(polya_results, columns=['p_pas', 'len_p_pas', 'd_pas', 'len_d_pas', 'distance', 'p_value','gene_id'])"
   ]
  },
  {
   "cell_type": "code",
   "execution_count": 433,
   "metadata": {},
   "outputs": [
    {
     "data": {
      "text/html": [
       "<div>\n",
       "<style scoped>\n",
       "    .dataframe tbody tr th:only-of-type {\n",
       "        vertical-align: middle;\n",
       "    }\n",
       "\n",
       "    .dataframe tbody tr th {\n",
       "        vertical-align: top;\n",
       "    }\n",
       "\n",
       "    .dataframe thead th {\n",
       "        text-align: right;\n",
       "    }\n",
       "</style>\n",
       "<table border=\"1\" class=\"dataframe\">\n",
       "  <thead>\n",
       "    <tr style=\"text-align: right;\">\n",
       "      <th></th>\n",
       "      <th>p_pas</th>\n",
       "      <th>len_p_pas</th>\n",
       "      <th>d_pas</th>\n",
       "      <th>len_d_pas</th>\n",
       "      <th>distance</th>\n",
       "      <th>p_value</th>\n",
       "      <th>gene_id</th>\n",
       "    </tr>\n",
       "  </thead>\n",
       "  <tbody>\n",
       "    <tr>\n",
       "      <th>0</th>\n",
       "      <td>116.029999</td>\n",
       "      <td>100</td>\n",
       "      <td>122.980003</td>\n",
       "      <td>87</td>\n",
       "      <td>67</td>\n",
       "      <td>0.667785</td>\n",
       "      <td>AT1G01140</td>\n",
       "    </tr>\n",
       "    <tr>\n",
       "      <th>1</th>\n",
       "      <td>116.020000</td>\n",
       "      <td>8</td>\n",
       "      <td>137.550003</td>\n",
       "      <td>20</td>\n",
       "      <td>39</td>\n",
       "      <td>1.133013</td>\n",
       "      <td>AT1G01200</td>\n",
       "    </tr>\n",
       "    <tr>\n",
       "      <th>2</th>\n",
       "      <td>110.714996</td>\n",
       "      <td>42</td>\n",
       "      <td>112.300003</td>\n",
       "      <td>11</td>\n",
       "      <td>33</td>\n",
       "      <td>0.445240</td>\n",
       "      <td>AT1G01260</td>\n",
       "    </tr>\n",
       "    <tr>\n",
       "      <th>3</th>\n",
       "      <td>117.199997</td>\n",
       "      <td>18</td>\n",
       "      <td>90.820000</td>\n",
       "      <td>21</td>\n",
       "      <td>25</td>\n",
       "      <td>2.030225</td>\n",
       "      <td>AT1G01305</td>\n",
       "    </tr>\n",
       "    <tr>\n",
       "      <th>4</th>\n",
       "      <td>102.040001</td>\n",
       "      <td>81</td>\n",
       "      <td>93.489998</td>\n",
       "      <td>113</td>\n",
       "      <td>45</td>\n",
       "      <td>0.491868</td>\n",
       "      <td>AT1G01490</td>\n",
       "    </tr>\n",
       "    <tr>\n",
       "      <th>...</th>\n",
       "      <td>...</td>\n",
       "      <td>...</td>\n",
       "      <td>...</td>\n",
       "      <td>...</td>\n",
       "      <td>...</td>\n",
       "      <td>...</td>\n",
       "      <td>...</td>\n",
       "    </tr>\n",
       "    <tr>\n",
       "      <th>2247</th>\n",
       "      <td>107.799999</td>\n",
       "      <td>12</td>\n",
       "      <td>90.720001</td>\n",
       "      <td>13</td>\n",
       "      <td>66</td>\n",
       "      <td>0.441487</td>\n",
       "      <td>AT5G67350</td>\n",
       "    </tr>\n",
       "    <tr>\n",
       "      <th>2248</th>\n",
       "      <td>81.094997</td>\n",
       "      <td>22</td>\n",
       "      <td>109.139999</td>\n",
       "      <td>41</td>\n",
       "      <td>33</td>\n",
       "      <td>1.109119</td>\n",
       "      <td>AT5G67390</td>\n",
       "    </tr>\n",
       "    <tr>\n",
       "      <th>2249</th>\n",
       "      <td>105.519997</td>\n",
       "      <td>33</td>\n",
       "      <td>101.129997</td>\n",
       "      <td>143</td>\n",
       "      <td>61</td>\n",
       "      <td>0.340095</td>\n",
       "      <td>AT5G67420</td>\n",
       "    </tr>\n",
       "    <tr>\n",
       "      <th>2250</th>\n",
       "      <td>87.289997</td>\n",
       "      <td>36</td>\n",
       "      <td>105.920002</td>\n",
       "      <td>40</td>\n",
       "      <td>34</td>\n",
       "      <td>2.004616</td>\n",
       "      <td>AT5G67460</td>\n",
       "    </tr>\n",
       "    <tr>\n",
       "      <th>2251</th>\n",
       "      <td>115.059998</td>\n",
       "      <td>89</td>\n",
       "      <td>112.339996</td>\n",
       "      <td>13</td>\n",
       "      <td>51</td>\n",
       "      <td>0.392714</td>\n",
       "      <td>AT5G67530</td>\n",
       "    </tr>\n",
       "  </tbody>\n",
       "</table>\n",
       "<p>2252 rows × 7 columns</p>\n",
       "</div>"
      ],
      "text/plain": [
       "           p_pas  len_p_pas       d_pas  len_d_pas  distance   p_value  \\\n",
       "0     116.029999        100  122.980003         87        67  0.667785   \n",
       "1     116.020000          8  137.550003         20        39  1.133013   \n",
       "2     110.714996         42  112.300003         11        33  0.445240   \n",
       "3     117.199997         18   90.820000         21        25  2.030225   \n",
       "4     102.040001         81   93.489998        113        45  0.491868   \n",
       "...          ...        ...         ...        ...       ...       ...   \n",
       "2247  107.799999         12   90.720001         13        66  0.441487   \n",
       "2248   81.094997         22  109.139999         41        33  1.109119   \n",
       "2249  105.519997         33  101.129997        143        61  0.340095   \n",
       "2250   87.289997         36  105.920002         40        34  2.004616   \n",
       "2251  115.059998         89  112.339996         13        51  0.392714   \n",
       "\n",
       "        gene_id  \n",
       "0     AT1G01140  \n",
       "1     AT1G01200  \n",
       "2     AT1G01260  \n",
       "3     AT1G01305  \n",
       "4     AT1G01490  \n",
       "...         ...  \n",
       "2247  AT5G67350  \n",
       "2248  AT5G67390  \n",
       "2249  AT5G67420  \n",
       "2250  AT5G67460  \n",
       "2251  AT5G67530  \n",
       "\n",
       "[2252 rows x 7 columns]"
      ]
     },
     "execution_count": 433,
     "metadata": {},
     "output_type": "execute_result"
    }
   ],
   "source": [
    "apa_polya_df"
   ]
  },
  {
   "cell_type": "code",
   "execution_count": 194,
   "metadata": {},
   "outputs": [
    {
     "data": {
      "text/plain": [
       "1.3010299956639813"
      ]
     },
     "execution_count": 194,
     "metadata": {},
     "output_type": "execute_result"
    }
   ],
   "source": [
    "-np.log10(0.05)"
   ]
  },
  {
   "cell_type": "code",
   "execution_count": 255,
   "metadata": {},
   "outputs": [
    {
     "data": {
      "text/html": [
       "<div>\n",
       "<style scoped>\n",
       "    .dataframe tbody tr th:only-of-type {\n",
       "        vertical-align: middle;\n",
       "    }\n",
       "\n",
       "    .dataframe tbody tr th {\n",
       "        vertical-align: top;\n",
       "    }\n",
       "\n",
       "    .dataframe thead th {\n",
       "        text-align: right;\n",
       "    }\n",
       "</style>\n",
       "<table border=\"1\" class=\"dataframe\">\n",
       "  <thead>\n",
       "    <tr style=\"text-align: right;\">\n",
       "      <th></th>\n",
       "      <th>p_pas</th>\n",
       "      <th>len_p_pas</th>\n",
       "      <th>d_pas</th>\n",
       "      <th>len_d_pas</th>\n",
       "      <th>distance</th>\n",
       "      <th>p_value</th>\n",
       "      <th>gene_id</th>\n",
       "    </tr>\n",
       "  </thead>\n",
       "  <tbody>\n",
       "    <tr>\n",
       "      <th>9</th>\n",
       "      <td>76.760002</td>\n",
       "      <td>81</td>\n",
       "      <td>109.099998</td>\n",
       "      <td>12</td>\n",
       "      <td>283</td>\n",
       "      <td>2.997517</td>\n",
       "      <td>AT1G01990</td>\n",
       "    </tr>\n",
       "    <tr>\n",
       "      <th>40</th>\n",
       "      <td>80.120003</td>\n",
       "      <td>151</td>\n",
       "      <td>169.080002</td>\n",
       "      <td>143</td>\n",
       "      <td>644</td>\n",
       "      <td>32.492055</td>\n",
       "      <td>AT1G05870</td>\n",
       "    </tr>\n",
       "    <tr>\n",
       "      <th>51</th>\n",
       "      <td>101.680000</td>\n",
       "      <td>97</td>\n",
       "      <td>121.330002</td>\n",
       "      <td>176</td>\n",
       "      <td>124</td>\n",
       "      <td>3.334667</td>\n",
       "      <td>AT1G06890</td>\n",
       "    </tr>\n",
       "    <tr>\n",
       "      <th>72</th>\n",
       "      <td>87.099998</td>\n",
       "      <td>11</td>\n",
       "      <td>122.305000</td>\n",
       "      <td>10</td>\n",
       "      <td>54</td>\n",
       "      <td>2.038002</td>\n",
       "      <td>AT1G08500</td>\n",
       "    </tr>\n",
       "    <tr>\n",
       "      <th>77</th>\n",
       "      <td>91.945000</td>\n",
       "      <td>86</td>\n",
       "      <td>109.540001</td>\n",
       "      <td>120</td>\n",
       "      <td>186</td>\n",
       "      <td>3.121482</td>\n",
       "      <td>AT1G08970</td>\n",
       "    </tr>\n",
       "    <tr>\n",
       "      <th>...</th>\n",
       "      <td>...</td>\n",
       "      <td>...</td>\n",
       "      <td>...</td>\n",
       "      <td>...</td>\n",
       "      <td>...</td>\n",
       "      <td>...</td>\n",
       "      <td>...</td>\n",
       "    </tr>\n",
       "    <tr>\n",
       "      <th>2210</th>\n",
       "      <td>121.580002</td>\n",
       "      <td>107</td>\n",
       "      <td>201.794998</td>\n",
       "      <td>56</td>\n",
       "      <td>696</td>\n",
       "      <td>10.649276</td>\n",
       "      <td>AT5G63370</td>\n",
       "    </tr>\n",
       "    <tr>\n",
       "      <th>2230</th>\n",
       "      <td>93.470001</td>\n",
       "      <td>13</td>\n",
       "      <td>155.020004</td>\n",
       "      <td>46</td>\n",
       "      <td>50</td>\n",
       "      <td>2.157880</td>\n",
       "      <td>AT5G65180</td>\n",
       "    </tr>\n",
       "    <tr>\n",
       "      <th>2236</th>\n",
       "      <td>71.110001</td>\n",
       "      <td>36</td>\n",
       "      <td>98.494999</td>\n",
       "      <td>174</td>\n",
       "      <td>249</td>\n",
       "      <td>5.026903</td>\n",
       "      <td>AT5G66052</td>\n",
       "    </tr>\n",
       "    <tr>\n",
       "      <th>2246</th>\n",
       "      <td>81.134998</td>\n",
       "      <td>22</td>\n",
       "      <td>106.889999</td>\n",
       "      <td>133</td>\n",
       "      <td>40</td>\n",
       "      <td>2.459450</td>\n",
       "      <td>AT5G67280</td>\n",
       "    </tr>\n",
       "    <tr>\n",
       "      <th>2250</th>\n",
       "      <td>87.289997</td>\n",
       "      <td>36</td>\n",
       "      <td>105.920002</td>\n",
       "      <td>40</td>\n",
       "      <td>34</td>\n",
       "      <td>2.004616</td>\n",
       "      <td>AT5G67460</td>\n",
       "    </tr>\n",
       "  </tbody>\n",
       "</table>\n",
       "<p>79 rows × 7 columns</p>\n",
       "</div>"
      ],
      "text/plain": [
       "           p_pas  len_p_pas       d_pas  len_d_pas  distance    p_value  \\\n",
       "9      76.760002         81  109.099998         12       283   2.997517   \n",
       "40     80.120003        151  169.080002        143       644  32.492055   \n",
       "51    101.680000         97  121.330002        176       124   3.334667   \n",
       "72     87.099998         11  122.305000         10        54   2.038002   \n",
       "77     91.945000         86  109.540001        120       186   3.121482   \n",
       "...          ...        ...         ...        ...       ...        ...   \n",
       "2210  121.580002        107  201.794998         56       696  10.649276   \n",
       "2230   93.470001         13  155.020004         46        50   2.157880   \n",
       "2236   71.110001         36   98.494999        174       249   5.026903   \n",
       "2246   81.134998         22  106.889999        133        40   2.459450   \n",
       "2250   87.289997         36  105.920002         40        34   2.004616   \n",
       "\n",
       "        gene_id  \n",
       "9     AT1G01990  \n",
       "40    AT1G05870  \n",
       "51    AT1G06890  \n",
       "72    AT1G08500  \n",
       "77    AT1G08970  \n",
       "...         ...  \n",
       "2210  AT5G63370  \n",
       "2230  AT5G65180  \n",
       "2236  AT5G66052  \n",
       "2246  AT5G67280  \n",
       "2250  AT5G67460  \n",
       "\n",
       "[79 rows x 7 columns]"
      ]
     },
     "execution_count": 255,
     "metadata": {},
     "output_type": "execute_result"
    }
   ],
   "source": [
    "apa_polya_df.query('p_value > 2 & p_pas < d_pas')"
   ]
  },
  {
   "cell_type": "code",
   "execution_count": 58,
   "metadata": {
    "jupyter": {
     "source_hidden": true
    }
   },
   "outputs": [],
   "source": [
    "# Calculate the point density\n",
    "xy = np.vstack([apa_polya_df['p_pas'], apa_polya_df['d_pas']])\n",
    "color = gaussian_kde(xy)(xy)"
   ]
  },
  {
   "cell_type": "code",
   "execution_count": 407,
   "metadata": {
    "collapsed": true,
    "jupyter": {
     "outputs_hidden": true,
     "source_hidden": true
    }
   },
   "outputs": [
    {
     "data": {
      "text/plain": [
       "Text(0.5, 1.0, 'Median poly(A) tail (nt)')"
      ]
     },
     "execution_count": 407,
     "metadata": {},
     "output_type": "execute_result"
    },
    {
     "data": {
      "image/png": "[encoded data removed]",
      "text/plain": [
       "<Figure size 216x302.4 with 2 Axes>"
      ]
     },
     "metadata": {
      "needs_background": "light"
     },
     "output_type": "display_data"
    }
   ],
   "source": [
    "plt.figure(figsize=(3, 4.2))\n",
    "\n",
    "plt.scatter(\n",
    "    x=apa_polya_df['p_pas'], \n",
    "    y=apa_polya_df['d_pas'], \n",
    "    s=10, \n",
    "    c=np.log10(apa_polya_df['distance']), \n",
    "    cmap=plt.cm.get_cmap('Reds'),\n",
    ")\n",
    "plt.xlim(0, 300)\n",
    "plt.ylim(0, 300)\n",
    "plt.plot([0, 300], [0, 300], color='#555555', ls='--')\n",
    "plt.xlabel('Proximal PAS')\n",
    "plt.ylabel('Distal PAS')\n",
    "plt.xticks([0, 100, 200, 300])\n",
    "plt.yticks([0, 100, 200, 300])\n",
    "colorbar = plt.colorbar(orientation=\"horizontal\")\n",
    "colorbar.set_label(\"$\\log_{10}\\mathrm{(distance)}$\", size='small')\n",
    "colorbar.set_ticks([1.5, 2.0, 2.5, 3.0])\n",
    "plt.title('Median poly(A) tail (nt)', size='medium')\n",
    "# plt.title('UTR-APA')"
   ]
  },
  {
   "cell_type": "code",
   "execution_count": 408,
   "metadata": {},
   "outputs": [
    {
     "data": {
      "text/plain": [
       "Text(0.5, 1.0, 'Median poly(A) tail (nt)')"
      ]
     },
     "execution_count": 408,
     "metadata": {},
     "output_type": "execute_result"
    },
    {
     "data": {
      "image/png": "[encoded data removed]",
      "text/plain": [
       "<Figure size 216x302.4 with 2 Axes>"
      ]
     },
     "metadata": {
      "needs_background": "light"
     },
     "output_type": "display_data"
    }
   ],
   "source": [
    "plt.figure(figsize=(3, 4.2))\n",
    "\n",
    "apa_polya_df_ = apa_polya_df.sort_values(by=['p_value'])\n",
    "plt.scatter(\n",
    "    x=apa_polya_df_['p_pas'], \n",
    "    y=apa_polya_df_['d_pas'], \n",
    "    s=10, \n",
    "    c=apa_polya_df_['p_value'], \n",
    "    cmap=plt.cm.get_cmap('Reds'),\n",
    "    vmax=4,\n",
    ")\n",
    "plt.xlim(0, 300)\n",
    "plt.ylim(0, 300)\n",
    "plt.plot([0, 300], [0, 300], color='#555555', ls='--')\n",
    "plt.xlabel('Proximal PAS')\n",
    "plt.ylabel('Distal PAS')\n",
    "plt.xticks([0, 100, 200, 300])\n",
    "plt.yticks([0, 100, 200, 300])\n",
    "colorbar = plt.colorbar(orientation=\"horizontal\")\n",
    "colorbar.set_ticks([1, 2, 3, 4])\n",
    "colorbar.set_ticklabels([1, 2, 3, '>4'])\n",
    "colorbar.set_label(\"- $\\log_{10}\\mathrm{(pvalue)}$\", size='small')\n",
    "plt.title('Median poly(A) tail (nt)', size='medium')\n",
    "# plt.title('UTR-APA')\n",
    "# plt.tight_layout()"
   ]
  },
  {
   "cell_type": "code",
   "execution_count": 304,
   "metadata": {},
   "outputs": [
    {
     "data": {
      "image/png": "[encoded data removed]",
      "text/plain": [
       "<Figure size 216x302.4 with 2 Axes>"
      ]
     },
     "metadata": {
      "needs_background": "light"
     },
     "output_type": "display_data"
    }
   ],
   "source": [
    "plt.figure(figsize=(3, 4.2))\n",
    "\n",
    "apa_polya_df_ = apa_polya_df.sort_values(by=['p_value'])\n",
    "plt.scatter(\n",
    "    y=apa_polya_df_['d_pas']-apa_polya_df_['p_pas'], \n",
    "#     y=apa_polya_df_['p_value'],\n",
    "    x=np.log10(apa_polya_df_['distance']), \n",
    "    s=10, \n",
    "    c=apa_polya_df_['p_value'], \n",
    "    cmap=plt.cm.get_cmap('Blues'),\n",
    "    vmax=4,\n",
    ")\n",
    "# plt.xlim(0, 300)\n",
    "# plt.ylim(0, 300)\n",
    "plt.axhline(0, ls='--', color='#555555')\n",
    "plt.xlabel('$\\log_{10}\\mathrm{(distance)}$')\n",
    "plt.ylabel('Δ (median poly(A) tail length)')\n",
    "# plt.ylabel('Median poly(A) tail length\\n(Distal PAS)')\n",
    "# plt.xticks([0, 100, 200, 300])\n",
    "# plt.yticks([0, 100, 200, 300])\n",
    "colorbar = plt.colorbar(orientation=\"horizontal\")\n",
    "colorbar.set_ticks([1, 2, 3, 4])\n",
    "colorbar.set_ticklabels([1, 2, 3, '>4'])\n",
    "colorbar.set_label(\"- $\\log_{10}\\mathrm{(pvalue)}$\", size='small')\n",
    "# colorbar.set_label(\"- $\\log_{10}\\mathrm{(pvalue)}$\")\n",
    "# plt.title('UTR-APA')"
   ]
  },
  {
   "cell_type": "code",
   "execution_count": 320,
   "metadata": {},
   "outputs": [
    {
     "data": {
      "image/png": "[encoded data removed]",
      "text/plain": [
       "<Figure size 216x302.4 with 2 Axes>"
      ]
     },
     "metadata": {
      "needs_background": "light"
     },
     "output_type": "display_data"
    }
   ],
   "source": [
    "plt.figure(figsize=(3, 4.2))\n",
    "\n",
    "apa_polya_df_ = apa_polya_df.sort_values(by=['p_value'])\n",
    "plt.scatter(\n",
    "    x=np.log10(apa_polya_df_['distance']), \n",
    "    y=apa_polya_df_['p_value'],\n",
    "    s=10, \n",
    "    c=apa_polya_df_['d_pas']-apa_polya_df_['p_pas'], \n",
    "    cmap=plt.cm.get_cmap('coolwarm'),\n",
    "    vmin=-110,\n",
    "    vmax=110,\n",
    ")\n",
    "# plt.xlim(0, 300)\n",
    "# plt.ylim(0, 300)\n",
    "# plt.axhline(2, ls='--', color='#555555')\n",
    "plt.xlabel('Distance between poly(A) sites (nt)')\n",
    "plt.ylabel('- $\\log_{10}\\mathrm{(pvalue)}$')\n",
    "# plt.ylabel('Median poly(A) tail length\\n(Distal PAS)')\n",
    "# plt.xticks([0, 100, 200, 300])\n",
    "# plt.yticks([0, 100, 200, 300])\n",
    "colorbar = plt.colorbar(orientation=\"horizontal\")\n",
    "# colorbar.set_ticks([1, 2, 3, 4])\n",
    "# colorbar.set_ticklabels([1, 2, 3, '>4'])\n",
    "colorbar.set_label('Δ (Median poly(A) tail length)\\n(Distal - Proximal)')\n",
    "# colorbar.set_label(\"- $\\log_{10}\\mathrm{(pvalue)}$\")\n",
    "# plt.title('UTR-APA')"
   ]
  },
  {
   "cell_type": "code",
   "execution_count": 412,
   "metadata": {},
   "outputs": [
    {
     "data": {
      "text/plain": [
       "Text(0.5, 1.0, 'UTR-APA')"
      ]
     },
     "execution_count": 412,
     "metadata": {},
     "output_type": "execute_result"
    },
    {
     "data": {
      "image/png": "[encoded data removed]",
      "text/plain": [
       "<Figure size 216x216 with 1 Axes>"
      ]
     },
     "metadata": {
      "needs_background": "light"
     },
     "output_type": "display_data"
    }
   ],
   "source": [
    "apa_polya_df_ = apa_polya_df.query('p_value > 2')\n",
    "df_ = apa_polya_df_.loc[:, ['p_pas', 'd_pas',]].melt(var_name='type', value_name='polya_len')\n",
    "plt.figure(figsize=(3, 3))\n",
    "sns.violinplot(x='type', y='polya_len', data=df_, width=.5,)\n",
    "plt.xticks([0, 1], ['Proximal PAS', 'Distal PAS'])\n",
    "plt.ylabel('Median poly(A) tail length (nt)')\n",
    "plt.xlabel(None)\n",
    "plt.title('UTR-APA', size='medium')"
   ]
  },
  {
   "cell_type": "code",
   "execution_count": 61,
   "metadata": {},
   "outputs": [
    {
     "data": {
      "text/plain": [
       "MannwhitneyuResult(statistic=5834.5, pvalue=0.0005180507464515315)"
      ]
     },
     "execution_count": 61,
     "metadata": {},
     "output_type": "execute_result"
    }
   ],
   "source": [
    "mannwhitneyu(apa_polya_df['p_pas'], apa_polya_df['d_pas'])"
   ]
  },
  {
   "cell_type": "code",
   "execution_count": 63,
   "metadata": {},
   "outputs": [
    {
     "name": "stdout",
     "output_type": "stream",
     "text": [
      "Proximal = 100.50, n=124\n",
      "Distal = 115.08, n=124\n"
     ]
    }
   ],
   "source": [
    "print(f'Proximal = {np.median(apa_polya_df[\"p_pas\"]):.2f}, n={len(apa_polya_df[\"p_pas\"])}')\n",
    "print(f'Distal = {np.median(apa_polya_df[\"d_pas\"]):.2f}, n={len(apa_polya_df[\"d_pas\"])}')"
   ]
  },
  {
   "cell_type": "markdown",
   "metadata": {},
   "source": [
    "# utr length vs polya length"
   ]
  },
  {
   "cell_type": "code",
   "execution_count": 8,
   "metadata": {},
   "outputs": [],
   "source": [
    "polya_sites = '/public/home/mowp/data/total_RNA/nanopore_cdna/polya_sites/nanopore_cdna.polya_cluster.summit.bed'\n",
    "polya_sites = pr.read_bed(polya_sites, as_df=True)"
   ]
  },
  {
   "cell_type": "code",
   "execution_count": 9,
   "metadata": {},
   "outputs": [],
   "source": [
    "def get_utr_len(pac_name, gene_id):\n",
    "    pas_data = polya_sites.query('Name == @pac_name').values[0]\n",
    "    pas = pas_data[2]\n",
    "    strand = pas_data[5]\n",
    "    \n",
    "    if strand == '+':\n",
    "        return pas-araport11_isoform.at[gene_id, 'thickEnd']\n",
    "    else:\n",
    "        return araport11_isoform.at[gene_id, 'thickStart']-pas+1"
   ]
  },
  {
   "cell_type": "code",
   "execution_count": 260,
   "metadata": {},
   "outputs": [],
   "source": [
    "# multi run\n",
    "\n",
    "infile = '/public/home/mowp/data/total_RNA/nanopore_cdna/polyadenylated_data/nanopore_cdna.polyadenylated.bam'\n",
    "\n",
    "apa_result = []\n",
    "utr_len = []\n",
    "with ProcessPoolExecutor(max_workers=64) as e:\n",
    "    \n",
    "    for gene_id, df in polya_cluster.groupby('gene_id'):\n",
    "        if gene_id not in coding_gene:\n",
    "            continue\n",
    "\n",
    "        for item in df.values:\n",
    "            apa = item[:6]\n",
    "            if (apa[5] == '+' and apa[2] > araport11_isoform.loc[gene_id, 'thickEnd']) \\\n",
    "                or (apa[5] == '-' and apa[1] < araport11_isoform.loc[gene_id, 'thickStart']+1):\n",
    "                apa_result.append(e.submit(get_UTR_APA_polya_len, infile, gene_id, apa))\n",
    "                utr_len.append(e.submit(get_utr_len,apa[3], gene_id))"
   ]
  },
  {
   "cell_type": "code",
   "execution_count": 261,
   "metadata": {},
   "outputs": [],
   "source": [
    "polya_results = []\n",
    "for polya_len, utr_len_ in zip(apa_result, utr_len):\n",
    "    polya_len, gene_id = polya_len.result()\n",
    "    utr_len_ = utr_len_.result()\n",
    "    if len(polya_len) >= 10:\n",
    "        polya_results.append([np.median(polya_len), len(polya_len), utr_len_, gene_id])"
   ]
  },
  {
   "cell_type": "code",
   "execution_count": 262,
   "metadata": {},
   "outputs": [],
   "source": [
    "polya_len_with_utr_len = pd.DataFrame(polya_results, columns=['polya_len', 'counts', 'utr_len', 'gene_id'])"
   ]
  },
  {
   "cell_type": "code",
   "execution_count": 272,
   "metadata": {},
   "outputs": [],
   "source": [
    "polya_len_with_utr_len = polya_len_with_utr_len.query('utr_len > 0')"
   ]
  },
  {
   "cell_type": "code",
   "execution_count": 274,
   "metadata": {},
   "outputs": [],
   "source": [
    "polya_len_with_utr_len['log10_utr_len'] = np.log10(polya_len_with_utr_len['utr_len'])"
   ]
  },
  {
   "cell_type": "code",
   "execution_count": 273,
   "metadata": {},
   "outputs": [],
   "source": [
    "# Calculate the point density\n",
    "xy = np.vstack([polya_len_with_utr_len['polya_len'], polya_len_with_utr_len['log10_utr_len']])\n",
    "color = gaussian_kde(xy)(xy)"
   ]
  },
  {
   "cell_type": "code",
   "execution_count": 275,
   "metadata": {},
   "outputs": [
    {
     "data": {
      "text/plain": [
       "Text(0.5, 0, \"3' UTR length\")"
      ]
     },
     "execution_count": 275,
     "metadata": {},
     "output_type": "execute_result"
    },
    {
     "data": {
      "image/png": "[encoded data removed]",
      "text/plain": [
       "<Figure size 266.4x216 with 1 Axes>"
      ]
     },
     "metadata": {
      "needs_background": "light"
     },
     "output_type": "display_data"
    }
   ],
   "source": [
    "plt.figure(figsize=(3.7, 3))\n",
    "plt.scatter(y=polya_len_with_utr_len['polya_len'], x=polya_len_with_utr_len['log10_utr_len'], s=.1, c=color)\n",
    "# plt.ylim(0, 300)\n",
    "# plt.xlim(0, 1000)\n",
    "# plt.plot([0, 300], [0, 300], color='#555555', ls='--')\n",
    "plt.ylabel('Median poly(A) tail length')\n",
    "plt.xlabel('3\\' UTR length')\n",
    "# plt.xticks([0, 100, 200, 300])\n",
    "# plt.yticks([0, 100, 200, 300])\n",
    "# colorbar = plt.colorbar()\n",
    "# colorbar.set_label(\"Density\")\n",
    "# plt.title('UTR-APA')"
   ]
  },
  {
   "cell_type": "code",
   "execution_count": 276,
   "metadata": {},
   "outputs": [
    {
     "data": {
      "text/html": [
       "<div>\n",
       "<style scoped>\n",
       "    .dataframe tbody tr th:only-of-type {\n",
       "        vertical-align: middle;\n",
       "    }\n",
       "\n",
       "    .dataframe tbody tr th {\n",
       "        vertical-align: top;\n",
       "    }\n",
       "\n",
       "    .dataframe thead th {\n",
       "        text-align: right;\n",
       "    }\n",
       "</style>\n",
       "<table border=\"1\" class=\"dataframe\">\n",
       "  <thead>\n",
       "    <tr style=\"text-align: right;\">\n",
       "      <th></th>\n",
       "      <th>polya_len</th>\n",
       "      <th>counts</th>\n",
       "      <th>utr_len</th>\n",
       "      <th>log10_utr_len</th>\n",
       "    </tr>\n",
       "  </thead>\n",
       "  <tbody>\n",
       "    <tr>\n",
       "      <th>polya_len</th>\n",
       "      <td>1.000000</td>\n",
       "      <td>-0.124756</td>\n",
       "      <td>0.121689</td>\n",
       "      <td>0.095561</td>\n",
       "    </tr>\n",
       "    <tr>\n",
       "      <th>counts</th>\n",
       "      <td>-0.124756</td>\n",
       "      <td>1.000000</td>\n",
       "      <td>-0.023875</td>\n",
       "      <td>-0.015381</td>\n",
       "    </tr>\n",
       "    <tr>\n",
       "      <th>utr_len</th>\n",
       "      <td>0.121689</td>\n",
       "      <td>-0.023875</td>\n",
       "      <td>1.000000</td>\n",
       "      <td>0.776496</td>\n",
       "    </tr>\n",
       "    <tr>\n",
       "      <th>log10_utr_len</th>\n",
       "      <td>0.095561</td>\n",
       "      <td>-0.015381</td>\n",
       "      <td>0.776496</td>\n",
       "      <td>1.000000</td>\n",
       "    </tr>\n",
       "  </tbody>\n",
       "</table>\n",
       "</div>"
      ],
      "text/plain": [
       "               polya_len    counts   utr_len  log10_utr_len\n",
       "polya_len       1.000000 -0.124756  0.121689       0.095561\n",
       "counts         -0.124756  1.000000 -0.023875      -0.015381\n",
       "utr_len         0.121689 -0.023875  1.000000       0.776496\n",
       "log10_utr_len   0.095561 -0.015381  0.776496       1.000000"
      ]
     },
     "execution_count": 276,
     "metadata": {},
     "output_type": "execute_result"
    }
   ],
   "source": [
    "polya_len_with_utr_len.corr()"
   ]
  },
  {
   "cell_type": "markdown",
   "metadata": {},
   "source": [
    "# polyadenylation diversity"
   ]
  },
  {
   "cell_type": "code",
   "execution_count": 364,
   "metadata": {},
   "outputs": [],
   "source": [
    "# multi run\n",
    "\n",
    "infile = '/public/home/mowp/data/total_RNA/nanopore_cdna/polyadenylated_data/nanopore_cdna.polyadenylated.bam'\n",
    "result = []\n",
    "entropy = []\n",
    "with ProcessPoolExecutor(max_workers=64) as e:\n",
    "    for item in polya_cluster.values:\n",
    "        apa = item[:6]\n",
    "        gene_id = item[-1]\n",
    "        entropy.append(item[-2])\n",
    "        result.append(e.submit(get_APA_polya_len, infile, gene_id, apa))"
   ]
  },
  {
   "cell_type": "code",
   "execution_count": 393,
   "metadata": {},
   "outputs": [],
   "source": [
    "diversity_result = []\n",
    "for polya_len_res, entropy_ in zip(result, entropy):\n",
    "    polya_len_list, gene_id = polya_len_res.result()\n",
    "    if len(polya_len_list) >= 5:\n",
    "        diversity_result.append([np.median(polya_len_list), variation(polya_len_list), entropy_])"
   ]
  },
  {
   "cell_type": "code",
   "execution_count": 394,
   "metadata": {},
   "outputs": [],
   "source": [
    "df = pd.DataFrame(diversity_result, columns=['polya_len', 'cv', 'entropy'])\n",
    "df.dropna(inplace=True)"
   ]
  },
  {
   "cell_type": "code",
   "execution_count": 395,
   "metadata": {},
   "outputs": [
    {
     "data": {
      "text/plain": [
       "Text(0, 0.5, 'CV of poly(A) tail length')"
      ]
     },
     "execution_count": 395,
     "metadata": {},
     "output_type": "execute_result"
    },
    {
     "data": {
      "image/png": "[encoded data removed]",
      "text/plain": [
       "<Figure size 223.2x216 with 1 Axes>"
      ]
     },
     "metadata": {
      "needs_background": "light"
     },
     "output_type": "display_data"
    }
   ],
   "source": [
    "plt.figure(figsize=(3.1, 3))\n",
    "sns.regplot(\n",
    "    x=\"entropy\", \n",
    "    y=\"cv\", \n",
    "    data=df, \n",
    "    scatter_kws={'s' :.5},\n",
    "    line_kws={'color': 'maroon'},\n",
    ")\n",
    "plt.xlabel('Polyadenylation diversity')\n",
    "plt.ylabel('CV of poly(A) tail length')"
   ]
  },
  {
   "cell_type": "code",
   "execution_count": 396,
   "metadata": {},
   "outputs": [
    {
     "data": {
      "text/plain": [
       "(0.2343505877410428, 6.6511533140900405e-255)"
      ]
     },
     "execution_count": 396,
     "metadata": {},
     "output_type": "execute_result"
    }
   ],
   "source": [
    "pearsonr(df['entropy'], df['cv'])"
   ]
  },
  {
   "cell_type": "code",
   "execution_count": null,
   "metadata": {},
   "outputs": [],
   "source": []
  }
 ],
 "metadata": {
  "kernelspec": {
   "display_name": "Python 3",
   "language": "python",
   "name": "python3"
  },
  "language_info": {
   "codemirror_mode": {
    "name": "ipython",
    "version": 3
   },
   "file_extension": ".py",
   "mimetype": "text/x-python",
   "name": "python",
   "nbconvert_exporter": "python",
   "pygments_lexer": "ipython3",
   "version": "3.7.8"
  },
  "toc-autonumbering": true
 },
 "nbformat": 4,
 "nbformat_minor": 4
}
