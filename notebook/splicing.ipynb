{
 "cells": [
  {
   "cell_type": "markdown",
   "metadata": {},
   "source": [
    "**计算splicing patterns**"
   ]
  },
  {
   "cell_type": "code",
   "execution_count": 204,
   "metadata": {},
   "outputs": [],
   "source": [
    "from collections import defaultdict, namedtuple, Counter\n",
    "import pickle\n",
    "import pandas as pd\n",
    "import numpy as np\n",
    "from concurrent.futures import ProcessPoolExecutor\n",
    "import pyranges as pr\n",
    "import pysam\n",
    "\n",
    "from scipy.stats import variation, gaussian_kde, pearsonr, mannwhitneyu"
   ]
  },
  {
   "cell_type": "code",
   "execution_count": 2,
   "metadata": {},
   "outputs": [],
   "source": [
    "import logging\n",
    "logging.basicConfig(level=logging.DEBUG,\n",
    "                    format='%(asctime)s %(filename)s: %(message)s',\n",
    "                    datefmt='%m/%d/%Y %I:%M:%S %p',\n",
    "                    )"
   ]
  },
  {
   "cell_type": "code",
   "execution_count": 399,
   "metadata": {},
   "outputs": [
    {
     "data": {
      "image/png": "[encoded data removed]",
      "text/plain": [
       "<Figure size 864x72 with 1 Axes>"
      ]
     },
     "metadata": {
      "needs_background": "light"
     },
     "output_type": "display_data"
    }
   ],
   "source": [
    "# 加载画图包\n",
    "%config InlineBackend.figure_format = 'retina'\n",
    "\n",
    "from matplotlib import pyplot as plt\n",
    "import matplotlib.ticker as ticker\n",
    "import matplotlib.font_manager as font_manager\n",
    "import seaborn as sns\n",
    "\n",
    "# 设置全局字体\n",
    "font_dirs = [\"/public/home/mowp/test/fonts/\"]\n",
    "font_files = font_manager.findSystemFonts(fontpaths=font_dirs)\n",
    "\n",
    "for font_file in font_files:\n",
    "    font_manager.fontManager.addfont(font_file)\n",
    "    \n",
    "plt.rcParams[\"font.family\"] = \"Arial\"\n",
    "plt.rcParams['font.size'] = 12\n",
    "plt.rcParams['svg.fonttype'] = 'none'\n",
    "\n",
    "# setting color palette\n",
    "pal = sns.color_palette(\"Paired\")\n",
    "sns.set_palette(pal)\n",
    "sns.palplot(pal)"
   ]
  },
  {
   "cell_type": "markdown",
   "metadata": {},
   "source": [
    "# load data"
   ]
  },
  {
   "cell_type": "markdown",
   "metadata": {},
   "source": [
    "## load gene model"
   ]
  },
  {
   "cell_type": "code",
   "execution_count": 4,
   "metadata": {},
   "outputs": [
    {
     "data": {
      "text/html": [
       "<div>\n",
       "<style scoped>\n",
       "    .dataframe tbody tr th:only-of-type {\n",
       "        vertical-align: middle;\n",
       "    }\n",
       "\n",
       "    .dataframe tbody tr th {\n",
       "        vertical-align: top;\n",
       "    }\n",
       "\n",
       "    .dataframe thead th {\n",
       "        text-align: right;\n",
       "    }\n",
       "</style>\n",
       "<table border=\"1\" class=\"dataframe\">\n",
       "  <thead>\n",
       "    <tr style=\"text-align: right;\">\n",
       "      <th></th>\n",
       "      <th>Chromosome</th>\n",
       "      <th>Start</th>\n",
       "      <th>End</th>\n",
       "      <th>Score</th>\n",
       "      <th>Strand</th>\n",
       "    </tr>\n",
       "    <tr>\n",
       "      <th>Name</th>\n",
       "      <th></th>\n",
       "      <th></th>\n",
       "      <th></th>\n",
       "      <th></th>\n",
       "      <th></th>\n",
       "    </tr>\n",
       "  </thead>\n",
       "  <tbody>\n",
       "    <tr>\n",
       "      <th>AT1G01010</th>\n",
       "      <td>1</td>\n",
       "      <td>3629</td>\n",
       "      <td>5899</td>\n",
       "      <td>.</td>\n",
       "      <td>+</td>\n",
       "    </tr>\n",
       "    <tr>\n",
       "      <th>AT1G01020</th>\n",
       "      <td>1</td>\n",
       "      <td>6786</td>\n",
       "      <td>9130</td>\n",
       "      <td>.</td>\n",
       "      <td>-</td>\n",
       "    </tr>\n",
       "    <tr>\n",
       "      <th>AT1G03987</th>\n",
       "      <td>1</td>\n",
       "      <td>11099</td>\n",
       "      <td>11372</td>\n",
       "      <td>.</td>\n",
       "      <td>+</td>\n",
       "    </tr>\n",
       "    <tr>\n",
       "      <th>AT1G01030</th>\n",
       "      <td>1</td>\n",
       "      <td>11647</td>\n",
       "      <td>13714</td>\n",
       "      <td>.</td>\n",
       "      <td>-</td>\n",
       "    </tr>\n",
       "    <tr>\n",
       "      <th>AT1G01040</th>\n",
       "      <td>1</td>\n",
       "      <td>23119</td>\n",
       "      <td>31227</td>\n",
       "      <td>.</td>\n",
       "      <td>+</td>\n",
       "    </tr>\n",
       "  </tbody>\n",
       "</table>\n",
       "</div>"
      ],
      "text/plain": [
       "          Chromosome  Start    End Score Strand\n",
       "Name                                           \n",
       "AT1G01010          1   3629   5899     .      +\n",
       "AT1G01020          1   6786   9130     .      -\n",
       "AT1G03987          1  11099  11372     .      +\n",
       "AT1G01030          1  11647  13714     .      -\n",
       "AT1G01040          1  23119  31227     .      +"
      ]
     },
     "execution_count": 4,
     "metadata": {},
     "output_type": "execute_result"
    }
   ],
   "source": [
    "gene_model_bed = '/public/home/mowp/db/Arabidopsis_thaliana/isoform/araport11.gene.bed'\n",
    "gene_model = pr.read_bed(gene_model_bed, as_df=True)\n",
    "gene_model = gene_model.set_index(['Name'])\n",
    "gene_model.head()"
   ]
  },
  {
   "cell_type": "markdown",
   "metadata": {},
   "source": [
    "## load representative gene model"
   ]
  },
  {
   "cell_type": "code",
   "execution_count": 5,
   "metadata": {},
   "outputs": [],
   "source": [
    "# 读取代表性转录本gene_model\n",
    "araport11_isoform_path = '/public/home/mowp/db/Arabidopsis_thaliana/representative_gene_model/araport11.representative.gene_model.bed'\n",
    "araport11_isoform = pr.read_bed(araport11_isoform_path, as_df=True)\n",
    "\n",
    "araport11_isoform['gene_id'] = araport11_isoform['Name'].map(lambda x: x.split('.')[0])\n",
    "araport11_isoform.set_index('gene_id', inplace=True)\n",
    "\n",
    "araport11_isoform['BlockSizes'] = araport11_isoform['BlockSizes'].map(lambda x: np.fromstring(x, sep=',', dtype='int'))\n",
    "araport11_isoform['BlockStarts'] = araport11_isoform['BlockStarts'].map(lambda x: np.fromstring(x, sep=',', dtype='int'))"
   ]
  },
  {
   "cell_type": "markdown",
   "metadata": {},
   "source": [
    "# get_splicing_kinetics"
   ]
  },
  {
   "cell_type": "code",
   "execution_count": 7,
   "metadata": {},
   "outputs": [],
   "source": [
    "Splice_stats = namedtuple('Splice_stats', 'intron_total_count intron_count unsplice_count unsplice_intron')\n",
    "\n",
    "splice_stats_pkl = '/public/home/mowp/data/total_RNA/nanopore_cdna/polyadenylated_data/nanopore_cdna.full_len.bed.ir_stats.tsv'\n",
    "\n",
    "with open(splice_stats_pkl+'.pkl', 'rb') as f:\n",
    "    splice_stats_dict = pickle.load(f)"
   ]
  },
  {
   "cell_type": "code",
   "execution_count": null,
   "metadata": {},
   "outputs": [],
   "source": [
    "splice_stats_dict"
   ]
  },
  {
   "cell_type": "code",
   "execution_count": 20,
   "metadata": {},
   "outputs": [],
   "source": [
    "STRAND_TO_BOOL = {'-': True, '+': False}\n",
    "def get_splicing_kinetics(infile, gene_id):\n",
    "    chrom, start, end, _, gene_strand = gene_model.loc[gene_id, :].values\n",
    "    gene_strand = STRAND_TO_BOOL[gene_strand]\n",
    "    \n",
    "    spliced_ratio = defaultdict(lambda : Counter())\n",
    "    n = 0\n",
    "    with pysam.AlignmentFile(infile, 'rb') as inbam:\n",
    "        for read in inbam.fetch(chrom, start, end):\n",
    "            try:\n",
    "                _, intron_count, unsplice_count, unsplice_intron  = splice_stats_dict[read.query_name][gene_id]\n",
    "                if intron_count == 0:\n",
    "                    # 转录还没有过第一个exon的情况\n",
    "                    # 忽略\n",
    "                    continue\n",
    "            except KeyError:\n",
    "                continue\n",
    "            \n",
    "            polya_len = read.get_tag('pa')\n",
    "            gap = read.get_tag('ga')\n",
    "            read_gene_id = read.get_tag('gi')\n",
    "            \n",
    "            if read_gene_id != gene_id:\n",
    "                continue\n",
    "            \n",
    "            if read.is_reverse is gene_strand:\n",
    "                if gene_strand:\n",
    "                    five_end = read.reference_end*-1\n",
    "                    three_end = read.reference_start*-1\n",
    "                    # 获取基因3'SS位置\n",
    "                    item = araport11_isoform.loc[gene_id, :]\n",
    "                    three_ss = item.Start+item.BlockStarts[:-1]+item.BlockSizes[:-1]\n",
    "                    three_ss = three_ss[::-1]*-1\n",
    "                else:\n",
    "                    five_end = read.reference_start\n",
    "                    three_end = read.reference_end\n",
    "                    # 获取基因3'SS位置\n",
    "                    item = araport11_isoform.loc[gene_id, :]\n",
    "                    three_ss = item.Start+item.BlockStarts[1:]\n",
    "                \n",
    "                # 未剪切的intron号\n",
    "                unsplice_intron = set(np.fromstring(unsplice_intron, sep=',', dtype='int')) \n",
    "                # distance from 3'SS\n",
    "                distance_list = three_end - three_ss[:intron_count]\n",
    "                \n",
    "                for intron_num, distance in enumerate(distance_list, 1):\n",
    "                    if distance < 0:\n",
    "                        logging.info(f'{gene_id}, {read.query_name}')\n",
    "                        continue\n",
    "                    if intron_num in unsplice_intron:\n",
    "                        spliced_ratio[distance]['unspliced'] += 1\n",
    "                    else:\n",
    "                        spliced_ratio[distance]['spliced'] += 1\n",
    "\n",
    "    return dict(spliced_ratio)"
   ]
  },
  {
   "cell_type": "code",
   "execution_count": null,
   "metadata": {},
   "outputs": [],
   "source": []
  },
  {
   "cell_type": "markdown",
   "metadata": {},
   "source": [
    "## Nanopore total RNA"
   ]
  },
  {
   "cell_type": "code",
   "execution_count": 255,
   "metadata": {},
   "outputs": [],
   "source": [
    "IR_stats = namedtuple('IR_stats', 'intron_total_count intron_count unsplice_count unsplice_intron')\n",
    "\n",
    "ir_stats_pkl = '/public/home/mowp/data/total_RNA/nanopore_cdna/polyadenylated_data/nanopore_cdna.full_len.bed.ir_stats.tsv.pkl'\n",
    "\n",
    "with open(ir_stats_pkl, 'rb') as f:\n",
    "    ir_stats_dict = pickle.load(f)"
   ]
  },
  {
   "cell_type": "code",
   "execution_count": 22,
   "metadata": {},
   "outputs": [],
   "source": [
    "# multi run\n",
    "\n",
    "infile = '/public/home/mowp/data/total_RNA/nanopore_cdna/polyadenylated_data/nanopore_cdna.full_len.bam'\n",
    "\n",
    "results = []\n",
    "with ProcessPoolExecutor(max_workers=64) as e:\n",
    "    for gene_id in gene_model.index:\n",
    "        results.append(e.submit(get_splicing_kinetics, infile, gene_id))"
   ]
  },
  {
   "cell_type": "code",
   "execution_count": 23,
   "metadata": {},
   "outputs": [],
   "source": [
    "spliced_ratio = defaultdict(lambda : Counter())\n",
    "\n",
    "bw = 25\n",
    "for res in results:\n",
    "    result = res.result()\n",
    "    for distance in result:\n",
    "        _distance = (distance//bw+1) * bw\n",
    "        spliced_ratio[_distance] += result[distance]"
   ]
  },
  {
   "cell_type": "code",
   "execution_count": 24,
   "metadata": {},
   "outputs": [],
   "source": [
    "x = []\n",
    "y = []\n",
    "for distance in spliced_ratio:\n",
    "    x.append(distance)\n",
    "    y.append(spliced_ratio[distance]['spliced']/(spliced_ratio[distance]['spliced']+spliced_ratio[distance]['unspliced']))"
   ]
  },
  {
   "cell_type": "code",
   "execution_count": 26,
   "metadata": {},
   "outputs": [],
   "source": [
    "nanopore_splicing = pd.DataFrame([x, y]).T\n",
    "nanopore_splicing.sort_values(0, inplace=True)"
   ]
  },
  {
   "cell_type": "code",
   "execution_count": 27,
   "metadata": {},
   "outputs": [
    {
     "data": {
      "text/plain": [
       "Text(0.5, 0, 'Distance from 3′ SS (nt)')"
      ]
     },
     "execution_count": 27,
     "metadata": {},
     "output_type": "execute_result"
    },
    {
     "data": {
      "image/png": "[encoded data removed]",
      "text/plain": [
       "<Figure size 288x288 with 1 Axes>"
      ]
     },
     "metadata": {
      "needs_background": "light"
     },
     "output_type": "display_data"
    }
   ],
   "source": [
    "plt.figure(figsize=(4, 4))\n",
    "xlim = 3000\n",
    "plt.plot(nanopore_splicing[0][nanopore_splicing[0]<=xlim], nanopore_splicing[1][nanopore_splicing[0]<=xlim])\n",
    "plt.ylim(0, 1)\n",
    "plt.ylabel('Percentage of spliced introns')\n",
    "plt.xlabel('Distance from 3′ SS (nt)')"
   ]
  },
  {
   "cell_type": "code",
   "execution_count": 30,
   "metadata": {},
   "outputs": [
    {
     "data": {
      "text/plain": [
       "{'AT1G01010': Splice_stats(intron_total_count=5, intron_count=5, unsplice_count=0, unsplice_intron='')}"
      ]
     },
     "execution_count": 30,
     "metadata": {},
     "output_type": "execute_result"
    }
   ],
   "source": [
    "splice_stats_dict['7630665e-c2ca-4b8d-a6d7-2240d68f8844']"
   ]
  },
  {
   "cell_type": "code",
   "execution_count": null,
   "metadata": {},
   "outputs": [],
   "source": []
  },
  {
   "cell_type": "code",
   "execution_count": null,
   "metadata": {},
   "outputs": [],
   "source": []
  },
  {
   "cell_type": "code",
   "execution_count": null,
   "metadata": {},
   "outputs": [],
   "source": []
  },
  {
   "cell_type": "markdown",
   "metadata": {},
   "source": [
    "# polya tail length in IR"
   ]
  },
  {
   "cell_type": "code",
   "execution_count": 34,
   "metadata": {},
   "outputs": [],
   "source": [
    "infile = 'polya_length/nanopore_polya_len.tsv'\n",
    "nanopore_polya = pd.read_csv(infile, sep='\\t',)"
   ]
  },
  {
   "cell_type": "code",
   "execution_count": 392,
   "metadata": {},
   "outputs": [],
   "source": [
    "STRAND_TO_BOOL = {'-': True, '+': False}\n",
    "def get_IR_read_polya_len(infile, gene_id, mode='median'):\n",
    "    '''\n",
    "    获取同一基因不同剪切状态的polya长度\n",
    "        fully_spliced\n",
    "        unspliced\n",
    "    '''\n",
    "    chrom, start, end, _, gene_strand = gene_model.loc[gene_id, :].values\n",
    "    gene_strand = STRAND_TO_BOOL[gene_strand]\n",
    "    unspliced_polya_len, spliced_polya_len = [], []\n",
    "\n",
    "    with pysam.AlignmentFile(infile, 'rb') as inbam:\n",
    "        for read in inbam.fetch(chrom, start, end):\n",
    "            try:\n",
    "                _, intron_count, unspliced_count, unspliced_intron  = ir_stats_dict[read.query_name][gene_id]\n",
    "                if intron_count == 0:\n",
    "                    # 转录还没有过第一个exon的情况\n",
    "                    # 忽略\n",
    "                    continue\n",
    "            except KeyError:\n",
    "                continue\n",
    "            \n",
    "            polya_len = read.get_tag('pa')\n",
    "            read_gene_id = read.get_tag('gi')\n",
    "            \n",
    "            if read_gene_id != gene_id:\n",
    "                continue\n",
    "            \n",
    "            if unspliced_count > 0:\n",
    "                unspliced_polya_len.append(polya_len)\n",
    "            else:\n",
    "                spliced_polya_len.append(polya_len)\n",
    "            \n",
    "        if len(unspliced_polya_len) >= 5 and len(spliced_polya_len) >= 5:\n",
    "            if mode == 'median':\n",
    "                unspliced_count = len(unspliced_polya_len)\n",
    "                spliced_count = len(spliced_polya_len)\n",
    "                p_value = mannwhitneyu(unspliced_polya_len, spliced_polya_len)\n",
    "                unspliced_polya_len = np.median(unspliced_polya_len)\n",
    "                spliced_polya_len = np.median(spliced_polya_len)\n",
    "                return unspliced_polya_len, unspliced_count, spliced_polya_len, spliced_count, p_value[1], gene_id\n",
    "\n",
    "            elif mode == 'raw':\n",
    "                return unspliced_polya_len, spliced_polya_len, gene_id"
   ]
  },
  {
   "cell_type": "code",
   "execution_count": 393,
   "metadata": {},
   "outputs": [
    {
     "data": {
      "text/plain": [
       "(232.625, 14, 113.67000198364258, 32, 4.7465234514405955e-05, 'AT1G01920')"
      ]
     },
     "execution_count": 393,
     "metadata": {},
     "output_type": "execute_result"
    }
   ],
   "source": [
    "infile = '/public/home/mowp/data/total_RNA/nanopore_cdna/polyadenylated_data/nanopore_cdna.full_len.bam'\n",
    "gene_id = 'AT1G01920'\n",
    "get_IR_read_polya_len(infile, gene_id)"
   ]
  },
  {
   "cell_type": "code",
   "execution_count": 394,
   "metadata": {},
   "outputs": [
    {
     "data": {
      "text/plain": [
       "(173.05999755859375,\n",
       " 59,\n",
       " 104.08000183105469,\n",
       " 191,\n",
       " 1.0051995707555749e-13,\n",
       " 'AT5G67110')"
      ]
     },
     "execution_count": 394,
     "metadata": {},
     "output_type": "execute_result"
    }
   ],
   "source": [
    "infile = '/public/home/mowp/data/total_RNA/nanopore_cdna/polyadenylated_data/nanopore_cdna.full_len.bam'\n",
    "gene_id = 'AT5G67110'\n",
    "get_IR_read_polya_len(infile, gene_id)"
   ]
  },
  {
   "cell_type": "code",
   "execution_count": 395,
   "metadata": {},
   "outputs": [],
   "source": [
    "# multi run\n",
    "\n",
    "infile = '/public/home/mowp/data/total_RNA/nanopore_cdna/polyadenylated_data/nanopore_cdna.full_len.bam'\n",
    "\n",
    "results = []\n",
    "with ProcessPoolExecutor(max_workers=64) as e:\n",
    "    for gene_id in gene_model.index:\n",
    "        results.append(e.submit(get_IR_read_polya_len, infile, gene_id))"
   ]
  },
  {
   "cell_type": "code",
   "execution_count": 396,
   "metadata": {},
   "outputs": [],
   "source": [
    "spliced_polya = []\n",
    "for res in results:\n",
    "    result = res.result()\n",
    "    if result is not None:\n",
    "        spliced_polya.append(result)"
   ]
  },
  {
   "cell_type": "code",
   "execution_count": 397,
   "metadata": {},
   "outputs": [],
   "source": [
    "spliced_polya = pd.DataFrame(\n",
    "    spliced_polya, \n",
    "    columns=['unspliced_polya_len', 'unspliced_count', 'spliced_polya_len', 'spliced_count', 'p_value', 'gene_id']\n",
    ")"
   ]
  },
  {
   "cell_type": "code",
   "execution_count": 398,
   "metadata": {},
   "outputs": [
    {
     "data": {
      "text/html": [
       "<div>\n",
       "<style scoped>\n",
       "    .dataframe tbody tr th:only-of-type {\n",
       "        vertical-align: middle;\n",
       "    }\n",
       "\n",
       "    .dataframe tbody tr th {\n",
       "        vertical-align: top;\n",
       "    }\n",
       "\n",
       "    .dataframe thead th {\n",
       "        text-align: right;\n",
       "    }\n",
       "</style>\n",
       "<table border=\"1\" class=\"dataframe\">\n",
       "  <thead>\n",
       "    <tr style=\"text-align: right;\">\n",
       "      <th></th>\n",
       "      <th>unspliced_polya_len</th>\n",
       "      <th>unspliced_count</th>\n",
       "      <th>spliced_polya_len</th>\n",
       "      <th>spliced_count</th>\n",
       "      <th>p_value</th>\n",
       "      <th>gene_id</th>\n",
       "    </tr>\n",
       "  </thead>\n",
       "  <tbody>\n",
       "    <tr>\n",
       "      <th>0</th>\n",
       "      <td>201.785004</td>\n",
       "      <td>34</td>\n",
       "      <td>166.014999</td>\n",
       "      <td>38</td>\n",
       "      <td>6.438083e-03</td>\n",
       "      <td>AT1G01020</td>\n",
       "    </tr>\n",
       "    <tr>\n",
       "      <th>1</th>\n",
       "      <td>158.809998</td>\n",
       "      <td>9</td>\n",
       "      <td>96.074997</td>\n",
       "      <td>328</td>\n",
       "      <td>1.358551e-03</td>\n",
       "      <td>AT1G01050</td>\n",
       "    </tr>\n",
       "    <tr>\n",
       "      <th>2</th>\n",
       "      <td>126.654999</td>\n",
       "      <td>24</td>\n",
       "      <td>99.470001</td>\n",
       "      <td>134</td>\n",
       "      <td>1.384150e-02</td>\n",
       "      <td>AT1G01080</td>\n",
       "    </tr>\n",
       "    <tr>\n",
       "      <th>3</th>\n",
       "      <td>155.434998</td>\n",
       "      <td>16</td>\n",
       "      <td>82.419998</td>\n",
       "      <td>1895</td>\n",
       "      <td>5.347263e-07</td>\n",
       "      <td>AT1G01100</td>\n",
       "    </tr>\n",
       "    <tr>\n",
       "      <th>4</th>\n",
       "      <td>165.385002</td>\n",
       "      <td>6</td>\n",
       "      <td>128.435001</td>\n",
       "      <td>42</td>\n",
       "      <td>1.636344e-02</td>\n",
       "      <td>AT1G01140</td>\n",
       "    </tr>\n",
       "    <tr>\n",
       "      <th>...</th>\n",
       "      <td>...</td>\n",
       "      <td>...</td>\n",
       "      <td>...</td>\n",
       "      <td>...</td>\n",
       "      <td>...</td>\n",
       "      <td>...</td>\n",
       "    </tr>\n",
       "    <tr>\n",
       "      <th>4211</th>\n",
       "      <td>129.415001</td>\n",
       "      <td>12</td>\n",
       "      <td>110.279999</td>\n",
       "      <td>143</td>\n",
       "      <td>3.998850e-02</td>\n",
       "      <td>AT5G67480</td>\n",
       "    </tr>\n",
       "    <tr>\n",
       "      <th>4212</th>\n",
       "      <td>189.105003</td>\n",
       "      <td>6</td>\n",
       "      <td>114.055000</td>\n",
       "      <td>58</td>\n",
       "      <td>2.223815e-03</td>\n",
       "      <td>AT5G67580</td>\n",
       "    </tr>\n",
       "    <tr>\n",
       "      <th>4213</th>\n",
       "      <td>172.095001</td>\n",
       "      <td>12</td>\n",
       "      <td>86.330002</td>\n",
       "      <td>646</td>\n",
       "      <td>2.974486e-06</td>\n",
       "      <td>AT5G67590</td>\n",
       "    </tr>\n",
       "    <tr>\n",
       "      <th>4214</th>\n",
       "      <td>147.805000</td>\n",
       "      <td>20</td>\n",
       "      <td>89.070000</td>\n",
       "      <td>503</td>\n",
       "      <td>1.269859e-07</td>\n",
       "      <td>AT5G67600</td>\n",
       "    </tr>\n",
       "    <tr>\n",
       "      <th>4215</th>\n",
       "      <td>169.479996</td>\n",
       "      <td>6</td>\n",
       "      <td>132.970001</td>\n",
       "      <td>26</td>\n",
       "      <td>1.282734e-01</td>\n",
       "      <td>AT5G67610</td>\n",
       "    </tr>\n",
       "  </tbody>\n",
       "</table>\n",
       "<p>4216 rows × 6 columns</p>\n",
       "</div>"
      ],
      "text/plain": [
       "      unspliced_polya_len  unspliced_count  spliced_polya_len  spliced_count  \\\n",
       "0              201.785004               34         166.014999             38   \n",
       "1              158.809998                9          96.074997            328   \n",
       "2              126.654999               24          99.470001            134   \n",
       "3              155.434998               16          82.419998           1895   \n",
       "4              165.385002                6         128.435001             42   \n",
       "...                   ...              ...                ...            ...   \n",
       "4211           129.415001               12         110.279999            143   \n",
       "4212           189.105003                6         114.055000             58   \n",
       "4213           172.095001               12          86.330002            646   \n",
       "4214           147.805000               20          89.070000            503   \n",
       "4215           169.479996                6         132.970001             26   \n",
       "\n",
       "           p_value    gene_id  \n",
       "0     6.438083e-03  AT1G01020  \n",
       "1     1.358551e-03  AT1G01050  \n",
       "2     1.384150e-02  AT1G01080  \n",
       "3     5.347263e-07  AT1G01100  \n",
       "4     1.636344e-02  AT1G01140  \n",
       "...            ...        ...  \n",
       "4211  3.998850e-02  AT5G67480  \n",
       "4212  2.223815e-03  AT5G67580  \n",
       "4213  2.974486e-06  AT5G67590  \n",
       "4214  1.269859e-07  AT5G67600  \n",
       "4215  1.282734e-01  AT5G67610  \n",
       "\n",
       "[4216 rows x 6 columns]"
      ]
     },
     "execution_count": 398,
     "metadata": {},
     "output_type": "execute_result"
    }
   ],
   "source": [
    "spliced_polya"
   ]
  },
  {
   "cell_type": "code",
   "execution_count": 437,
   "metadata": {},
   "outputs": [
    {
     "name": "stderr",
     "output_type": "stream",
     "text": [
      "/public/home/mowp/miniconda3/lib/python3.7/site-packages/pandas/core/series.py:726: RuntimeWarning: divide by zero encountered in log10\n",
      "  result = getattr(ufunc, method)(*inputs, **kwargs)\n",
      "11/05/2020 07:24:43 PM colorbar.py: locator: <matplotlib.colorbar._ColorbarAutoLocator object at 0x2b0332cee950>\n",
      "11/05/2020 07:24:43 PM colorbar.py: Using auto colorbar locator <matplotlib.colorbar._ColorbarAutoLocator object at 0x2b0332cee950> on colorbar\n",
      "11/05/2020 07:24:43 PM colorbar.py: Setting pcolormesh\n",
      "11/05/2020 07:24:43 PM colorbar.py: locator: <matplotlib.ticker.FixedLocator object at 0x2b03ce929d90>\n",
      "11/05/2020 07:24:43 PM colorbar.py: Using auto colorbar locator <matplotlib.ticker.FixedLocator object at 0x2b03ce929d90> on colorbar\n",
      "11/05/2020 07:24:43 PM colorbar.py: locator: <matplotlib.ticker.FixedLocator object at 0x2b03ce929d90>\n",
      "11/05/2020 07:24:43 PM colorbar.py: Using auto colorbar locator <matplotlib.ticker.FixedLocator object at 0x2b03ce929d90> on colorbar\n"
     ]
    },
    {
     "data": {
      "text/plain": [
       "Text(0.5, 1.0, 'Median poly(A) tail (nt)')"
      ]
     },
     "execution_count": 437,
     "metadata": {},
     "output_type": "execute_result"
    },
    {
     "data": {
      "image/png": "[encoded data removed]",
      "text/plain": [
       "<Figure size 216x302.4 with 2 Axes>"
      ]
     },
     "metadata": {
      "needs_background": "light"
     },
     "output_type": "display_data"
    }
   ],
   "source": [
    "# CR-APA\n",
    "\n",
    "plt.figure(figsize=(3, 4.2))\n",
    "plt.scatter(\n",
    "    x=spliced_polya['unspliced_polya_len'], \n",
    "    y=spliced_polya['spliced_polya_len'], \n",
    "    s=5, \n",
    "    c=-np.log10(spliced_polya['p_value']),\n",
    "    cmap=plt.cm.get_cmap('Reds'),\n",
    "    vmax=4\n",
    ")\n",
    "plt.xlim(0, 350)\n",
    "plt.ylim(0, 350)\n",
    "plt.plot([0, 350], [0, 350], color='#555555', ls='--')\n",
    "plt.xlabel('Intron retention')\n",
    "plt.ylabel('Fully spliced')\n",
    "plt.xticks([0, 100, 200, 300])\n",
    "plt.yticks([0, 100, 200, 300])\n",
    "colorbar = plt.colorbar(orientation=\"horizontal\")\n",
    "colorbar.set_ticks([1, 2, 3, 4])\n",
    "colorbar.set_ticklabels([1, 2, 3, '>4'])\n",
    "colorbar.set_label(\"- $\\log_{10}\\mathrm{(pvalue)}$\", size='small')\n",
    "plt.title('Median poly(A) tail (nt)', size='medium')"
   ]
  },
  {
   "cell_type": "code",
   "execution_count": 172,
   "metadata": {},
   "outputs": [],
   "source": [
    "# Calculate the point density\n",
    "xy = np.vstack([spliced_polya['unspliced_polya_len'], spliced_polya['spliced_polya_len']])\n",
    "color = gaussian_kde(xy)(xy)"
   ]
  },
  {
   "cell_type": "code",
   "execution_count": 173,
   "metadata": {},
   "outputs": [
    {
     "name": "stderr",
     "output_type": "stream",
     "text": [
      "10/26/2020 08:37:37 PM colorbar.py: locator: <matplotlib.colorbar._ColorbarAutoLocator object at 0x2b059f4e9e90>\n",
      "10/26/2020 08:37:37 PM colorbar.py: Using auto colorbar locator <matplotlib.colorbar._ColorbarAutoLocator object at 0x2b059f4e9e90> on colorbar\n",
      "10/26/2020 08:37:37 PM colorbar.py: Setting pcolormesh\n"
     ]
    },
    {
     "data": {
      "image/png": "[encoded data removed]",
      "text/plain": [
       "<Figure size 266.4x216 with 2 Axes>"
      ]
     },
     "metadata": {
      "needs_background": "light"
     },
     "output_type": "display_data"
    }
   ],
   "source": [
    "plt.figure(figsize=(3.7, 3))\n",
    "plt.scatter(x=spliced_polya['unspliced_polya_len'], y=spliced_polya['spliced_polya_len'], s=1, c=color)\n",
    "plt.xlim(0, 350)\n",
    "plt.ylim(0, 350)\n",
    "plt.plot([0, 350], [0, 350], color='#555555', ls='--')\n",
    "plt.xlabel('Median poly(A) tail length\\n(intron retained)')\n",
    "plt.ylabel('Median poly(A) tail length\\n(fully spliced)')\n",
    "plt.xticks([0, 100, 200, 300])\n",
    "plt.yticks([0, 100, 200, 300])\n",
    "colorbar = plt.colorbar()\n",
    "colorbar.set_label(\"Density\")"
   ]
  },
  {
   "cell_type": "code",
   "execution_count": 409,
   "metadata": {},
   "outputs": [],
   "source": [
    "df1 = pd.DataFrame(spliced_polya['unspliced_polya_len'].values, columns=['polya_len'])\n",
    "df1['type'] = 'IR'\n",
    "df2 = pd.DataFrame(spliced_polya['spliced_polya_len'].values, columns=['polya_len'])\n",
    "df2['type'] = 'spliced'\n",
    "df = pd.concat([df1, df2])\n",
    "del df1, df2"
   ]
  },
  {
   "cell_type": "code",
   "execution_count": 411,
   "metadata": {},
   "outputs": [
    {
     "data": {
      "text/plain": [
       "Text(0.5, 0, '')"
      ]
     },
     "execution_count": 411,
     "metadata": {},
     "output_type": "execute_result"
    },
    {
     "data": {
      "image/png": "[encoded data removed]",
      "text/plain": [
       "<Figure size 216x216 with 1 Axes>"
      ]
     },
     "metadata": {
      "needs_background": "light"
     },
     "output_type": "display_data"
    }
   ],
   "source": [
    "plt.figure(figsize=(3, 3))\n",
    "sns.violinplot(x='type', y='polya_len', data=df, width=.5)\n",
    "plt.ylabel('Median poly(A) tail length (nt)')\n",
    "plt.xticks([0, 1], ['Intron retention', 'Fully spliced'])\n",
    "plt.xlabel('')"
   ]
  },
  {
   "cell_type": "code",
   "execution_count": 383,
   "metadata": {},
   "outputs": [
    {
     "name": "stdout",
     "output_type": "stream",
     "text": [
      "IR polya length = 155.47\n",
      "Fully spliced polya length = 107.33\n"
     ]
    }
   ],
   "source": [
    "print(f'IR polya length = {np.median(spliced_polya[\"unspliced_polya_len\"]):.2f}')\n",
    "print(f'Fully spliced polya length = {np.median(spliced_polya[\"spliced_polya_len\"]):.2f}')"
   ]
  },
  {
   "cell_type": "code",
   "execution_count": 382,
   "metadata": {},
   "outputs": [
    {
     "data": {
      "text/plain": [
       "MannwhitneyuResult(statistic=2212254.5, pvalue=0.0)"
      ]
     },
     "execution_count": 382,
     "metadata": {},
     "output_type": "execute_result"
    }
   ],
   "source": [
    "mannwhitneyu(spliced_polya[\"unspliced_polya_len\"], spliced_polya[\"spliced_polya_len\"])"
   ]
  },
  {
   "cell_type": "markdown",
   "metadata": {},
   "source": [
    "## single gene"
   ]
  },
  {
   "cell_type": "code",
   "execution_count": 450,
   "metadata": {},
   "outputs": [],
   "source": [
    "infile = '/public/home/mowp/data/total_RNA/nanopore_cdna/polyadenylated_data/nanopore_cdna.full_len.bam'\n",
    "gene_id = 'AT5G67110'\n",
    "unspliced_polya_len, spliced_polya_len, gene_id = get_IR_read_polya_len(infile, gene_id, mode='raw')"
   ]
  },
  {
   "cell_type": "code",
   "execution_count": 451,
   "metadata": {},
   "outputs": [],
   "source": [
    "df1 = pd.DataFrame(unspliced_polya_len, columns=['polya_len'])\n",
    "df1['type'] = 'IR'\n",
    "df2 = pd.DataFrame(spliced_polya_len, columns=['polya_len'])\n",
    "df2['type'] = 'spliced'\n",
    "df = pd.concat([df1, df2])\n",
    "del df1, df2"
   ]
  },
  {
   "cell_type": "code",
   "execution_count": 452,
   "metadata": {},
   "outputs": [
    {
     "data": {
      "text/plain": [
       "Text(0.5, 0, '')"
      ]
     },
     "execution_count": 452,
     "metadata": {},
     "output_type": "execute_result"
    },
    {
     "data": {
      "image/png": "[encoded data removed]",
      "text/plain": [
       "<Figure size 216x216 with 1 Axes>"
      ]
     },
     "metadata": {
      "needs_background": "light"
     },
     "output_type": "display_data"
    }
   ],
   "source": [
    "plt.figure(figsize=(3, 3))\n",
    "sns.violinplot(x='type', y='polya_len', data=df, width=.5)\n",
    "plt.ylabel('Median poly(A) tail length (nt)')\n",
    "plt.xticks([0, 1], ['Intron retention', 'Fully spliced'])\n",
    "plt.xlabel('')"
   ]
  },
  {
   "cell_type": "code",
   "execution_count": 415,
   "metadata": {},
   "outputs": [
    {
     "name": "stdout",
     "output_type": "stream",
     "text": [
      "IR polya length = 173.06, n=59\n",
      "Fully spliced polya length = 104.08, n=191\n"
     ]
    }
   ],
   "source": [
    "print(f'IR polya length = {np.median(unspliced_polya_len):.2f}, n={len(unspliced_polya_len)}')\n",
    "print(f'Fully spliced polya length = {np.median(spliced_polya_len):.2f}, n={len(spliced_polya_len)}')"
   ]
  },
  {
   "cell_type": "code",
   "execution_count": 416,
   "metadata": {},
   "outputs": [
    {
     "data": {
      "text/plain": [
       "MannwhitneyuResult(statistic=2066.5, pvalue=1.0051995707555749e-13)"
      ]
     },
     "execution_count": 416,
     "metadata": {},
     "output_type": "execute_result"
    }
   ],
   "source": [
    "mannwhitneyu(unspliced_polya_len, spliced_polya_len)"
   ]
  },
  {
   "cell_type": "code",
   "execution_count": null,
   "metadata": {},
   "outputs": [],
   "source": []
  },
  {
   "cell_type": "markdown",
   "metadata": {},
   "source": [
    "# polya tail length in ES"
   ]
  },
  {
   "cell_type": "code",
   "execution_count": 417,
   "metadata": {},
   "outputs": [],
   "source": [
    "ES_stats = namedtuple('ES_stats', 'exon_total_count exon_count skipped_exon_count skipped_exon')\n",
    "\n",
    "es_stats_pkl = '/public/home/mowp/data/total_RNA/nanopore_cdna/polyadenylated_data/nanopore_cdna.full_len.bed.es_stats.tsv.pkl'\n",
    "\n",
    "with open(es_stats_pkl, 'rb') as f:\n",
    "    es_stats_dict = pickle.load(f)"
   ]
  },
  {
   "cell_type": "code",
   "execution_count": 418,
   "metadata": {},
   "outputs": [
    {
     "data": {
      "text/plain": [
       "{'AT1G01010': ES_stats(exon_total_count=6, exon_count=6, skipped_exon_count=0, skipped_exon='')}"
      ]
     },
     "execution_count": 418,
     "metadata": {},
     "output_type": "execute_result"
    }
   ],
   "source": [
    "es_stats_dict['7630665e-c2ca-4b8d-a6d7-2240d68f8844']"
   ]
  },
  {
   "cell_type": "code",
   "execution_count": 419,
   "metadata": {},
   "outputs": [],
   "source": [
    "STRAND_TO_BOOL = {'-': True, '+': False}\n",
    "def get_ES_read_polya_len(infile, gene_id, mode='median'):\n",
    "    '''\n",
    "    获取同一基因不同剪切状态的polya长度\n",
    "        fully_spliced\n",
    "        exon skipped\n",
    "    '''\n",
    "    chrom, start, end, _, gene_strand = gene_model.loc[gene_id, :].values\n",
    "    gene_strand = STRAND_TO_BOOL[gene_strand]\n",
    "    es_polya_len, non_skipped_polya_len = [], []\n",
    "\n",
    "    with pysam.AlignmentFile(infile, 'rb') as inbam:\n",
    "        for read in inbam.fetch(chrom, start, end):\n",
    "            try:\n",
    "                _, intron_count, unspliced_count, unspliced_intron  = ir_stats_dict[read.query_name][gene_id]\n",
    "                exon_total_count, exon_count, skipped_exon_count, _ = es_stats_dict[read.query_name][gene_id]\n",
    "                if intron_count == 0:\n",
    "                    # 转录还没有过第一个exon的情况\n",
    "                    # 忽略\n",
    "                    continue\n",
    "            except KeyError:\n",
    "                continue\n",
    "                \n",
    "            if unspliced_count > 0:\n",
    "                continue\n",
    "                \n",
    "            polya_len = read.get_tag('pa')\n",
    "            read_gene_id = read.get_tag('gi')\n",
    "            \n",
    "            if read_gene_id != gene_id:\n",
    "                continue\n",
    "            \n",
    "            if skipped_exon_count == 0:\n",
    "                non_skipped_polya_len.append(polya_len)\n",
    "            else:\n",
    "                es_polya_len.append(polya_len)\n",
    "            \n",
    "        if len(es_polya_len) >= 5 and len(non_skipped_polya_len) >= 5:\n",
    "            if mode == 'median':\n",
    "                es_count = len(es_polya_len)\n",
    "                non_skipped_count = len(non_skipped_polya_len)\n",
    "                p_value = mannwhitneyu(es_polya_len, non_skipped_polya_len)\n",
    "                es_polya_len = np.median(es_polya_len)\n",
    "                non_skipped_polya_len = np.median(non_skipped_polya_len)\n",
    "                return es_polya_len, es_count, non_skipped_polya_len, non_skipped_count, p_value[1], gene_id\n",
    "\n",
    "            elif mode == 'raw':\n",
    "                return es_polya_len, non_skipped_polya_len, gene_id\n",
    "            "
   ]
  },
  {
   "cell_type": "code",
   "execution_count": 420,
   "metadata": {},
   "outputs": [
    {
     "data": {
      "text/plain": [
       "(121.18999862670898,\n",
       " 30,\n",
       " 129.64999389648438,\n",
       " 35,\n",
       " 0.43467352636371753,\n",
       " 'AT3G23280')"
      ]
     },
     "execution_count": 420,
     "metadata": {},
     "output_type": "execute_result"
    }
   ],
   "source": [
    "infile = '/public/home/mowp/data/total_RNA/nanopore_cdna/polyadenylated_data/nanopore_cdna.full_len.bam'\n",
    "gene_id = 'AT3G23280'\n",
    "get_ES_read_polya_len(infile, gene_id)"
   ]
  },
  {
   "cell_type": "code",
   "execution_count": null,
   "metadata": {},
   "outputs": [],
   "source": []
  },
  {
   "cell_type": "code",
   "execution_count": 421,
   "metadata": {},
   "outputs": [],
   "source": [
    "# multi run\n",
    "\n",
    "infile = '/public/home/mowp/data/total_RNA/nanopore_cdna/polyadenylated_data/nanopore_cdna.full_len.bam'\n",
    "\n",
    "results = []\n",
    "with ProcessPoolExecutor(max_workers=64) as e:\n",
    "    for gene_id in gene_model.index:\n",
    "        results.append(e.submit(get_ES_read_polya_len, infile, gene_id))"
   ]
  },
  {
   "cell_type": "code",
   "execution_count": 422,
   "metadata": {},
   "outputs": [],
   "source": [
    "es_stats_polya = []\n",
    "for res in results:\n",
    "    result = res.result()\n",
    "    if result is not None:\n",
    "        es_stats_polya.append(result)"
   ]
  },
  {
   "cell_type": "code",
   "execution_count": 423,
   "metadata": {},
   "outputs": [],
   "source": [
    "es_stats_polya = pd.DataFrame(\n",
    "    es_stats_polya, \n",
    "    columns=['es_polya_len', 'es_count', 'non_skipped_polya_len', 'non_skipped_count', 'p_value', 'gene_id']\n",
    ")"
   ]
  },
  {
   "cell_type": "code",
   "execution_count": 424,
   "metadata": {},
   "outputs": [
    {
     "data": {
      "text/html": [
       "<div>\n",
       "<style scoped>\n",
       "    .dataframe tbody tr th:only-of-type {\n",
       "        vertical-align: middle;\n",
       "    }\n",
       "\n",
       "    .dataframe tbody tr th {\n",
       "        vertical-align: top;\n",
       "    }\n",
       "\n",
       "    .dataframe thead th {\n",
       "        text-align: right;\n",
       "    }\n",
       "</style>\n",
       "<table border=\"1\" class=\"dataframe\">\n",
       "  <thead>\n",
       "    <tr style=\"text-align: right;\">\n",
       "      <th></th>\n",
       "      <th>es_polya_len</th>\n",
       "      <th>es_count</th>\n",
       "      <th>non_skipped_polya_len</th>\n",
       "      <th>non_skipped_count</th>\n",
       "      <th>p_value</th>\n",
       "      <th>gene_id</th>\n",
       "    </tr>\n",
       "  </thead>\n",
       "  <tbody>\n",
       "    <tr>\n",
       "      <th>0</th>\n",
       "      <td>82.670002</td>\n",
       "      <td>1880</td>\n",
       "      <td>57.970001</td>\n",
       "      <td>15</td>\n",
       "      <td>0.010939</td>\n",
       "      <td>AT1G01100</td>\n",
       "    </tr>\n",
       "    <tr>\n",
       "      <th>1</th>\n",
       "      <td>58.970001</td>\n",
       "      <td>9</td>\n",
       "      <td>109.230000</td>\n",
       "      <td>16</td>\n",
       "      <td>0.001016</td>\n",
       "      <td>AT1G03365</td>\n",
       "    </tr>\n",
       "    <tr>\n",
       "      <th>2</th>\n",
       "      <td>142.619995</td>\n",
       "      <td>5</td>\n",
       "      <td>103.200001</td>\n",
       "      <td>224</td>\n",
       "      <td>0.044936</td>\n",
       "      <td>AT1G03475</td>\n",
       "    </tr>\n",
       "    <tr>\n",
       "      <th>3</th>\n",
       "      <td>169.490005</td>\n",
       "      <td>5</td>\n",
       "      <td>159.445000</td>\n",
       "      <td>6</td>\n",
       "      <td>0.392096</td>\n",
       "      <td>AT1G05900</td>\n",
       "    </tr>\n",
       "    <tr>\n",
       "      <th>4</th>\n",
       "      <td>104.839996</td>\n",
       "      <td>5</td>\n",
       "      <td>91.239998</td>\n",
       "      <td>31</td>\n",
       "      <td>0.192392</td>\n",
       "      <td>AT1G06500</td>\n",
       "    </tr>\n",
       "    <tr>\n",
       "      <th>...</th>\n",
       "      <td>...</td>\n",
       "      <td>...</td>\n",
       "      <td>...</td>\n",
       "      <td>...</td>\n",
       "      <td>...</td>\n",
       "      <td>...</td>\n",
       "    </tr>\n",
       "    <tr>\n",
       "      <th>196</th>\n",
       "      <td>158.489998</td>\n",
       "      <td>14</td>\n",
       "      <td>117.280003</td>\n",
       "      <td>18</td>\n",
       "      <td>0.157051</td>\n",
       "      <td>AT5G65740</td>\n",
       "    </tr>\n",
       "    <tr>\n",
       "      <th>197</th>\n",
       "      <td>143.850006</td>\n",
       "      <td>5</td>\n",
       "      <td>100.820000</td>\n",
       "      <td>740</td>\n",
       "      <td>0.131425</td>\n",
       "      <td>AT5G66190</td>\n",
       "    </tr>\n",
       "    <tr>\n",
       "      <th>198</th>\n",
       "      <td>86.834999</td>\n",
       "      <td>6</td>\n",
       "      <td>80.519997</td>\n",
       "      <td>5871</td>\n",
       "      <td>0.287221</td>\n",
       "      <td>AT5G66570</td>\n",
       "    </tr>\n",
       "    <tr>\n",
       "      <th>199</th>\n",
       "      <td>68.510002</td>\n",
       "      <td>7</td>\n",
       "      <td>104.424999</td>\n",
       "      <td>184</td>\n",
       "      <td>0.032701</td>\n",
       "      <td>AT5G67110</td>\n",
       "    </tr>\n",
       "    <tr>\n",
       "      <th>200</th>\n",
       "      <td>85.940002</td>\n",
       "      <td>9</td>\n",
       "      <td>86.370003</td>\n",
       "      <td>637</td>\n",
       "      <td>0.458457</td>\n",
       "      <td>AT5G67590</td>\n",
       "    </tr>\n",
       "  </tbody>\n",
       "</table>\n",
       "<p>201 rows × 6 columns</p>\n",
       "</div>"
      ],
      "text/plain": [
       "     es_polya_len  es_count  non_skipped_polya_len  non_skipped_count  \\\n",
       "0       82.670002      1880              57.970001                 15   \n",
       "1       58.970001         9             109.230000                 16   \n",
       "2      142.619995         5             103.200001                224   \n",
       "3      169.490005         5             159.445000                  6   \n",
       "4      104.839996         5              91.239998                 31   \n",
       "..            ...       ...                    ...                ...   \n",
       "196    158.489998        14             117.280003                 18   \n",
       "197    143.850006         5             100.820000                740   \n",
       "198     86.834999         6              80.519997               5871   \n",
       "199     68.510002         7             104.424999                184   \n",
       "200     85.940002         9              86.370003                637   \n",
       "\n",
       "      p_value    gene_id  \n",
       "0    0.010939  AT1G01100  \n",
       "1    0.001016  AT1G03365  \n",
       "2    0.044936  AT1G03475  \n",
       "3    0.392096  AT1G05900  \n",
       "4    0.192392  AT1G06500  \n",
       "..        ...        ...  \n",
       "196  0.157051  AT5G65740  \n",
       "197  0.131425  AT5G66190  \n",
       "198  0.287221  AT5G66570  \n",
       "199  0.032701  AT5G67110  \n",
       "200  0.458457  AT5G67590  \n",
       "\n",
       "[201 rows x 6 columns]"
      ]
     },
     "execution_count": 424,
     "metadata": {},
     "output_type": "execute_result"
    }
   ],
   "source": [
    "es_stats_polya"
   ]
  },
  {
   "cell_type": "code",
   "execution_count": 443,
   "metadata": {},
   "outputs": [
    {
     "name": "stderr",
     "output_type": "stream",
     "text": [
      "11/05/2020 07:28:06 PM colorbar.py: locator: <matplotlib.colorbar._ColorbarAutoLocator object at 0x2b04711d71d0>\n",
      "11/05/2020 07:28:06 PM colorbar.py: Using auto colorbar locator <matplotlib.colorbar._ColorbarAutoLocator object at 0x2b04711d71d0> on colorbar\n",
      "11/05/2020 07:28:06 PM colorbar.py: Setting pcolormesh\n"
     ]
    },
    {
     "data": {
      "text/plain": [
       "Text(0.5, 1.0, 'Median poly(A) tail (nt)')"
      ]
     },
     "execution_count": 443,
     "metadata": {},
     "output_type": "execute_result"
    },
    {
     "data": {
      "image/png": "[encoded data removed]",
      "text/plain": [
       "<Figure size 216x302.4 with 2 Axes>"
      ]
     },
     "metadata": {
      "needs_background": "light"
     },
     "output_type": "display_data"
    }
   ],
   "source": [
    "# CR-APA\n",
    "\n",
    "plt.figure(figsize=(3, 4.2))\n",
    "plt.scatter(\n",
    "    x=es_stats_polya['es_polya_len'], \n",
    "    y=es_stats_polya['non_skipped_polya_len'], \n",
    "    s=5, \n",
    "    c=-np.log10(es_stats_polya['p_value']),\n",
    "    cmap=plt.cm.get_cmap('Reds'),\n",
    "    vmax=4,\n",
    ")\n",
    "plt.xlim(0, 350)\n",
    "plt.ylim(0, 350)\n",
    "plt.plot([0, 350], [0, 350], color='#555555', ls='--')\n",
    "plt.xlabel('Exon skipping')\n",
    "plt.ylabel('Representative')\n",
    "plt.xticks([0, 100, 200, 300])\n",
    "plt.yticks([0, 100, 200, 300])\n",
    "colorbar = plt.colorbar(orientation=\"horizontal\")\n",
    "# colorbar.set_ticks([1, 2, 3, 4])\n",
    "# colorbar.set_ticklabels([1, 2, 3, '>4'])\n",
    "colorbar.set_label(\"- $\\log_{10}\\mathrm{(pvalue)}$\", size='small')\n",
    "plt.title('Median poly(A) tail (nt)', size='medium')"
   ]
  },
  {
   "cell_type": "code",
   "execution_count": 375,
   "metadata": {},
   "outputs": [],
   "source": [
    "# Calculate the point density\n",
    "xy = np.vstack([es_stats_polya['es_polya_len'], es_stats_polya['non_skipped_polya_len']])\n",
    "color = gaussian_kde(xy)(xy)"
   ]
  },
  {
   "cell_type": "code",
   "execution_count": 377,
   "metadata": {},
   "outputs": [
    {
     "name": "stderr",
     "output_type": "stream",
     "text": [
      "10/27/2020 03:00:29 PM colorbar.py: locator: <matplotlib.colorbar._ColorbarAutoLocator object at 0x2b04815b2790>\n",
      "10/27/2020 03:00:29 PM colorbar.py: Using auto colorbar locator <matplotlib.colorbar._ColorbarAutoLocator object at 0x2b04815b2790> on colorbar\n",
      "10/27/2020 03:00:29 PM colorbar.py: Setting pcolormesh\n"
     ]
    },
    {
     "data": {
      "image/png": "[encoded data removed]",
      "text/plain": [
       "<Figure size 266.4x216 with 2 Axes>"
      ]
     },
     "metadata": {
      "needs_background": "light"
     },
     "output_type": "display_data"
    }
   ],
   "source": [
    "plt.figure(figsize=(3.7, 3))\n",
    "plt.scatter(x=es_stats_polya['es_polya_len'], y=es_stats_polya['non_skipped_polya_len'], s=1, c=color)\n",
    "plt.xlim(0, 300)\n",
    "plt.ylim(0, 300)\n",
    "plt.plot([0, 300], [0, 300], color='#555555', ls='--')\n",
    "plt.xlabel('Median poly(A) tail length\\n(Exon skipping)')\n",
    "plt.ylabel('Median poly(A) tail length\\n(Non skipping)')\n",
    "plt.xticks([0, 100, 200, 300])\n",
    "plt.yticks([0, 100, 200, 300])\n",
    "colorbar = plt.colorbar()\n",
    "colorbar.set_label(\"Density\")"
   ]
  },
  {
   "cell_type": "code",
   "execution_count": 444,
   "metadata": {},
   "outputs": [],
   "source": [
    "df1 = pd.DataFrame(es_stats_polya['es_polya_len'].values, columns=['polya_len'])\n",
    "df1['type'] = 'exon skipped'\n",
    "df2 = pd.DataFrame(es_stats_polya['non_skipped_polya_len'].values, columns=['polya_len'])\n",
    "df2['type'] = 'non skipped'\n",
    "df = pd.concat([df1, df2])\n",
    "del df1, df2"
   ]
  },
  {
   "cell_type": "code",
   "execution_count": 445,
   "metadata": {},
   "outputs": [
    {
     "data": {
      "text/plain": [
       "Text(0.5, 0, '')"
      ]
     },
     "execution_count": 445,
     "metadata": {},
     "output_type": "execute_result"
    },
    {
     "data": {
      "image/png": "[encoded data removed]",
      "text/plain": [
       "<Figure size 216x216 with 1 Axes>"
      ]
     },
     "metadata": {
      "needs_background": "light"
     },
     "output_type": "display_data"
    }
   ],
   "source": [
    "plt.figure(figsize=(3, 3))\n",
    "sns.violinplot(x='type', y='polya_len', data=df, width=.5)\n",
    "plt.ylabel('Median poly(A) tail length (nt)')\n",
    "plt.xticks([0, 1], ['Exon skipping', 'Representative'])\n",
    "plt.xlabel('')"
   ]
  },
  {
   "cell_type": "code",
   "execution_count": 381,
   "metadata": {},
   "outputs": [
    {
     "name": "stdout",
     "output_type": "stream",
     "text": [
      "exon skipping polya length = 105.97\n",
      "non skipping polya length = 104.88\n"
     ]
    }
   ],
   "source": [
    "print(f'exon skipping polya length = {np.median(es_stats_polya[\"es_polya_len\"]):.2f}')\n",
    "print(f'non skipping polya length = {np.median(es_stats_polya[\"non_skipped_polya_len\"]):.2f}')"
   ]
  },
  {
   "cell_type": "code",
   "execution_count": 308,
   "metadata": {},
   "outputs": [
    {
     "data": {
      "text/plain": [
       "MannwhitneyuResult(statistic=12304.5, pvalue=0.4903297404784615)"
      ]
     },
     "execution_count": 308,
     "metadata": {},
     "output_type": "execute_result"
    }
   ],
   "source": [
    "mannwhitneyu(es_stats_polya[\"es_polya_len\"], es_stats_polya[\"non_skipped_polya_len\"])"
   ]
  },
  {
   "cell_type": "markdown",
   "metadata": {},
   "source": [
    "## single gene"
   ]
  },
  {
   "cell_type": "code",
   "execution_count": 447,
   "metadata": {},
   "outputs": [],
   "source": [
    "infile = '/public/home/mowp/data/total_RNA/nanopore_cdna/polyadenylated_data/nanopore_cdna.full_len.bam'\n",
    "gene_id = 'AT1G07780'\n",
    "gene_id = 'AT1G52220'\n",
    "gene_id = 'AT3G23280'\n",
    "es_polya_len, non_skipped_polya_len, gene_id = get_ES_read_polya_len(infile, gene_id, mode='raw')"
   ]
  },
  {
   "cell_type": "code",
   "execution_count": 448,
   "metadata": {},
   "outputs": [],
   "source": [
    "df1 = pd.DataFrame(es_polya_len, columns=['polya_len'])\n",
    "df1['type'] = 'ES'\n",
    "df2 = pd.DataFrame(non_skipped_polya_len, columns=['polya_len'])\n",
    "df2['type'] = 'Non-ES'\n",
    "df = pd.concat([df1, df2])\n",
    "del df1, df2"
   ]
  },
  {
   "cell_type": "code",
   "execution_count": 449,
   "metadata": {},
   "outputs": [
    {
     "data": {
      "text/plain": [
       "Text(0.5, 0, '')"
      ]
     },
     "execution_count": 449,
     "metadata": {},
     "output_type": "execute_result"
    },
    {
     "data": {
      "image/png": "[encoded data removed]",
      "text/plain": [
       "<Figure size 216x216 with 1 Axes>"
      ]
     },
     "metadata": {
      "needs_background": "light"
     },
     "output_type": "display_data"
    }
   ],
   "source": [
    "plt.figure(figsize=(3, 3))\n",
    "sns.violinplot(x='type', y='polya_len', data=df, width=.5)\n",
    "plt.ylabel('Median poly(A) tail length (nt)')\n",
    "plt.xticks([0, 1], ['Exon skipping', 'Representative'])\n",
    "plt.xlabel('')"
   ]
  },
  {
   "cell_type": "code",
   "execution_count": 389,
   "metadata": {},
   "outputs": [
    {
     "name": "stdout",
     "output_type": "stream",
     "text": [
      "exon skipped polya length = 121.19, n=30\n",
      "non exon skipped polya length = 129.65, n=35\n"
     ]
    }
   ],
   "source": [
    "print(f'exon skipped polya length = {np.median(es_polya_len):.2f}, n={len(es_polya_len)}')\n",
    "print(f'non exon skipped polya length = {np.median(non_skipped_polya_len):.2f}, n={len(non_skipped_polya_len)}')"
   ]
  },
  {
   "cell_type": "code",
   "execution_count": 374,
   "metadata": {},
   "outputs": [
    {
     "data": {
      "text/plain": [
       "MannwhitneyuResult(statistic=512.0, pvalue=0.43467352636371753)"
      ]
     },
     "execution_count": 374,
     "metadata": {},
     "output_type": "execute_result"
    }
   ],
   "source": [
    "mannwhitneyu(es_polya_len, non_skipped_polya_len)"
   ]
  },
  {
   "cell_type": "code",
   "execution_count": null,
   "metadata": {},
   "outputs": [],
   "source": []
  }
 ],
 "metadata": {
  "kernelspec": {
   "display_name": "Python 3",
   "language": "python",
   "name": "python3"
  },
  "language_info": {
   "codemirror_mode": {
    "name": "ipython",
    "version": 3
   },
   "file_extension": ".py",
   "mimetype": "text/x-python",
   "name": "python",
   "nbconvert_exporter": "python",
   "pygments_lexer": "ipython3",
   "version": "3.7.8"
  },
  "toc-autonumbering": true
 },
 "nbformat": 4,
 "nbformat_minor": 4
}
