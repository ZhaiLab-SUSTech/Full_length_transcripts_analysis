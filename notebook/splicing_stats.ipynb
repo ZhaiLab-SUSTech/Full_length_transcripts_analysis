{
 "cells": [
  {
   "cell_type": "code",
   "execution_count": 1,
   "metadata": {},
   "outputs": [],
   "source": [
    "from collections import defaultdict, namedtuple, Counter\n",
    "import pickle\n",
    "import pandas as pd\n",
    "import numpy as np\n",
    "from concurrent.futures import ProcessPoolExecutor\n",
    "import pyranges as pr\n",
    "import pysam\n",
    "from matplotlib import pyplot as plt\n",
    "import matplotlib.ticker as ticker\n",
    "import seaborn as sns\n",
    "from scipy.stats import variation, gaussian_kde, pearsonr, mannwhitneyu"
   ]
  },
  {
   "cell_type": "markdown",
   "metadata": {},
   "source": [
    "# intron retention"
   ]
  },
  {
   "cell_type": "markdown",
   "metadata": {},
   "source": [
    "## nanopore"
   ]
  },
  {
   "cell_type": "code",
   "execution_count": 8,
   "metadata": {},
   "outputs": [],
   "source": [
    "IR_stats = namedtuple('IR_stats', 'intron_total_count intron_count unsplice_count unsplice_intron')\n",
    "\n",
    "splice_stats_pkl = '/public/home/mowp/data/total_RNA/nanopore_cdna/polyadenylated_data/nanopore_cdna.full_len.bed.ir_stats.tsv'\n",
    "\n",
    "with open(splice_stats_pkl+'.pkl', 'rb') as f:\n",
    "    ir_stats_dict = pickle.load(f)"
   ]
  },
  {
   "cell_type": "code",
   "execution_count": 9,
   "metadata": {},
   "outputs": [
    {
     "data": {
      "text/plain": [
       "{'AT1G01100': IR_stats(intron_total_count=3, intron_count=3, unsplice_count=0, unsplice_intron='')}"
      ]
     },
     "execution_count": 9,
     "metadata": {},
     "output_type": "execute_result"
    }
   ],
   "source": [
    "ir_stats_dict['dfce655d-887f-47f2-8bc2-89767009db20']"
   ]
  },
  {
   "cell_type": "code",
   "execution_count": 18,
   "metadata": {},
   "outputs": [],
   "source": [
    "infile = '/public/home/mowp/data/total_RNA/nanopore_cdna/polyadenylated_data/nanopore_cdna.full_len.bam'\n",
    "ir_isoform = Counter()\n",
    "with pysam.AlignmentFile(infile, 'rb') as inbam:\n",
    "    for read in inbam:\n",
    "        gene_id = read.get_tag('gi')\n",
    "        try:\n",
    "            intron_total_count, intron_count, unspliced_count, unspliced_intron  = ir_stats_dict[read.query_name][gene_id]\n",
    "            if intron_count == 0:\n",
    "                # 转录还没有过第一个exon的情况\n",
    "                # 忽略\n",
    "                continue\n",
    "        except KeyError:\n",
    "            continue\n",
    "        \n",
    "        if unspliced_count > 0:\n",
    "            ir_isoform[(gene_id, intron_count, unspliced_count, unspliced_intron)] += 1"
   ]
  },
  {
   "cell_type": "code",
   "execution_count": 22,
   "metadata": {},
   "outputs": [],
   "source": [
    "ir_isoform_results = []\n",
    "for k, v in ir_isoform.items():\n",
    "    ir_isoform_results.append((*k, v))"
   ]
  },
  {
   "cell_type": "code",
   "execution_count": 24,
   "metadata": {},
   "outputs": [],
   "source": [
    "df = pd.DataFrame(ir_isoform_results, columns=('gene_id', 'total_intron_counts', 'retention_intron_counts', 'retention_intron_number', 'isoform_read_counts'))"
   ]
  },
  {
   "cell_type": "code",
   "execution_count": 26,
   "metadata": {},
   "outputs": [],
   "source": [
    "df.to_csv('/public/home/mowp/data/total_RNA/notebook/splicing_stats/nanopore_ir_stats.csv', index=False)"
   ]
  },
  {
   "cell_type": "markdown",
   "metadata": {},
   "source": [
    "## pacbio"
   ]
  },
  {
   "cell_type": "code",
   "execution_count": 27,
   "metadata": {},
   "outputs": [],
   "source": [
    "IR_stats = namedtuple('IR_stats', 'intron_total_count intron_count unsplice_count unsplice_intron')\n",
    "\n",
    "splice_stats_pkl = '/public/home/mowp/data/total_RNA/pacbio_cdna/polyadenylated_data/totalRNA.full_len.bed.ir_stats.tsv'\n",
    "\n",
    "with open(splice_stats_pkl+'.pkl', 'rb') as f:\n",
    "    ir_stats_dict = pickle.load(f)"
   ]
  },
  {
   "cell_type": "code",
   "execution_count": 28,
   "metadata": {},
   "outputs": [],
   "source": [
    "infile = '/public/home/mowp/data/total_RNA/pacbio_cdna/polyadenylated_data/totalRNA.full_len.bam'\n",
    "ir_isoform = Counter()\n",
    "with pysam.AlignmentFile(infile, 'rb') as inbam:\n",
    "    for read in inbam:\n",
    "        gene_id = read.get_tag('gi')\n",
    "        try:\n",
    "            intron_total_count, intron_count, unspliced_count, unspliced_intron  = ir_stats_dict[read.query_name][gene_id]\n",
    "            if intron_count == 0:\n",
    "                # 转录还没有过第一个exon的情况\n",
    "                # 忽略\n",
    "                continue\n",
    "        except KeyError:\n",
    "            continue\n",
    "        \n",
    "        if unspliced_count > 0:\n",
    "            ir_isoform[(gene_id, intron_count, unspliced_count, unspliced_intron)] += 1"
   ]
  },
  {
   "cell_type": "code",
   "execution_count": 29,
   "metadata": {},
   "outputs": [],
   "source": [
    "ir_isoform_results = []\n",
    "for k, v in ir_isoform.items():\n",
    "    ir_isoform_results.append((*k, v))"
   ]
  },
  {
   "cell_type": "code",
   "execution_count": 30,
   "metadata": {},
   "outputs": [],
   "source": [
    "df = pd.DataFrame(ir_isoform_results, columns=('gene_id', 'total_intron_counts', 'retention_intron_counts', 'retention_intron_number', 'isoform_read_counts'))"
   ]
  },
  {
   "cell_type": "code",
   "execution_count": 31,
   "metadata": {},
   "outputs": [
    {
     "data": {
      "text/html": [
       "<div>\n",
       "<style scoped>\n",
       "    .dataframe tbody tr th:only-of-type {\n",
       "        vertical-align: middle;\n",
       "    }\n",
       "\n",
       "    .dataframe tbody tr th {\n",
       "        vertical-align: top;\n",
       "    }\n",
       "\n",
       "    .dataframe thead th {\n",
       "        text-align: right;\n",
       "    }\n",
       "</style>\n",
       "<table border=\"1\" class=\"dataframe\">\n",
       "  <thead>\n",
       "    <tr style=\"text-align: right;\">\n",
       "      <th></th>\n",
       "      <th>gene_id</th>\n",
       "      <th>total_intron_counts</th>\n",
       "      <th>retention_intron_counts</th>\n",
       "      <th>retention_intron_number</th>\n",
       "      <th>isoform_read_counts</th>\n",
       "    </tr>\n",
       "  </thead>\n",
       "  <tbody>\n",
       "    <tr>\n",
       "      <th>0</th>\n",
       "      <td>AT1G01020</td>\n",
       "      <td>8</td>\n",
       "      <td>2</td>\n",
       "      <td>1,2</td>\n",
       "      <td>1</td>\n",
       "    </tr>\n",
       "    <tr>\n",
       "      <th>1</th>\n",
       "      <td>AT1G01020</td>\n",
       "      <td>8</td>\n",
       "      <td>1</td>\n",
       "      <td>4</td>\n",
       "      <td>3</td>\n",
       "    </tr>\n",
       "    <tr>\n",
       "      <th>2</th>\n",
       "      <td>AT1G01020</td>\n",
       "      <td>8</td>\n",
       "      <td>1</td>\n",
       "      <td>5</td>\n",
       "      <td>2</td>\n",
       "    </tr>\n",
       "    <tr>\n",
       "      <th>3</th>\n",
       "      <td>AT1G01020</td>\n",
       "      <td>8</td>\n",
       "      <td>2</td>\n",
       "      <td>3,4</td>\n",
       "      <td>3</td>\n",
       "    </tr>\n",
       "    <tr>\n",
       "      <th>4</th>\n",
       "      <td>AT1G01020</td>\n",
       "      <td>8</td>\n",
       "      <td>1</td>\n",
       "      <td>2</td>\n",
       "      <td>2</td>\n",
       "    </tr>\n",
       "    <tr>\n",
       "      <th>...</th>\n",
       "      <td>...</td>\n",
       "      <td>...</td>\n",
       "      <td>...</td>\n",
       "      <td>...</td>\n",
       "      <td>...</td>\n",
       "    </tr>\n",
       "    <tr>\n",
       "      <th>24087</th>\n",
       "      <td>AT5G67600</td>\n",
       "      <td>2</td>\n",
       "      <td>1</td>\n",
       "      <td>2</td>\n",
       "      <td>6</td>\n",
       "    </tr>\n",
       "    <tr>\n",
       "      <th>24088</th>\n",
       "      <td>AT5G67610</td>\n",
       "      <td>9</td>\n",
       "      <td>1</td>\n",
       "      <td>3</td>\n",
       "      <td>10</td>\n",
       "    </tr>\n",
       "    <tr>\n",
       "      <th>24089</th>\n",
       "      <td>AT5G67640</td>\n",
       "      <td>3</td>\n",
       "      <td>1</td>\n",
       "      <td>2</td>\n",
       "      <td>3</td>\n",
       "    </tr>\n",
       "    <tr>\n",
       "      <th>24090</th>\n",
       "      <td>ATMG00580</td>\n",
       "      <td>2</td>\n",
       "      <td>1</td>\n",
       "      <td>1</td>\n",
       "      <td>1</td>\n",
       "    </tr>\n",
       "    <tr>\n",
       "      <th>24091</th>\n",
       "      <td>ATCG00450</td>\n",
       "      <td>1</td>\n",
       "      <td>1</td>\n",
       "      <td>1</td>\n",
       "      <td>37</td>\n",
       "    </tr>\n",
       "  </tbody>\n",
       "</table>\n",
       "<p>24092 rows × 5 columns</p>\n",
       "</div>"
      ],
      "text/plain": [
       "         gene_id  total_intron_counts  retention_intron_counts  \\\n",
       "0      AT1G01020                    8                        2   \n",
       "1      AT1G01020                    8                        1   \n",
       "2      AT1G01020                    8                        1   \n",
       "3      AT1G01020                    8                        2   \n",
       "4      AT1G01020                    8                        1   \n",
       "...          ...                  ...                      ...   \n",
       "24087  AT5G67600                    2                        1   \n",
       "24088  AT5G67610                    9                        1   \n",
       "24089  AT5G67640                    3                        1   \n",
       "24090  ATMG00580                    2                        1   \n",
       "24091  ATCG00450                    1                        1   \n",
       "\n",
       "      retention_intron_number  isoform_read_counts  \n",
       "0                         1,2                    1  \n",
       "1                           4                    3  \n",
       "2                           5                    2  \n",
       "3                         3,4                    3  \n",
       "4                           2                    2  \n",
       "...                       ...                  ...  \n",
       "24087                       2                    6  \n",
       "24088                       3                   10  \n",
       "24089                       2                    3  \n",
       "24090                       1                    1  \n",
       "24091                       1                   37  \n",
       "\n",
       "[24092 rows x 5 columns]"
      ]
     },
     "execution_count": 31,
     "metadata": {},
     "output_type": "execute_result"
    }
   ],
   "source": [
    "df"
   ]
  },
  {
   "cell_type": "code",
   "execution_count": 32,
   "metadata": {},
   "outputs": [],
   "source": [
    "df.to_csv('/public/home/mowp/data/total_RNA/notebook/splicing_stats/pacbio_ir_stats.csv', index=False)"
   ]
  },
  {
   "cell_type": "markdown",
   "metadata": {},
   "source": [
    "# exon skipping"
   ]
  },
  {
   "cell_type": "code",
   "execution_count": 33,
   "metadata": {},
   "outputs": [],
   "source": [
    "ES_stats = namedtuple('ES_stats', 'exon_total_count exon_count skipped_exon_count skipped_exon')\n",
    "\n",
    "es_stats_pkl = '/public/home/mowp/data/total_RNA/nanopore_cdna/polyadenylated_data/nanopore_cdna.full_len.bed.es_stats.tsv.pkl'\n",
    "\n",
    "with open(es_stats_pkl, 'rb') as f:\n",
    "    es_stats_dict = pickle.load(f)"
   ]
  },
  {
   "cell_type": "code",
   "execution_count": 35,
   "metadata": {},
   "outputs": [
    {
     "data": {
      "text/plain": [
       "{'AT1G01100': ES_stats(exon_total_count=4, exon_count=4, skipped_exon_count=1, skipped_exon='1')}"
      ]
     },
     "execution_count": 35,
     "metadata": {},
     "output_type": "execute_result"
    }
   ],
   "source": [
    "es_stats_dict['ad1aa3af-d813-4c7b-82ae-338290ef25b9']"
   ]
  },
  {
   "cell_type": "code",
   "execution_count": 55,
   "metadata": {},
   "outputs": [],
   "source": [
    "infile = '/public/home/mowp/data/total_RNA/nanopore_cdna/polyadenylated_data/nanopore_cdna.full_len.bam'\n",
    "es_isoform = Counter()\n",
    "with pysam.AlignmentFile(infile, 'rb') as inbam:\n",
    "    for read in inbam:\n",
    "        gene_id = read.get_tag('gi')\n",
    "        try:\n",
    "            exon_total_count, exon_count, skipped_exon_count, skipped_exon = es_stats_dict[read.query_name][gene_id]\n",
    "        except KeyError:\n",
    "            continue\n",
    "        \n",
    "        if skipped_exon_count > 0:\n",
    "            es_isoform[(gene_id, exon_total_count, skipped_exon_count, skipped_exon)] += 1"
   ]
  },
  {
   "cell_type": "code",
   "execution_count": 57,
   "metadata": {},
   "outputs": [],
   "source": [
    "es_isoform_results = []\n",
    "for k, v in es_isoform.items():\n",
    "    es_isoform_results.append((*k, v))"
   ]
  },
  {
   "cell_type": "code",
   "execution_count": 58,
   "metadata": {},
   "outputs": [],
   "source": [
    "df = pd.DataFrame(es_isoform_results, columns=('gene_id', 'total_exon_counts', 'skipped_exon_count', 'skipped_exon', 'isoform_read_counts'))"
   ]
  },
  {
   "cell_type": "code",
   "execution_count": 59,
   "metadata": {},
   "outputs": [
    {
     "data": {
      "text/html": [
       "<div>\n",
       "<style scoped>\n",
       "    .dataframe tbody tr th:only-of-type {\n",
       "        vertical-align: middle;\n",
       "    }\n",
       "\n",
       "    .dataframe tbody tr th {\n",
       "        vertical-align: top;\n",
       "    }\n",
       "\n",
       "    .dataframe thead th {\n",
       "        text-align: right;\n",
       "    }\n",
       "</style>\n",
       "<table border=\"1\" class=\"dataframe\">\n",
       "  <thead>\n",
       "    <tr style=\"text-align: right;\">\n",
       "      <th></th>\n",
       "      <th>gene_id</th>\n",
       "      <th>total_exon_counts</th>\n",
       "      <th>skipped_exon_count</th>\n",
       "      <th>skipped_exon</th>\n",
       "      <th>isoform_read_counts</th>\n",
       "    </tr>\n",
       "  </thead>\n",
       "  <tbody>\n",
       "    <tr>\n",
       "      <th>0</th>\n",
       "      <td>AT1G01020</td>\n",
       "      <td>9</td>\n",
       "      <td>1</td>\n",
       "      <td>4</td>\n",
       "      <td>2</td>\n",
       "    </tr>\n",
       "    <tr>\n",
       "      <th>1</th>\n",
       "      <td>AT1G01020</td>\n",
       "      <td>9</td>\n",
       "      <td>4</td>\n",
       "      <td>2,3,4,5</td>\n",
       "      <td>1</td>\n",
       "    </tr>\n",
       "    <tr>\n",
       "      <th>2</th>\n",
       "      <td>AT1G01050</td>\n",
       "      <td>9</td>\n",
       "      <td>5</td>\n",
       "      <td>3,4,5,6,7</td>\n",
       "      <td>1</td>\n",
       "    </tr>\n",
       "    <tr>\n",
       "      <th>3</th>\n",
       "      <td>AT1G01060</td>\n",
       "      <td>9</td>\n",
       "      <td>1</td>\n",
       "      <td>2</td>\n",
       "      <td>1</td>\n",
       "    </tr>\n",
       "    <tr>\n",
       "      <th>4</th>\n",
       "      <td>AT1G01090</td>\n",
       "      <td>3</td>\n",
       "      <td>1</td>\n",
       "      <td>2</td>\n",
       "      <td>1</td>\n",
       "    </tr>\n",
       "    <tr>\n",
       "      <th>...</th>\n",
       "      <td>...</td>\n",
       "      <td>...</td>\n",
       "      <td>...</td>\n",
       "      <td>...</td>\n",
       "      <td>...</td>\n",
       "    </tr>\n",
       "    <tr>\n",
       "      <th>3669</th>\n",
       "      <td>AT5G67140</td>\n",
       "      <td>5</td>\n",
       "      <td>1</td>\n",
       "      <td>3</td>\n",
       "      <td>3</td>\n",
       "    </tr>\n",
       "    <tr>\n",
       "      <th>3670</th>\n",
       "      <td>AT5G67480</td>\n",
       "      <td>4</td>\n",
       "      <td>1</td>\n",
       "      <td>1</td>\n",
       "      <td>1</td>\n",
       "    </tr>\n",
       "    <tr>\n",
       "      <th>3671</th>\n",
       "      <td>AT5G67560</td>\n",
       "      <td>6</td>\n",
       "      <td>1</td>\n",
       "      <td>3</td>\n",
       "      <td>2</td>\n",
       "    </tr>\n",
       "    <tr>\n",
       "      <th>3672</th>\n",
       "      <td>AT5G67590</td>\n",
       "      <td>5</td>\n",
       "      <td>1</td>\n",
       "      <td>4</td>\n",
       "      <td>7</td>\n",
       "    </tr>\n",
       "    <tr>\n",
       "      <th>3673</th>\n",
       "      <td>AT5G67590</td>\n",
       "      <td>5</td>\n",
       "      <td>1</td>\n",
       "      <td>2</td>\n",
       "      <td>2</td>\n",
       "    </tr>\n",
       "  </tbody>\n",
       "</table>\n",
       "<p>3674 rows × 5 columns</p>\n",
       "</div>"
      ],
      "text/plain": [
       "        gene_id  total_exon_counts  skipped_exon_count skipped_exon  \\\n",
       "0     AT1G01020                  9                   1            4   \n",
       "1     AT1G01020                  9                   4      2,3,4,5   \n",
       "2     AT1G01050                  9                   5    3,4,5,6,7   \n",
       "3     AT1G01060                  9                   1            2   \n",
       "4     AT1G01090                  3                   1            2   \n",
       "...         ...                ...                 ...          ...   \n",
       "3669  AT5G67140                  5                   1            3   \n",
       "3670  AT5G67480                  4                   1            1   \n",
       "3671  AT5G67560                  6                   1            3   \n",
       "3672  AT5G67590                  5                   1            4   \n",
       "3673  AT5G67590                  5                   1            2   \n",
       "\n",
       "      isoform_read_counts  \n",
       "0                       2  \n",
       "1                       1  \n",
       "2                       1  \n",
       "3                       1  \n",
       "4                       1  \n",
       "...                   ...  \n",
       "3669                    3  \n",
       "3670                    1  \n",
       "3671                    2  \n",
       "3672                    7  \n",
       "3673                    2  \n",
       "\n",
       "[3674 rows x 5 columns]"
      ]
     },
     "execution_count": 59,
     "metadata": {},
     "output_type": "execute_result"
    }
   ],
   "source": [
    "df"
   ]
  },
  {
   "cell_type": "code",
   "execution_count": 60,
   "metadata": {},
   "outputs": [],
   "source": [
    "df.to_csv('/public/home/mowp/data/total_RNA/notebook/splicing_stats/nanopore_es_stats.csv', index=False)"
   ]
  },
  {
   "cell_type": "code",
   "execution_count": null,
   "metadata": {},
   "outputs": [],
   "source": []
  }
 ],
 "metadata": {
  "kernelspec": {
   "display_name": "Python 3.7.8 64-bit ('miniconda3': virtualenv)",
   "language": "python",
   "name": "python37864bitminiconda3virtualenvececd5d8aef7474596fafb39a3fe62a7"
  },
  "language_info": {
   "codemirror_mode": {
    "name": "ipython",
    "version": 3
   },
   "file_extension": ".py",
   "mimetype": "text/x-python",
   "name": "python",
   "nbconvert_exporter": "python",
   "pygments_lexer": "ipython3",
   "version": "3.7.8-final"
  }
 },
 "nbformat": 4,
 "nbformat_minor": 4
}
