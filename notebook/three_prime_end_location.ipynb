{
 "cells": [
  {
   "cell_type": "code",
   "execution_count": 1,
   "metadata": {},
   "outputs": [],
   "source": [
    "import numpy as np\n",
    "from glob import glob\n",
    "from collections import Counter, namedtuple, defaultdict, ChainMap\n",
    "from operator import attrgetter\n",
    "import heapq\n",
    "import pysam\n",
    "import pandas as pd\n",
    "import joblib\n",
    "from matplotlib import pyplot as plt"
   ]
  },
  {
   "cell_type": "code",
   "execution_count": 2,
   "metadata": {},
   "outputs": [],
   "source": [
    "import matplotlib.ticker as ticker\n",
    "\n",
    "# 设置全局字体\n",
    "\n",
    "import matplotlib.font_manager as font_manager\n",
    "font_dirs = [\"/public/home/mowp/test/fonts/\"]\n",
    "font_files = font_manager.findSystemFonts(fontpaths=font_dirs)\n",
    "\n",
    "for font_file in font_files:\n",
    "    font_manager.fontManager.addfont(font_file)\n",
    "    \n",
    "plt.rcParams[\"font.family\"] = \"Arial\"\n",
    "plt.rcParams['font.size'] = 12\n",
    "plt.rcParams['svg.fonttype'] = 'none'"
   ]
  },
  {
   "cell_type": "code",
   "execution_count": 3,
   "metadata": {},
   "outputs": [],
   "source": [
    "# parse bam file\n",
    "def bam_cigar_to_invs(aln, max_allowed_insertion):\n",
    "    invs = []\n",
    "    start = aln.reference_start\n",
    "    end = aln.reference_end\n",
    "    strand = '-' if aln.is_reverse else '+'\n",
    "    left = start\n",
    "    right = left\n",
    "    has_ins = False\n",
    "    for op, ln in aln.cigartuples:\n",
    "        if op in (4, 5):\n",
    "            # cigartuples: \n",
    "            #   S  BAM_CSOFT_CLIP  4\n",
    "            #   H  BAM_CHARD_CLIP  5\n",
    "            # does not consume reference\n",
    "            continue\n",
    "        elif op == 1 and ln > max_allowed_insertion:\n",
    "            # cigartuples: \n",
    "            #   I  BAM_CINS  1\n",
    "            has_ins = True\n",
    "        elif op in (0, 2, 7, 8):\n",
    "            # cigartuples: \n",
    "            #   M  BAM_CMATCH  0\n",
    "            #   D  BAM_CDEL  2\n",
    "            #   =  BAM_CEQUAL  7\n",
    "            #   X  BAM_CDIFF  8\n",
    "            # consume reference but do not add to invs yet\n",
    "            right += ln\n",
    "        elif op == 3:\n",
    "            # cigartuples: \n",
    "            #   N  BAM_CREF_SKIP  3\n",
    "            invs.append([left, right])\n",
    "            left = right + ln\n",
    "            right = left\n",
    "\n",
    "        # ❗ 以下if语句应该在循环内\n",
    "        if right > left:\n",
    "            invs.append([left, right])\n",
    "    assert invs[0][0] == start\n",
    "    assert invs[-1][1] == end\n",
    "    return start, end, strand, np.array(invs), has_ins\n",
    "\n",
    "PARSED_ALN = namedtuple('Aln', 'chrom start end read_id strand invs')\n",
    "\n",
    "def parse_pysam_aln(aln, max_allowed_insertion):\n",
    "    chrom = aln.reference_name\n",
    "    read_id = aln.query_name\n",
    "    start, end, strand, invs, has_ins = bam_cigar_to_invs(\n",
    "        aln, max_allowed_insertion)\n",
    "    return PARSED_ALN(chrom, start, end, read_id, strand, invs), has_ins"
   ]
  },
  {
   "cell_type": "code",
   "execution_count": 4,
   "metadata": {},
   "outputs": [],
   "source": [
    "# parse bed file\n",
    "\n",
    "def parse_exons_introns_flank(record, flanksize=200):\n",
    "    start = int(record[1])\n",
    "    end = int(record[2])\n",
    "    exstarts = np.fromstring(record[11], sep=',') + start\n",
    "    exends = exstarts + np.fromstring(record[10], sep=',')\n",
    "    exons = np.dstack([exstarts, exends])[0]\n",
    "    left_flank = np.array([[max(0, start - flanksize), start]])\n",
    "    right_flank = np.array([[end, end + flanksize]])\n",
    "    if len(exons) > 1:\n",
    "        introns = np.dstack([exons[:-1, 1], exons[1:, 0]])[0]\n",
    "    else:\n",
    "        introns = np.array([])\n",
    "    return exons, introns, left_flank, right_flank\n",
    "\n",
    "\n",
    "def split_intervals(invs, pos, side='left'):\n",
    "    idx = np.searchsorted(invs.ravel(), pos)\n",
    "    split = np.insert(invs.ravel(), idx, [pos, pos]).reshape(-1, 2)\n",
    "    split_idx = (idx + 1) // 2\n",
    "    return split[:split_idx], split[split_idx:]\n",
    "\n",
    "\n",
    "def parse_cds_utr_introns_flank(record, flanksize):\n",
    "    exons, introns, left_flank, right_flank = parse_exons_introns_flank(record, flanksize)\n",
    "    cds_start = int(record[6])\n",
    "    cds_end = int(record[7])\n",
    "    if not cds_start == cds_end:\n",
    "        utr1, cds = split_intervals(exons, cds_start)\n",
    "        cds, utr2 = split_intervals(cds, cds_end)\n",
    "    else:\n",
    "        utr1 = np.array([])\n",
    "        cds = np.array([])\n",
    "        utr2 = np.array([])\n",
    "    return utr1, cds, utr2, introns, left_flank, right_flank, exons\n",
    "\n",
    "\n",
    "def parse_features(record, flanksize=500):\n",
    "    ''' \n",
    "    Parse bed format\n",
    "\n",
    "    flanksize: up/downstream distance\n",
    "\n",
    "    Return:\n",
    "        {'chrom': '1',\n",
    "        'strand': '+',\n",
    "        'gene_id': 'spliced_9162',\n",
    "        'invs': {\n",
    "                'cds': np.array([[],]),\n",
    "                'introns': np.array([[],]),\n",
    "                'exons': np.array([[],]),\n",
    "                '5utr': array([[]], shape=(0, 2), dtype=float64),\n",
    "                '3utr': array([[]]),\n",
    "                'upstream': array([[]]),\n",
    "                'downstream': array([[]])\n",
    "                }\n",
    "        }\n",
    "    '''\n",
    "    features = {}\n",
    "    invs = {}\n",
    "    features['chrom'] = record[0].replace('Chr', '')\n",
    "    features['strand'] = record[5]\n",
    "    features['gene_id'] = record[3]\n",
    "    utr1, invs['cds'], utr2, invs['introns'], left_flank, right_flank, invs['exons'] = parse_cds_utr_introns_flank(record, flanksize)\n",
    "    if features['strand'] == '+':\n",
    "        invs['5utr'] = utr1\n",
    "        invs['3utr'] = utr2\n",
    "        invs['upstream'] = left_flank\n",
    "        invs['downstream'] = right_flank\n",
    "    else:\n",
    "        invs['5utr'] = utr2\n",
    "        invs['3utr'] = utr1\n",
    "        invs['upstream'] = right_flank\n",
    "        invs['downstream'] = left_flank\n",
    "    features['invs'] = invs\n",
    "    return features"
   ]
  },
  {
   "cell_type": "code",
   "execution_count": 5,
   "metadata": {},
   "outputs": [],
   "source": [
    "# intersect spliced invs\n",
    "def intersect(inv_a, inv_b):\n",
    "    a_start, a_end = inv_a\n",
    "    b_start, b_end = inv_b\n",
    "    if a_end < b_start or a_start > b_end:\n",
    "        return 0\n",
    "    else:\n",
    "        s = max(a_start, b_start)\n",
    "        e = min(a_end, b_end)\n",
    "        return e - s\n",
    "    \n",
    "\n",
    "def intersect_spliced_invs(invs_a, invs_b):\n",
    "    '''\n",
    "    Input:\n",
    "        invs_a: bam invs\n",
    "        invs_b: bed invs\n",
    "\n",
    "    Return:\n",
    "        overlap bases between invs\n",
    "    '''\n",
    "    score = 0\n",
    "    invs_a = iter(invs_a)\n",
    "    invs_b = iter(invs_b)\n",
    "    a_start, a_end = next(invs_a)\n",
    "    b_start, b_end = next(invs_b)\n",
    "    while True:\n",
    "        # 判断有无overlap\n",
    "        if a_end < b_start:\n",
    "            try:\n",
    "                a_start, a_end = next(invs_a)\n",
    "            except StopIteration:\n",
    "                break\n",
    "        elif a_start > b_end:\n",
    "            try:\n",
    "                b_start, b_end = next(invs_b)\n",
    "            except StopIteration:\n",
    "                break\n",
    "        else:\n",
    "            score += intersect([a_start, a_end], [b_start, b_end])\n",
    "            if a_end > b_end:\n",
    "                try:\n",
    "                    b_start, b_end = next(invs_b)\n",
    "                except StopIteration:\n",
    "                    break\n",
    "            else:\n",
    "                try:\n",
    "                    a_start, a_end = next(invs_a)\n",
    "                except StopIteration:\n",
    "                    break\n",
    "    return score"
   ]
  },
  {
   "cell_type": "code",
   "execution_count": 6,
   "metadata": {},
   "outputs": [],
   "source": [
    "def assign_three_prime_to_feature(three_prime_end, bed_record):\n",
    "    '''\n",
    "    判断3'site位于该representative gene model的哪个区间\n",
    "    '''\n",
    "    if bed_record['strand'] == '+' and three_prime_end >= bed_record['invs']['exons'][-1][1]:\n",
    "        return 'downstream'\n",
    "    elif bed_record['strand'] == '-' and three_prime_end < bed_record['invs']['exons'][0][0]:\n",
    "        return 'downstream'\n",
    "    for feature_type in ['3utr', 'cds', 'introns', '5utr']:\n",
    "        invs = bed_record['invs'][feature_type]\n",
    "        for start, end in invs:\n",
    "            if start <= three_prime_end < end:\n",
    "                return feature_type\n",
    "    else:\n",
    "        assert False"
   ]
  },
  {
   "cell_type": "code",
   "execution_count": 7,
   "metadata": {},
   "outputs": [],
   "source": [
    "class MultiBam(object):\n",
    "\n",
    "    def __init__(self, bam_fns):\n",
    "        # 用pysam打开\n",
    "        # 以字典形式存储 fn -> pysam对象\n",
    "        self.bam_handles = {bam_fn: pysam.AlignmentFile(bam_fn) for bam_fn in bam_fns}\n",
    "        self.closed = False\n",
    "\n",
    "    def fetch(self, *args, **kwargs):\n",
    "        queries = [bam.fetch(*args, **kwargs) for bam in self.bam_handles.values()]\n",
    "        yield from heapq.merge(*queries, key=attrgetter('reference_start'))\n",
    "\n",
    "    def close(self):\n",
    "        for bam in self.bam_handles.values():\n",
    "            bam.close()\n",
    "    \n",
    "    # 上下文管理特殊方法\n",
    "    def __enter__(self):\n",
    "        return self\n",
    "\n",
    "    def __exit__(self, *args):\n",
    "        self.close()"
   ]
  },
  {
   "cell_type": "code",
   "execution_count": 8,
   "metadata": {},
   "outputs": [],
   "source": [
    "# main\n",
    "# multi threads\n",
    "\n",
    "def fetch_bam(bam_path, record, record_span):\n",
    "    gene_tpe = Counter()\n",
    "    # 💡 在bam文件中遍历该基因exon区间\n",
    "    with pysam.AlignmentFile(bam_path, \"rb\") as bam:\n",
    "        for aln in bam.fetch(record['chrom'], *record_span):\n",
    "            aln, has_ins = parse_pysam_aln(aln, 30)\n",
    "            if has_ins:\n",
    "                continue\n",
    "            elif aln.strand != record['strand']:\n",
    "                continue\n",
    "            # aln.infer_query_length ?\n",
    "            aln_len = sum([e - s for s, e in aln.invs])\n",
    "            i = intersect_spliced_invs(aln.invs, record['invs']['exons'])\n",
    "            # overlap rate > 0.2\n",
    "            if i / aln_len > 0.2:\n",
    "                # tpe: three prime end\n",
    "                tpe = aln.start if aln.strand == '-' else aln.end\n",
    "                # three prime end position count += 1\n",
    "                gene_tpe[tpe] += 1\n",
    "    \n",
    "    return gene_tpe\n",
    "\n",
    "        \n",
    "def count_three_prime_ends_in_features(annotation_bed_fn, bam_path, threads=30):\n",
    "    feature_pos_counts = defaultdict(Counter)\n",
    "    feature_read_counts = defaultdict(Counter)\n",
    "    record_list = []\n",
    "    record_span_list = []\n",
    "    with open(annotation_bed_fn) as bed:\n",
    "        # 💡 遍历每个基因\n",
    "        for record in bed:\n",
    "            record = parse_features(record.split())  # record: bed file record\n",
    "            if not len(record['invs']['cds']):\n",
    "                # not protein coding, continue:\n",
    "                continue\n",
    "            record_span = (record['invs']['exons'][0][0], record['invs']['exons'][-1][1])\n",
    "            record_span_list.append(record_span)\n",
    "            record_list.append(record)\n",
    "    \n",
    "\n",
    "    with joblib.Parallel(threads) as pool:\n",
    "        # res: a list contain gene_tpe of each gene\n",
    "        res = pool(\n",
    "            joblib.delayed(fetch_bam)(bam_path, record, record_span)\n",
    "            for record, record_span in zip(record_list, record_span_list)\n",
    "        )\n",
    "\n",
    "            \n",
    "    for gene_tpe, record in zip(res, record_list):\n",
    "        # 💡 遍历上述筛选过的3'site\n",
    "        for tpe, count in gene_tpe.items():\n",
    "            feat_type = assign_three_prime_to_feature(tpe, record)\n",
    "            feature_pos_counts[record['gene_id']][feat_type] += 1  # 基因比例\n",
    "            feature_read_counts[record['gene_id']][feat_type] += count\n",
    "    feature_pos_counts = pd.DataFrame.from_dict(feature_pos_counts, orient='index').fillna(0)\n",
    "    feature_read_counts = pd.DataFrame.from_dict(feature_read_counts, orient='index').fillna(0)\n",
    "    return feature_pos_counts, feature_read_counts, res"
   ]
  },
  {
   "cell_type": "markdown",
   "metadata": {},
   "source": [
    "# main"
   ]
  },
  {
   "cell_type": "code",
   "execution_count": 9,
   "metadata": {},
   "outputs": [
    {
     "name": "stdout",
     "output_type": "stream",
     "text": [
      "CPU times: user 5min 18s, sys: 5.64 s, total: 5min 24s\n",
      "Wall time: 6min 15s\n"
     ]
    }
   ],
   "source": [
    "%%time\n",
    "\n",
    "representative_bed_path = '/public/home/mowp/db/Arabidopsis_thaliana/representative_gene_model/araport11.representative.gene_model.bed'\n",
    "bam_path = '/public/home/mowp/data/total_RNA/nanopore_cdna/polyadenylated_data/nanopore_cdna.polyadenylated.bam'\n",
    "\n",
    "three_prime_pos_counts, three_prime_read_counts, gene_tpe_list = count_three_prime_ends_in_features(\n",
    "    representative_bed_path, bam_path\n",
    ")"
   ]
  },
  {
   "cell_type": "code",
   "execution_count": 10,
   "metadata": {},
   "outputs": [],
   "source": [
    "! sendWechat.py"
   ]
  },
  {
   "cell_type": "code",
   "execution_count": 11,
   "metadata": {},
   "outputs": [
    {
     "data": {
      "text/html": [
       "<div>\n",
       "<style scoped>\n",
       "    .dataframe tbody tr th:only-of-type {\n",
       "        vertical-align: middle;\n",
       "    }\n",
       "\n",
       "    .dataframe tbody tr th {\n",
       "        vertical-align: top;\n",
       "    }\n",
       "\n",
       "    .dataframe thead th {\n",
       "        text-align: right;\n",
       "    }\n",
       "</style>\n",
       "<table border=\"1\" class=\"dataframe\">\n",
       "  <thead>\n",
       "    <tr style=\"text-align: right;\">\n",
       "      <th></th>\n",
       "      <th>downstream</th>\n",
       "      <th>3utr</th>\n",
       "      <th>cds</th>\n",
       "      <th>introns</th>\n",
       "      <th>5utr</th>\n",
       "    </tr>\n",
       "  </thead>\n",
       "  <tbody>\n",
       "    <tr>\n",
       "      <th>AT1G01010.1</th>\n",
       "      <td>4.0</td>\n",
       "      <td>14.0</td>\n",
       "      <td>0.0</td>\n",
       "      <td>0.0</td>\n",
       "      <td>0.0</td>\n",
       "    </tr>\n",
       "    <tr>\n",
       "      <th>AT1G01020.1</th>\n",
       "      <td>3.0</td>\n",
       "      <td>95.0</td>\n",
       "      <td>14.0</td>\n",
       "      <td>6.0</td>\n",
       "      <td>0.0</td>\n",
       "    </tr>\n",
       "    <tr>\n",
       "      <th>AT1G01030.1</th>\n",
       "      <td>22.0</td>\n",
       "      <td>0.0</td>\n",
       "      <td>0.0</td>\n",
       "      <td>0.0</td>\n",
       "      <td>0.0</td>\n",
       "    </tr>\n",
       "    <tr>\n",
       "      <th>AT1G01040.2</th>\n",
       "      <td>101.0</td>\n",
       "      <td>0.0</td>\n",
       "      <td>1.0</td>\n",
       "      <td>0.0</td>\n",
       "      <td>0.0</td>\n",
       "    </tr>\n",
       "    <tr>\n",
       "      <th>AT1G01050.1</th>\n",
       "      <td>51.0</td>\n",
       "      <td>545.0</td>\n",
       "      <td>0.0</td>\n",
       "      <td>0.0</td>\n",
       "      <td>0.0</td>\n",
       "    </tr>\n",
       "    <tr>\n",
       "      <th>...</th>\n",
       "      <td>...</td>\n",
       "      <td>...</td>\n",
       "      <td>...</td>\n",
       "      <td>...</td>\n",
       "      <td>...</td>\n",
       "    </tr>\n",
       "    <tr>\n",
       "      <th>AT5G66290.2</th>\n",
       "      <td>0.0</td>\n",
       "      <td>0.0</td>\n",
       "      <td>0.0</td>\n",
       "      <td>83.0</td>\n",
       "      <td>0.0</td>\n",
       "    </tr>\n",
       "    <tr>\n",
       "      <th>AT5G67260.2</th>\n",
       "      <td>0.0</td>\n",
       "      <td>0.0</td>\n",
       "      <td>0.0</td>\n",
       "      <td>302.0</td>\n",
       "      <td>0.0</td>\n",
       "    </tr>\n",
       "    <tr>\n",
       "      <th>AT1G63450.1</th>\n",
       "      <td>0.0</td>\n",
       "      <td>0.0</td>\n",
       "      <td>0.0</td>\n",
       "      <td>0.0</td>\n",
       "      <td>2.0</td>\n",
       "    </tr>\n",
       "    <tr>\n",
       "      <th>AT2G20150.1</th>\n",
       "      <td>0.0</td>\n",
       "      <td>0.0</td>\n",
       "      <td>0.0</td>\n",
       "      <td>0.0</td>\n",
       "      <td>1.0</td>\n",
       "    </tr>\n",
       "    <tr>\n",
       "      <th>ATMG01170.1</th>\n",
       "      <td>0.0</td>\n",
       "      <td>0.0</td>\n",
       "      <td>0.0</td>\n",
       "      <td>0.0</td>\n",
       "      <td>2.0</td>\n",
       "    </tr>\n",
       "  </tbody>\n",
       "</table>\n",
       "<p>23680 rows × 5 columns</p>\n",
       "</div>"
      ],
      "text/plain": [
       "             downstream   3utr   cds  introns  5utr\n",
       "AT1G01010.1         4.0   14.0   0.0      0.0   0.0\n",
       "AT1G01020.1         3.0   95.0  14.0      6.0   0.0\n",
       "AT1G01030.1        22.0    0.0   0.0      0.0   0.0\n",
       "AT1G01040.2       101.0    0.0   1.0      0.0   0.0\n",
       "AT1G01050.1        51.0  545.0   0.0      0.0   0.0\n",
       "...                 ...    ...   ...      ...   ...\n",
       "AT5G66290.2         0.0    0.0   0.0     83.0   0.0\n",
       "AT5G67260.2         0.0    0.0   0.0    302.0   0.0\n",
       "AT1G63450.1         0.0    0.0   0.0      0.0   2.0\n",
       "AT2G20150.1         0.0    0.0   0.0      0.0   1.0\n",
       "ATMG01170.1         0.0    0.0   0.0      0.0   2.0\n",
       "\n",
       "[23680 rows x 5 columns]"
      ]
     },
     "execution_count": 11,
     "metadata": {},
     "output_type": "execute_result"
    }
   ],
   "source": [
    "three_prime_read_counts"
   ]
  },
  {
   "cell_type": "code",
   "execution_count": 12,
   "metadata": {},
   "outputs": [
    {
     "data": {
      "text/html": [
       "<div>\n",
       "<style scoped>\n",
       "    .dataframe tbody tr th:only-of-type {\n",
       "        vertical-align: middle;\n",
       "    }\n",
       "\n",
       "    .dataframe tbody tr th {\n",
       "        vertical-align: top;\n",
       "    }\n",
       "\n",
       "    .dataframe thead th {\n",
       "        text-align: right;\n",
       "    }\n",
       "</style>\n",
       "<table border=\"1\" class=\"dataframe\">\n",
       "  <thead>\n",
       "    <tr style=\"text-align: right;\">\n",
       "      <th></th>\n",
       "      <th>downstream</th>\n",
       "      <th>3utr</th>\n",
       "      <th>cds</th>\n",
       "      <th>introns</th>\n",
       "      <th>5utr</th>\n",
       "    </tr>\n",
       "  </thead>\n",
       "  <tbody>\n",
       "    <tr>\n",
       "      <th>AT1G01010.1</th>\n",
       "      <td>3.0</td>\n",
       "      <td>11.0</td>\n",
       "      <td>0.0</td>\n",
       "      <td>0.0</td>\n",
       "      <td>0.0</td>\n",
       "    </tr>\n",
       "    <tr>\n",
       "      <th>AT1G01020.1</th>\n",
       "      <td>3.0</td>\n",
       "      <td>37.0</td>\n",
       "      <td>10.0</td>\n",
       "      <td>5.0</td>\n",
       "      <td>0.0</td>\n",
       "    </tr>\n",
       "    <tr>\n",
       "      <th>AT1G01030.1</th>\n",
       "      <td>13.0</td>\n",
       "      <td>0.0</td>\n",
       "      <td>0.0</td>\n",
       "      <td>0.0</td>\n",
       "      <td>0.0</td>\n",
       "    </tr>\n",
       "    <tr>\n",
       "      <th>AT1G01040.2</th>\n",
       "      <td>33.0</td>\n",
       "      <td>0.0</td>\n",
       "      <td>1.0</td>\n",
       "      <td>0.0</td>\n",
       "      <td>0.0</td>\n",
       "    </tr>\n",
       "    <tr>\n",
       "      <th>AT1G01050.1</th>\n",
       "      <td>18.0</td>\n",
       "      <td>76.0</td>\n",
       "      <td>0.0</td>\n",
       "      <td>0.0</td>\n",
       "      <td>0.0</td>\n",
       "    </tr>\n",
       "    <tr>\n",
       "      <th>...</th>\n",
       "      <td>...</td>\n",
       "      <td>...</td>\n",
       "      <td>...</td>\n",
       "      <td>...</td>\n",
       "      <td>...</td>\n",
       "    </tr>\n",
       "    <tr>\n",
       "      <th>AT5G66290.2</th>\n",
       "      <td>0.0</td>\n",
       "      <td>0.0</td>\n",
       "      <td>0.0</td>\n",
       "      <td>39.0</td>\n",
       "      <td>0.0</td>\n",
       "    </tr>\n",
       "    <tr>\n",
       "      <th>AT5G67260.2</th>\n",
       "      <td>0.0</td>\n",
       "      <td>0.0</td>\n",
       "      <td>0.0</td>\n",
       "      <td>63.0</td>\n",
       "      <td>0.0</td>\n",
       "    </tr>\n",
       "    <tr>\n",
       "      <th>AT1G63450.1</th>\n",
       "      <td>0.0</td>\n",
       "      <td>0.0</td>\n",
       "      <td>0.0</td>\n",
       "      <td>0.0</td>\n",
       "      <td>2.0</td>\n",
       "    </tr>\n",
       "    <tr>\n",
       "      <th>AT2G20150.1</th>\n",
       "      <td>0.0</td>\n",
       "      <td>0.0</td>\n",
       "      <td>0.0</td>\n",
       "      <td>0.0</td>\n",
       "      <td>1.0</td>\n",
       "    </tr>\n",
       "    <tr>\n",
       "      <th>ATMG01170.1</th>\n",
       "      <td>0.0</td>\n",
       "      <td>0.0</td>\n",
       "      <td>0.0</td>\n",
       "      <td>0.0</td>\n",
       "      <td>2.0</td>\n",
       "    </tr>\n",
       "  </tbody>\n",
       "</table>\n",
       "<p>23680 rows × 5 columns</p>\n",
       "</div>"
      ],
      "text/plain": [
       "             downstream  3utr   cds  introns  5utr\n",
       "AT1G01010.1         3.0  11.0   0.0      0.0   0.0\n",
       "AT1G01020.1         3.0  37.0  10.0      5.0   0.0\n",
       "AT1G01030.1        13.0   0.0   0.0      0.0   0.0\n",
       "AT1G01040.2        33.0   0.0   1.0      0.0   0.0\n",
       "AT1G01050.1        18.0  76.0   0.0      0.0   0.0\n",
       "...                 ...   ...   ...      ...   ...\n",
       "AT5G66290.2         0.0   0.0   0.0     39.0   0.0\n",
       "AT5G67260.2         0.0   0.0   0.0     63.0   0.0\n",
       "AT1G63450.1         0.0   0.0   0.0      0.0   2.0\n",
       "AT2G20150.1         0.0   0.0   0.0      0.0   1.0\n",
       "ATMG01170.1         0.0   0.0   0.0      0.0   2.0\n",
       "\n",
       "[23680 rows x 5 columns]"
      ]
     },
     "execution_count": 12,
     "metadata": {},
     "output_type": "execute_result"
    }
   ],
   "source": [
    "three_prime_pos_counts"
   ]
  },
  {
   "cell_type": "code",
   "execution_count": 13,
   "metadata": {},
   "outputs": [
    {
     "data": {
      "text/plain": [
       "downstream     285659.0\n",
       "3utr          4075266.0\n",
       "cds             28791.0\n",
       "introns         42041.0\n",
       "5utr             3920.0\n",
       "dtype: float64"
      ]
     },
     "execution_count": 13,
     "metadata": {},
     "output_type": "execute_result"
    }
   ],
   "source": [
    "three_prime_read_counts.sum()"
   ]
  },
  {
   "cell_type": "code",
   "execution_count": 14,
   "metadata": {},
   "outputs": [
    {
     "data": {
      "text/plain": [
       "downstream     93124.0\n",
       "3utr          620538.0\n",
       "cds            12266.0\n",
       "introns        14171.0\n",
       "5utr            1026.0\n",
       "dtype: float64"
      ]
     },
     "execution_count": 14,
     "metadata": {},
     "output_type": "execute_result"
    }
   ],
   "source": [
    "three_prime_pos_counts.sum()"
   ]
  },
  {
   "cell_type": "markdown",
   "metadata": {},
   "source": [
    "**3'UTR比例**"
   ]
  },
  {
   "cell_type": "code",
   "execution_count": 46,
   "metadata": {},
   "outputs": [
    {
     "data": {
      "text/plain": [
       "98.31475556042516"
      ]
     },
     "execution_count": 46,
     "metadata": {},
     "output_type": "execute_result"
    }
   ],
   "source": [
    "tot = three_prime_read_counts.sum()\n",
    "(tot['3utr'] + tot['downstream']) / tot.sum() * 100"
   ]
  },
  {
   "cell_type": "code",
   "execution_count": 16,
   "metadata": {},
   "outputs": [
    {
     "data": {
      "text/plain": [
       "4360925.0"
      ]
     },
     "execution_count": 16,
     "metadata": {},
     "output_type": "execute_result"
    }
   ],
   "source": [
    "tot['3utr'] + tot['downstream']"
   ]
  },
  {
   "cell_type": "markdown",
   "metadata": {},
   "source": [
    "**CDS区比例**"
   ]
  },
  {
   "cell_type": "code",
   "execution_count": 17,
   "metadata": {},
   "outputs": [
    {
     "data": {
      "text/plain": [
       "0.6490779197854126"
      ]
     },
     "execution_count": 17,
     "metadata": {},
     "output_type": "execute_result"
    }
   ],
   "source": [
    "tot['cds'] / tot.sum()  * 100"
   ]
  },
  {
   "cell_type": "code",
   "execution_count": 18,
   "metadata": {},
   "outputs": [
    {
     "data": {
      "text/plain": [
       "28791.0"
      ]
     },
     "execution_count": 18,
     "metadata": {},
     "output_type": "execute_result"
    }
   ],
   "source": [
    "tot['cds']"
   ]
  },
  {
   "cell_type": "markdown",
   "metadata": {},
   "source": [
    "**intron区比例**"
   ]
  },
  {
   "cell_type": "code",
   "execution_count": 19,
   "metadata": {},
   "outputs": [
    {
     "data": {
      "text/plain": [
       "0.9477921859504197"
      ]
     },
     "execution_count": 19,
     "metadata": {},
     "output_type": "execute_result"
    }
   ],
   "source": [
    "tot['introns'] / tot.sum()  * 100"
   ]
  },
  {
   "cell_type": "code",
   "execution_count": 20,
   "metadata": {},
   "outputs": [
    {
     "data": {
      "text/plain": [
       "42041.0"
      ]
     },
     "execution_count": 20,
     "metadata": {},
     "output_type": "execute_result"
    }
   ],
   "source": [
    "tot['introns']"
   ]
  },
  {
   "cell_type": "markdown",
   "metadata": {},
   "source": [
    "**5'UTR比例**"
   ]
  },
  {
   "cell_type": "code",
   "execution_count": 21,
   "metadata": {},
   "outputs": [
    {
     "data": {
      "text/plain": [
       "0.08837433383900586"
      ]
     },
     "execution_count": 21,
     "metadata": {},
     "output_type": "execute_result"
    }
   ],
   "source": [
    "tot['5utr'] / tot.sum()  * 100"
   ]
  },
  {
   "cell_type": "code",
   "execution_count": 22,
   "metadata": {},
   "outputs": [
    {
     "data": {
      "text/plain": [
       "3920.0"
      ]
     },
     "execution_count": 22,
     "metadata": {},
     "output_type": "execute_result"
    }
   ],
   "source": [
    "tot['5utr']"
   ]
  },
  {
   "cell_type": "markdown",
   "metadata": {},
   "source": [
    "# plot"
   ]
  },
  {
   "cell_type": "code",
   "execution_count": 23,
   "metadata": {},
   "outputs": [],
   "source": [
    "import matplotlib.pyplot as plt"
   ]
  },
  {
   "cell_type": "code",
   "execution_count": 68,
   "metadata": {},
   "outputs": [
    {
     "data": {
      "text/plain": [
       "downstream     285659.0\n",
       "3utr          4075266.0\n",
       "cds             28791.0\n",
       "introns         42041.0\n",
       "5utr             3920.0\n",
       "dtype: float64"
      ]
     },
     "execution_count": 68,
     "metadata": {},
     "output_type": "execute_result"
    }
   ],
   "source": [
    "tot = three_prime_read_counts.sum()\n",
    "tot"
   ]
  },
  {
   "cell_type": "code",
   "execution_count": 69,
   "metadata": {},
   "outputs": [],
   "source": [
    "tot = tot.loc[['3utr', 'downstream', 'cds', 'introns', '5utr',]]\n",
    "tot.index = ['3\\'UTR', 'Downstream', 'Exon', 'Introns', '5\\'UTR']"
   ]
  },
  {
   "cell_type": "code",
   "execution_count": 93,
   "metadata": {},
   "outputs": [
    {
     "data": {
      "text/plain": [
       "3'UTR         4075266.0\n",
       "Downstream     285659.0\n",
       "Exon            28791.0\n",
       "Introns         42041.0\n",
       "5'UTR            3920.0\n",
       "dtype: float64"
      ]
     },
     "execution_count": 93,
     "metadata": {},
     "output_type": "execute_result"
    }
   ],
   "source": [
    "tot"
   ]
  },
  {
   "cell_type": "code",
   "execution_count": 89,
   "metadata": {},
   "outputs": [
    {
     "data": {
      "text/plain": [
       "3'UTR         0.918747\n",
       "Downstream    0.064400\n",
       "Exon          0.006491\n",
       "Introns       0.009478\n",
       "5'UTR         0.000884\n",
       "dtype: float64"
      ]
     },
     "execution_count": 89,
     "metadata": {},
     "output_type": "execute_result"
    }
   ],
   "source": [
    "tot/sum(tot)"
   ]
  },
  {
   "cell_type": "code",
   "execution_count": 92,
   "metadata": {},
   "outputs": [
    {
     "data": {
      "image/png": "[encoded data removed]",
      "text/plain": [
       "<Figure size 216x216 with 1 Axes>"
      ]
     },
     "metadata": {
      "needs_background": "light"
     },
     "output_type": "display_data"
    }
   ],
   "source": [
    "plt.figure(figsize=(3, 3))\n",
    "plt.bar(x=np.arange(5), height=tot/sum(tot), width=.5)\n",
    "plt.ylim(0, .2)\n",
    "plt.xticks(\n",
    "    np.arange(5), \n",
    "    ['3\\'UTR', 'Downstream', 'Exon', 'Introns', '5\\'UTR'],\n",
    "    rotation=45,\n",
    "    ha='right'\n",
    ")\n",
    "plt.yticks([0, 0.05, 0.1, 0.15, 0.2], [0, 5, 10, 90, 95])\n",
    "plt.ylabel('Percentage')\n",
    "plt.savefig('three_end_distribution.svg', bbox_inches='tight')"
   ]
  },
  {
   "cell_type": "code",
   "execution_count": 33,
   "metadata": {},
   "outputs": [
    {
     "data": {
      "image/png": "[encoded data removed]",
      "text/plain": [
       "<Figure size 432x288 with 1 Axes>"
      ]
     },
     "metadata": {},
     "output_type": "display_data"
    }
   ],
   "source": [
    "plt.pie(\n",
    "    tot, autopct='%1.1f%%',\n",
    "    colors=['#EF5F72', '#F79812', '#F7D606', '#B0DDE7', '#D7B4DB']\n",
    ")\n",
    "\n",
    "plt.legend(tot.index, bbox_to_anchor=(1, .25, 0.5, 0.5), frameon=False, ncol=3)\n",
    "plt.savefig('3\\'end_pct_cb2.svg', bbox_inches='tight')\n",
    "plt.show()"
   ]
  },
  {
   "cell_type": "code",
   "execution_count": null,
   "metadata": {},
   "outputs": [],
   "source": [
    "plt.legend?"
   ]
  },
  {
   "cell_type": "code",
   "execution_count": 114,
   "metadata": {},
   "outputs": [
    {
     "data": {
      "image/png": "[encoded data removed]",
      "text/plain": [
       "<Figure size 576x360 with 2 Axes>"
      ]
     },
     "metadata": {},
     "output_type": "display_data"
    }
   ],
   "source": [
    "fig, ax = plt.subplots(1,2, figsize=(8, 5))\n",
    "\n",
    "ax[0].set_title('3\\'end of cbRNA')\n",
    "pie = ax[0].pie(tot, \n",
    "        #labels=labels, \n",
    "        autopct='%1.1f%%', \n",
    "        colors=['#EF5F72', '#F79812', '#F7D606', '#B0DDE7', '#D7B4DB'])\n",
    "\n",
    "# set legend\n",
    "ax[1].legend(pie[0], tot.index, loc=\"center left\", frameon=False,)\n",
    "ax[1].spines['right'].set_visible(False)\n",
    "ax[1].spines['left'].set_visible(False)\n",
    "ax[1].spines['top'].set_visible(False)\n",
    "ax[1].spines['bottom'].set_visible(False)\n",
    "ax[1].yaxis.set_major_locator(ticker.NullLocator())\n",
    "ax[1].xaxis.set_major_locator(ticker.NullLocator())\n",
    "\n",
    "plt.subplots_adjust(wspace=0)"
   ]
  },
  {
   "cell_type": "markdown",
   "metadata": {},
   "source": [
    "**polt 3'end**"
   ]
  },
  {
   "cell_type": "code",
   "execution_count": 26,
   "metadata": {},
   "outputs": [
    {
     "data": {
      "text/plain": [
       "[<matplotlib.lines.Line2D at 0x2b6e31e174d0>]"
      ]
     },
     "execution_count": 26,
     "metadata": {},
     "output_type": "execute_result"
    },
    {
     "data": {
      "image/png": "[encoded data removed]",
      "text/plain": [
       "<Figure size 432x288 with 1 Axes>"
      ]
     },
     "metadata": {
      "needs_background": "light"
     },
     "output_type": "display_data"
    }
   ],
   "source": [
    "import scipy.stats as stats\n",
    "\n",
    "gene_tpe = gene_tpe_list[1]\n",
    "data = np.array(list(gene_tpe.elements()))\n",
    "nparam_density = stats.kde.gaussian_kde(data)\n",
    "x = np.array(list(gene_tpe.keys()))\n",
    "nparam_density = nparam_density(x)\n",
    "best = round(x[np.argsort(nparam_density)[-1]])\n",
    "plt.axvline(best, ls='--', color='#000000', lw=2)\n",
    "plt.hist(data, bins=30, density=True)\n",
    "plt.plot(x, nparam_density)"
   ]
  },
  {
   "cell_type": "code",
   "execution_count": 63,
   "metadata": {},
   "outputs": [
    {
     "data": {
      "text/plain": [
       "6860"
      ]
     },
     "execution_count": 63,
     "metadata": {},
     "output_type": "execute_result"
    }
   ],
   "source": [
    "best"
   ]
  },
  {
   "cell_type": "code",
   "execution_count": 64,
   "metadata": {},
   "outputs": [
    {
     "data": {
      "text/plain": [
       "[(6854, 13)]"
      ]
     },
     "execution_count": 64,
     "metadata": {},
     "output_type": "execute_result"
    }
   ],
   "source": [
    "gene_tpe.most_common(1)"
   ]
  },
  {
   "cell_type": "code",
   "execution_count": null,
   "metadata": {},
   "outputs": [],
   "source": []
  }
 ],
 "metadata": {
  "kernelspec": {
   "display_name": "Python 3",
   "language": "python",
   "name": "python3"
  },
  "language_info": {
   "codemirror_mode": {
    "name": "ipython",
    "version": 3
   },
   "file_extension": ".py",
   "mimetype": "text/x-python",
   "name": "python",
   "nbconvert_exporter": "python",
   "pygments_lexer": "ipython3",
   "version": "3.7.8"
  }
 },
 "nbformat": 4,
 "nbformat_minor": 4
}
