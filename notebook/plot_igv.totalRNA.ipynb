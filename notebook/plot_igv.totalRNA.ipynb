{
 "cells": [
  {
   "cell_type": "code",
   "execution_count": 37,
   "metadata": {},
   "outputs": [],
   "source": [
    "import matplotlib.pyplot as plt\n",
    "import matplotlib.ticker as ticker\n",
    "import matplotlib.patches as mp\n",
    "import pandas as pd\n",
    "import numpy as np\n",
    "import pysam\n",
    "import pyranges as pr\n",
    "from scipy import stats\n",
    "from collections import Counter"
   ]
  },
  {
   "cell_type": "code",
   "execution_count": 2,
   "metadata": {},
   "outputs": [],
   "source": [
    "# 设置全局字体\n",
    "\n",
    "import matplotlib.font_manager as font_manager\n",
    "font_dirs = [\"/public/home/mowp/test/fonts/\"]\n",
    "font_files = font_manager.findSystemFonts(fontpaths=font_dirs)\n",
    "\n",
    "for font_file in font_files:\n",
    "    font_manager.fontManager.addfont(font_file)\n",
    "    \n",
    "plt.rcParams[\"font.family\"] = \"Arial\"\n",
    "plt.rcParams['font.size'] = 12\n",
    "plt.rcParams['svg.fonttype'] = 'none'"
   ]
  },
  {
   "cell_type": "markdown",
   "metadata": {},
   "source": [
    "# load data"
   ]
  },
  {
   "cell_type": "code",
   "execution_count": 3,
   "metadata": {},
   "outputs": [],
   "source": [
    "# 读取代表性转录本gene_model\n",
    "araport11_isoform_path = '/public/home/mowp/db/Arabidopsis_thaliana/representative_gene_model/araport11.representative.gene_model.bed'\n",
    "araport11_isoform = pd.read_csv(araport11_isoform_path, sep='\\t', \n",
    "                                names=['chrom', 'chromStart', 'chromEnd', 'name', \n",
    "                                       'score', 'strand', 'thickStart', 'thickEnd', \n",
    "                                       'itemRgb', 'blockCount', 'blockSizes', 'blockStarts']\n",
    "                               )\n",
    "araport11_isoform['gene_id'] = araport11_isoform['name'].map(lambda x: x.split('.')[0])\n",
    "araport11_isoform.set_index('gene_id', inplace=True)"
   ]
  },
  {
   "cell_type": "code",
   "execution_count": 4,
   "metadata": {},
   "outputs": [],
   "source": [
    "# 获取所有 pA site位置\n",
    "all_pa_path = '/public/home/mowp/data/chromatin_rna/polya_sites/cbRNA.polya_cluster.summit.bed'\n",
    "all_pa_site = pd.read_csv(\n",
    "    all_pa_path, sep='\\t',\n",
    "    names=['chrom', 'chromStart', 'chromEnd', 'name',\n",
    "         'score', 'strand', 'ratio'],\n",
    ")\n",
    "all_pa_site['name'] = all_pa_site['name'].map(lambda x: x.split('_')[0])\n",
    "all_pa_site.set_index('name', inplace=True)"
   ]
  },
  {
   "cell_type": "code",
   "execution_count": 5,
   "metadata": {},
   "outputs": [],
   "source": [
    "# 获取 last pA site位置\n",
    "last_pa_path = '/public/home/mowp/data/chromatin_rna/polya_sites/cbRNA.last_polya_cluster_summit.bed'\n",
    "last_pa_site = pd.read_csv(\n",
    "    last_pa_path, sep='\\t',\n",
    "    names=['chrom', 'chromStart', 'chromEnd', 'name',\n",
    "         'score', 'strand', 'ratio'],\n",
    ")\n",
    "last_pa_site['name'] = last_pa_site['name'].map(lambda x: x.split('_')[0])\n",
    "last_pa_site.set_index('name', inplace=True)"
   ]
  },
  {
   "cell_type": "code",
   "execution_count": null,
   "metadata": {},
   "outputs": [],
   "source": []
  },
  {
   "cell_type": "code",
   "execution_count": null,
   "metadata": {},
   "outputs": [],
   "source": []
  },
  {
   "cell_type": "code",
   "execution_count": null,
   "metadata": {},
   "outputs": [],
   "source": []
  },
  {
   "cell_type": "code",
   "execution_count": null,
   "metadata": {},
   "outputs": [],
   "source": [
    "# 根据retention intron 排序\n",
    "def _sort_bam(self, read_list):\n",
    "    '''\n",
    "    if self.strand == '+':\n",
    "        read_list.sort(key=lambda read: splice_stats_dict[read.query_name][self.gene_id].unsplice_intron)\n",
    "    else:\n",
    "        read_list.sort(key=lambda read: splice_stats_dict[read.query_name][self.gene_id].unsplice_intron, reverse=True)\n",
    "    '''\n",
    "    if self.strand == '+':\n",
    "        read_list.sort(key=lambda read: read.reference_end)\n",
    "    else:\n",
    "        read_list.sort(key=lambda read: read.reference_start, reverse=True)"
   ]
  },
  {
   "cell_type": "markdown",
   "metadata": {},
   "source": [
    "# main class"
   ]
  },
  {
   "cell_type": "code",
   "execution_count": 155,
   "metadata": {},
   "outputs": [],
   "source": [
    "class IGV:\n",
    "    '''\n",
    "    IGV(gene_id)\n",
    "    '''\n",
    "    def __init__(self, gene_id):\n",
    "        self.gene_id = gene_id\n",
    "        self._get_gene_info()\n",
    "        self.max = self.end\n",
    "        self.min = self.start\n",
    "        self.bam_list = {}\n",
    "\n",
    "    def _set_plot_range(self, read, polya_len=0):\n",
    "        if not read.is_reverse and self.max < read.reference_end+polya_len:\n",
    "            self.max = read.reference_end+int(polya_len)\n",
    "        elif read.is_reverse and self.min > read.reference_start-polya_len:\n",
    "            self.min = read.reference_start-int(polya_len)\n",
    "\n",
    "\n",
    "    def _get_gene_info(self):\n",
    "        '''\n",
    "        Get gene info from bed file\n",
    "        '''\n",
    "        gene_info = araport11_isoform.loc[self.gene_id]  # araport11_isoform loaded from pandas\n",
    "        self.chrom = gene_info.chrom\n",
    "        self.start = gene_info.chromStart\n",
    "        self.end = gene_info.chromEnd\n",
    "        self.strand = gene_info.strand\n",
    "        self.thickStart = gene_info.thickStart\n",
    "        self.thickEnd = gene_info.thickEnd\n",
    "        self.blockCount = gene_info.blockCount\n",
    "        self.strand_boo = False if self.strand == '+' else True\n",
    "        self.blockSizes = np.fromstring(gene_info.blockSizes, sep=',', dtype='int')\n",
    "        self.blockStarts = np.fromstring(gene_info.blockStarts, sep=',', dtype='int') + self.start # 0 base\n",
    "\n",
    "    def _plot_gene_model(self, ax, gene_color='k'):\n",
    "        # 画转录起始位点及方向箭头\n",
    "        small_relative = 0.05 * (self.end-self.start)  # 箭头突出部分相对长度\n",
    "        arrowprops = dict(arrowstyle=\"-|>\", connectionstyle=\"angle\", color=gene_color)\n",
    "        if self.strand == '+':\n",
    "            ax.annotate('', xy=(self.start+small_relative, .6), xytext=(self.start, 0), arrowprops=arrowprops)\n",
    "        else:\n",
    "            ax.annotate('', xy=(self.end-small_relative, .6), xytext=(self.end, 0), arrowprops=arrowprops)\n",
    "        ax.plot([self.start, self.end], [0, 0], color=gene_color)  # 基因有多长这条线就有多长\n",
    "\n",
    "        height = .3 # gene model 高度\n",
    "\n",
    "        for exonstart, size in zip(self.blockStarts, self.blockSizes):\n",
    "            if exonstart == self.start and exonstart+size == self.end:\n",
    "                utr_size = self.thickStart-self.start\n",
    "                utr = mp.Rectangle((exonstart, 0-height/2), utr_size, height, color=gene_color, linewidth=0)\n",
    "                ax.add_patch(utr)\n",
    "                utr_size = self.end-self.thickEnd\n",
    "                utr = mp.Rectangle((self.thickEnd, 0-height/2), utr_size, height, color=gene_color, linewidth=0)\n",
    "                ax.add_patch(utr)\n",
    "                exon = mp.Rectangle((self.thickStart, 0-height), self.thickEnd-self.thickStart, height*2, color=gene_color, linewidth=0)\n",
    "                ax.add_patch(exon)\n",
    "            elif exonstart + size <= self.thickStart:\n",
    "                # 只有5'/ 3'UTR\n",
    "                utr = mp.Rectangle((exonstart, 0-height/2), size, height, color=gene_color, linewidth=0)\n",
    "                ax.add_patch(utr)\n",
    "            elif exonstart < self.thickStart and exonstart + size > self.thickStart:\n",
    "                # 带有5' / 3' UTR的exon\n",
    "                utr_size = self.thickStart-exonstart\n",
    "                utr = mp.Rectangle((exonstart, 0-height/2), utr_size, height, color=gene_color, linewidth=0)\n",
    "                exon = mp.Rectangle((exonstart+utr_size, 0-height), size-utr_size, height*2, color=gene_color, linewidth=0)\n",
    "                ax.add_patch(utr)\n",
    "                ax.add_patch(exon)\n",
    "            elif exonstart >= self.thickStart and exonstart + size <= self.thickEnd:\n",
    "                # 普通exon\n",
    "                exon = mp.Rectangle((exonstart, 0-height), size, height*2, color=gene_color, linewidth=0)\n",
    "                ax.add_patch(exon)\n",
    "            elif exonstart < self.thickEnd and exonstart + size > self.thickEnd:\n",
    "                # 带有3' / 5' UTR的exon\n",
    "                utr_size = exonstart + size - self.thickEnd\n",
    "                utr = mp.Rectangle((self.thickEnd, 0-height/2), utr_size, height, color=gene_color, linewidth=0)\n",
    "                exon = mp.Rectangle((exonstart, 0-height), size-utr_size, height*2, color=gene_color, linewidth=0)\n",
    "                ax.add_patch(utr)\n",
    "                ax.add_patch(exon)\n",
    "            elif exonstart >= self.thickEnd:\n",
    "                # 只有3'/ 5'UTR\n",
    "                utr = mp.Rectangle((exonstart, 0-height/2), size, height, color=gene_color, linewidth=0)\n",
    "                ax.add_patch(utr)\n",
    "            \n",
    "        ax.annotate(s=self.gene_id, xy=((self.start+self.end)/2, 0.8), ha='center')\n",
    "        ax.spines['right'].set_visible(False)\n",
    "        ax.spines['left'].set_visible(False)\n",
    "        ax.spines['top'].set_visible(False)\n",
    "        ax.spines['bottom'].set_visible(False)\n",
    "        ax.yaxis.set_major_locator(ticker.NullLocator())\n",
    "        ax.xaxis.set_major_locator(ticker.NullLocator())\n",
    "        ax.xaxis.set_ticks_position('none')\n",
    "        ax.set_ylim(-.5, 1)\n",
    "        \n",
    "        \n",
    "    def _find_exon(self, read):\n",
    "        BAM_CREF_SKIP = 3 #BAM_CREF_SKIP\n",
    "        blockStart = []\n",
    "        blockSize = []\n",
    "        match_or_deletion = {0, 2, 7, 8} # only M/=/X (0/7/8) and D (2) are related to genome position\n",
    "        exon_start = read.reference_start\n",
    "        length = 0\n",
    "        for op, nt in read.cigartuples:\n",
    "            if op in match_or_deletion:\n",
    "                length += nt\n",
    "            elif op == BAM_CREF_SKIP:\n",
    "                blockStart.append(exon_start)\n",
    "                blockSize.append(length)\n",
    "                exon_start += length+nt\n",
    "                length = 0\n",
    "        blockStart.append(exon_start)\n",
    "        blockSize.append(length)\n",
    "        return zip(blockStart, blockSize)\n",
    "        \n",
    "    def _plot_bam(self, ax, read_list, bam_num, read_color='#5D93C4', polya_color='lightcoral'):\n",
    "        ypos = 0\n",
    "        height = .6\n",
    "        n = 0\n",
    "        for read in read_list:\n",
    "            polya_len = read.get_tag('pa')\n",
    "            if polya_len > self.polya_len_threshold:\n",
    "                continue\n",
    "            n += 1\n",
    "\n",
    "            line = mp.Rectangle((read.reference_start, ypos-height/4), read.reference_length, height/2, color='#A6A6A6', linewidth=0)\n",
    "            ax.add_patch(line)\n",
    "            for block_start, block_size in self._find_exon(read):\n",
    "                exon = mp.Rectangle((block_start, ypos-height), block_size, height*2, color=read_color, linewidth=0)\n",
    "                ax.add_patch(exon)\n",
    "\n",
    "            # 画polya尾巴\n",
    "            if self.plot_polya and polya_len > 15:\n",
    "                if self.strand == '+':\n",
    "                    polya_tail = mp.Rectangle((block_start+block_size, ypos-height), polya_len, height*2, color=polya_color, linewidth=0)\n",
    "                    ax.add_patch(polya_tail)\n",
    "                else:\n",
    "                    polya_tail = mp.Rectangle((read.reference_start, ypos-height), -polya_len, height*2, color=polya_color, linewidth=0)\n",
    "                    ax.add_patch(polya_tail)\n",
    "            ypos += -1\n",
    "\n",
    "        #step = (self.end-self.start)//400*100  # 坐标轴步长\n",
    "        step = (self.max-self.min)//400*100  # 坐标轴步长\n",
    "\n",
    "        if self.strand == '+':\n",
    "            #xticks = np.arange(self.start, self.end+step, step)\n",
    "            xticks = np.arange(self.start, self.max+step, step)\n",
    "            ax.set_xticklabels(xticks-self.start)\n",
    "            ax.set_xticks(xticks)\n",
    "            ax.set_xlim(self.min, self.max)\n",
    "        else:\n",
    "            #xticks = np.arange(self.end, self.start-step, -step)\n",
    "            xticks = np.arange(self.end, self.min-step, -step)\n",
    "            ax.set_xticklabels(self.end-xticks)\n",
    "            ax.set_xticks(xticks)\n",
    "            ax.set_xlim(self.min, self.max)\n",
    "            ax.invert_xaxis()\n",
    "\n",
    "        \n",
    "        ax.spines['right'].set_visible(False)\n",
    "        ax.spines['left'].set_visible(False)\n",
    "        ax.spines['top'].set_visible(False)\n",
    "        ax.yaxis.set_major_locator(ticker.NullLocator())\n",
    "        ax.set_ylim(ypos-int(len(read_list)*.1), 1+int(len(read_list)*.1))\n",
    "        ax.set_xlabel('Length (nt)')\n",
    "\n",
    "        print(n)\n",
    "\n",
    "    def _filter_reads(self, read, five_prime_threshold=150):\n",
    "        # 过滤read方向不一致的read\n",
    "        if read.is_reverse is not self.strand_boo:\n",
    "            return True\n",
    "        # 过滤上游基因reads\n",
    "        if read.is_reverse and read.reference_end-self.end > five_prime_threshold:\n",
    "            return True\n",
    "        elif not read.is_reverse and self.start - read.reference_start > five_prime_threshold:\n",
    "            return True\n",
    "\n",
    "        return False\n",
    "\n",
    "    def _sort_bam(self, read_list, sortby='five'):\n",
    "#         if self.strand == '+':\n",
    "#             read_list.sort(key=lambda read: read.reference_end)\n",
    "#         else:\n",
    "#             read_list.sort(key=lambda read: read.reference_start, reverse=True)\n",
    "        if sortby == 'five':\n",
    "            if self.strand == '+':\n",
    "                read_list.sort(key=lambda read: read.reference_start)\n",
    "            else:\n",
    "                read_list.sort(key=lambda read: read.reference_end, reverse=True)\n",
    "        elif sortby == 'three':\n",
    "            if self.strand == '+':\n",
    "                read_list.sort(key=lambda read: read.reference_end)\n",
    "            else:\n",
    "                read_list.sort(key=lambda read: read.reference_start, reverse=True)\n",
    "\n",
    "    def zscore_treatment(self, data):\n",
    "        '''\n",
    "        根据zscore去除异常值 (threshold=3)\n",
    "        返回最大值\n",
    "        '''\n",
    "        data = np.array(data)\n",
    "        z = np.abs(stats.zscore(data))\n",
    "        return data[z<=3].max()\n",
    "\n",
    "\n",
    "    def add_bam(self, *bam_paths, plot_polya=False, sortby='five'):\n",
    "        '''\n",
    "        Input:\n",
    "            A list of bam files\n",
    "            eg. add_bam('a.bam', 'b.bam')\n",
    "        '''\n",
    "        self.plot_polya = plot_polya\n",
    "        polya_len_list = []\n",
    "        for bam_path in bam_paths:\n",
    "            with pysam.AlignmentFile(bam_path, 'rb') as inbam:\n",
    "                polya_read, non_polya_read = [], []\n",
    "                '''\n",
    "                向基因下游延申1000nt\n",
    "                不能超过染色体范围\n",
    "                '''\n",
    "                if self.strand == '-':\n",
    "                    start = self.start-1000 if self.start > 1000 else 1\n",
    "                    end = self.end\n",
    "                else:\n",
    "                    end = self.end+1000 if self.end+1000 < inbam.get_reference_length(self.chrom) else inbam.get_reference_length(self.chrom)\n",
    "                    start = self.start\n",
    "                    \n",
    "                for read in inbam.fetch(self.chrom, start, end):\n",
    "                    # 过滤read\n",
    "                    if self._filter_reads(read):\n",
    "                        continue\n",
    "\n",
    "                    polya_len = read.get_tag('pa')\n",
    "                    gap = read.get_tag('ga')\n",
    "                    read_gene_id = read.get_tag('gi')\n",
    "                    if read_gene_id not in {gene_id, 'None'}:\n",
    "                        continue\n",
    "                    \n",
    "                    if plot_polya and polya_len > 15:\n",
    "                        polya_read.append(read)\n",
    "                    elif gap < 5 and polya_len < 15:\n",
    "                        non_polya_read.append(read)\n",
    "\n",
    "                    polya_len_list.append(polya_len)\n",
    "            # 按照3'end排序\n",
    "            self._sort_bam(polya_read, sortby=sortby)\n",
    "            self._sort_bam(non_polya_read, sortby=sortby)\n",
    "            # 合并\n",
    "            non_polya_read.extend(polya_read)\n",
    "            self.bam_list[bam_path] = non_polya_read\n",
    "\n",
    "            self.polya_len_threshold = self.zscore_treatment(polya_len_list)\n",
    "\n",
    "        for bam_path in bam_paths:\n",
    "            with pysam.AlignmentFile(bam_path, 'rb') as inbam:\n",
    "                for read in inbam.fetch(self.chrom, start, end):\n",
    "                    if polya_len < self.polya_len_threshold:\n",
    "                        self._set_plot_range(read, polya_len)\n",
    "                        \n",
    "                        \n",
    "    def plot(self, height, width):\n",
    "        nrows = len(self.bam_list)+1\n",
    "        height_ratios = [.6]\n",
    "        for bam_path in self.bam_list:\n",
    "            if height == 'auto':\n",
    "                height_ratios.append(len(self.bam_list[bam_path])*.02)\n",
    "            else:\n",
    "                height_ratios.append(height)\n",
    "\n",
    "        fig, ax = plt.subplots(\n",
    "            nrows=nrows, \n",
    "            gridspec_kw={'height_ratios': height_ratios},\n",
    "            figsize=(width, sum(height_ratios)),\n",
    "            sharex = True,\n",
    "        )\n",
    "\n",
    "        # plot gene_model\n",
    "        if len(self.bam_list) == 0:\n",
    "            self._plot_gene_model(ax)\n",
    "        else:\n",
    "            self._plot_gene_model(ax[0])\n",
    "\n",
    "        # plot bam files\n",
    "        for i, bam_path in enumerate(self.bam_list, 1):\n",
    "            self._plot_bam(ax[i], self.bam_list[bam_path], i)\n",
    "        plt.subplots_adjust(hspace=0)\n",
    "        plt.savefig(f'igv_plot/{self.gene_id}.igv.svg', format='svg', bbox_inches='tight')"
   ]
  },
  {
   "cell_type": "code",
   "execution_count": 8,
   "metadata": {
    "jupyter": {
     "source_hidden": true
    }
   },
   "outputs": [],
   "source": [
    "class IGV_pa(IGV):\n",
    "    '''\n",
    "    add pA sites to the igv plot\n",
    "    '''\n",
    "    def __init__(self, gene_id):\n",
    "        self.gene_id = gene_id\n",
    "        self._get_gene_info()\n",
    "        self.max = self.end\n",
    "        self.min = self.start\n",
    "        self._get_pa_site()\n",
    "        self.bam_list = {}\n",
    "    \n",
    "    def _get_pa_site(self):\n",
    "        try:\n",
    "            try:\n",
    "                self.pa_sites = all_pa_site.loc[self.gene_id, 'chromStart'].values\n",
    "            except AttributeError:\n",
    "                self.pa_sites = [all_pa_site.loc[self.gene_id, 'chromStart']]\n",
    "        except KeyError:\n",
    "            self.pa_sites = None\n",
    "    \n",
    "    def _plot_pa(self, ax):\n",
    "        for pa_site in self.pa_sites:\n",
    "            ax.axvline(pa_site, ls='--', color='#555555', lw=1)\n",
    "    \n",
    "    def plot(self, height='auto'):\n",
    "        nrows = len(self.bam_list)+1\n",
    "        height_ratios = [.6]\n",
    "        for bam_path in self.bam_list:\n",
    "            if height == 'auto':\n",
    "                height_ratios.append(len(self.bam_list[bam_path])*.02)\n",
    "            else:\n",
    "                height_ratios.append(height)\n",
    "\n",
    "        fig, ax = plt.subplots(\n",
    "            nrows=nrows, \n",
    "            gridspec_kw={'height_ratios': height_ratios},\n",
    "            figsize=(10, sum(height_ratios)),\n",
    "            sharex = True,\n",
    "        )\n",
    "\n",
    "        # plot gene_model\n",
    "        self._plot_gene_model(ax[0])\n",
    "\n",
    "        # plot bam files\n",
    "        for i, bam_path in enumerate(self.bam_list, 1):\n",
    "            self._plot_pa(ax[i])\n",
    "            self._plot_bam(ax[i], self.bam_list[bam_path])\n",
    "        plt.subplots_adjust(hspace=0)\n",
    "        plt.savefig(f'{self.gene_id}.igv_pa.svg', format='svg', bbox_inches='tight')    \n"
   ]
  },
  {
   "cell_type": "markdown",
   "metadata": {},
   "source": [
    "# transcript categry"
   ]
  },
  {
   "cell_type": "code",
   "execution_count": 10,
   "metadata": {
    "jupyter": {
     "source_hidden": true
    }
   },
   "outputs": [],
   "source": [
    "# 2020.10.20 update\n",
    "\n",
    "class IGV_transcript_categry(IGV):\n",
    "    '''\n",
    "    画不同类型的转录本\n",
    "    '''\n",
    "    def __init__(self, gene_id):\n",
    "        self.gene_id = gene_id\n",
    "        self._get_gene_info()\n",
    "        self.max = self.end\n",
    "        self.min = self.start\n",
    "        self._get_pa_site()\n",
    "        self.bam_list = {}\n",
    "        self.bam_num = 0\n",
    "    \n",
    "    def _get_pa_site(self):\n",
    "        try:\n",
    "            try:\n",
    "                self.pa_sites = all_pa_site.loc[self.gene_id, 'chromStart'].values\n",
    "            except AttributeError:\n",
    "                self.pa_sites = [all_pa_site.loc[self.gene_id, 'chromStart']]\n",
    "        except KeyError:\n",
    "            self.pa_sites = None\n",
    "    \n",
    "    def _plot_pa(self, ax):\n",
    "        for pa_site in self.pa_sites:\n",
    "            ax.axvline(pa_site, ls='--', color='#555555', lw=1)\n",
    "            ax.axvspan(pa_site-24, pa_site+24, color='#555555', alpha=0.2)\n",
    "\n",
    "    def _plot_bam(self, ax, read_list, bam_num, read_color='#5D93C4', polya_color='lightcoral'):\n",
    "        ypos = 0\n",
    "        height = .4\n",
    "        for read in read_list:\n",
    "            if read is None:\n",
    "                ypos += -int(len(read_list)*.08)\n",
    "                continue\n",
    "            line = mp.Rectangle((read.reference_start, ypos-height/4), read.reference_length, height/2, color='#A6A6A6', linewidth=0)\n",
    "            ax.add_patch(line)\n",
    "            #read_color = read.get_tag('co')\n",
    "            for block_start, block_size in self._find_exon(read):\n",
    "                exon = mp.Rectangle((block_start, ypos-height), block_size, height*2, color=read_color, linewidth=0)\n",
    "                ax.add_patch(exon)\n",
    "            # 画polya尾巴\n",
    "            polya_len = read.get_tag('pa')\n",
    "            if self.plot_polya and polya_len > 15:\n",
    "                if self.strand == '+':\n",
    "                    polya_tail = mp.Rectangle((block_start+block_size, ypos-height), polya_len, height*2, color=polya_color, linewidth=0)\n",
    "                    ax.add_patch(polya_tail)\n",
    "                else:\n",
    "                    polya_tail = mp.Rectangle((read.reference_start, ypos-height), -polya_len, height*2, color=polya_color, linewidth=0)\n",
    "                    ax.add_patch(polya_tail)\n",
    "            ypos += -1\n",
    "\n",
    "        #step = (self.end-self.start)//400*100  # 坐标轴步长\n",
    "        step = (self.max-self.min)//400*100  # 坐标轴步长\n",
    "\n",
    "        if self.strand == '+':\n",
    "            #xticks = np.arange(self.start, self.end+step, step)\n",
    "            xticks = np.arange(self.start, self.max+step, step)\n",
    "            ax.set_xticklabels(xticks-self.start)\n",
    "            ax.set_xticks(xticks)\n",
    "            ax.set_xlim(self.min, self.max)\n",
    "        else:\n",
    "            #xticks = np.arange(self.end, self.start-step, -step)\n",
    "            xticks = np.arange(self.end, self.min-step, -step)\n",
    "            ax.set_xticklabels(self.end-xticks)\n",
    "            ax.set_xticks(xticks)\n",
    "            ax.set_xlim(self.min, self.max)\n",
    "            ax.invert_xaxis()\n",
    "\n",
    "        ax.spines['right'].set_visible(False)\n",
    "        ax.spines['left'].set_visible(False)\n",
    "        ax.spines['top'].set_visible(False)\n",
    "        ax.yaxis.set_major_locator(ticker.NullLocator())\n",
    "        if bam_num != self.bam_num:\n",
    "            ax.xaxis.set_major_locator(ticker.NullLocator())\n",
    "            ax.xaxis.set_ticks_position('none')\n",
    "        else:\n",
    "            ax.set_xlabel('Length (nt)')\n",
    "        \n",
    "        ax.set_ylim(ypos-int(len(read_list)*.3), 1+int(len(read_list)*.8))\n",
    "        \n",
    "    \n",
    "    def plot(self, height=1, width=5):\n",
    "        nrows = self.bam_num+1\n",
    "        height_ratios = [.6]+[height]*self.bam_num\n",
    "\n",
    "        fig, ax = plt.subplots(\n",
    "            nrows=nrows, \n",
    "            gridspec_kw={'height_ratios': height_ratios},\n",
    "            figsize=(width, sum(height_ratios)),\n",
    "            sharex = True,\n",
    "        )\n",
    "\n",
    "        # plot gene_model\n",
    "        self._plot_gene_model(ax[0])\n",
    "\n",
    "        # plot bam files\n",
    "        i = 1\n",
    "        for bam_path in self.bam_list:\n",
    "            for bam_reads in self.bam_list[bam_path]:\n",
    "                self._plot_pa(ax[i])\n",
    "                self._plot_bam(ax[i], bam_reads, i)\n",
    "                i += 1\n",
    "        plt.subplots_adjust(hspace=0)\n",
    "        plt.savefig(f'{self.gene_id}.transcript_cata.svg', format='svg', bbox_inches='tight')\n",
    "    \n",
    "    def add_bam(self, *bam_paths, plot_polya=True, extend=1000):\n",
    "        '''\n",
    "        Input:\n",
    "            A list of bam files\n",
    "            eg. add_bam('a.bam', 'b.bam')\n",
    "        '''\n",
    "        results = []\n",
    "        self.plot_polya = plot_polya\n",
    "        #results = [None]\n",
    "        for bam_path in bam_paths:\n",
    "            with pysam.AlignmentFile(bam_path, 'rb') as inbam:\n",
    "                transcript_categries = {\n",
    "                    'elongating': [],\n",
    "                    'uncleavaged_readthrough': [],\n",
    "                    'cleavaged': [],\n",
    "                    'cleavaged_readthrough': [],\n",
    "                    'polyadenylated': [],\n",
    "                    }   # 以字典形式放不同类型的转录本reads\n",
    "                '''\n",
    "                向基因下游延申1000nt\n",
    "                不能超过染色体范围\n",
    "                '''\n",
    "                if self.strand == '-':\n",
    "                    start = self.start-extend if self.start > extend else 1\n",
    "                    end = self.end\n",
    "                else:\n",
    "                    end = self.end+extend if self.end+extend < inbam.get_reference_length(self.chrom) else inbam.get_reference_length(self.chrom)\n",
    "                    start = self.start\n",
    "                    \n",
    "                for read in inbam.fetch(self.chrom, start, end):\n",
    "                    # 过滤read\n",
    "                    if self._filter_reads(read):\n",
    "                        continue\n",
    "\n",
    "                    polya_len = read.get_tag('pa')\n",
    "                    gap = read.get_tag('ga')\n",
    "                    read_gene_id = read.get_tag('gi')\n",
    "                    if read_gene_id not in {gene_id, 'None'}:\n",
    "                        continue\n",
    "                    \n",
    "                    \n",
    "                    if plot_polya and polya_len > 15:\n",
    "                        transcript_categries['polyadenylated'].append(read)\n",
    "                        self._set_plot_range(read, polya_len)\n",
    "                    elif polya_len < 15 and gap < 5:\n",
    "                        self._set_plot_range(read)\n",
    "\n",
    "                        if self.strand == '-':\n",
    "                            five_end = read.reference_end*-1\n",
    "                            three_end = read.reference_start*-1\n",
    "                            pa_site = last_pa_site.at[gene_id, 'chromEnd']*-1\n",
    "                        else:\n",
    "                            five_end = read.reference_start\n",
    "                            three_end = read.reference_end\n",
    "                            pa_site = last_pa_site.at[gene_id, 'chromEnd']\n",
    "\n",
    "                        \n",
    "                        if five_end >= pa_site:\n",
    "                            transcript_categries['cleavaged_readthrough'].append(read)\n",
    "                        elif three_end < pa_site-24:\n",
    "                            transcript_categries['elongating'].append(read)\n",
    "                        elif three_end > pa_site+24:\n",
    "                            transcript_categries['uncleavaged_readthrough'].append(read)\n",
    "                        elif pa_site-24 <= three_end <= pa_site+24:\n",
    "                            transcript_categries['cleavaged'].append(read)\n",
    "                \n",
    "            # 按照3'end排序 + 合并\n",
    "            for read_type in transcript_categries:\n",
    "                self._sort_bam(transcript_categries[read_type])\n",
    "                results.append(transcript_categries[read_type])\n",
    "                self.bam_num += 1\n",
    "            \n",
    "            self.bam_list[bam_path] = results\n"
   ]
  },
  {
   "cell_type": "code",
   "execution_count": 12,
   "metadata": {
    "collapsed": true,
    "jupyter": {
     "outputs_hidden": true
    }
   },
   "outputs": [
    {
     "name": "stderr",
     "output_type": "stream",
     "text": [
      "/public/home/mowp/miniconda3/lib/python3.7/site-packages/ipykernel_launcher.py:83: MatplotlibDeprecationWarning: The 's' parameter of annotate() has been renamed 'text' since Matplotlib 3.3; support for the old name will be dropped two minor releases later.\n",
      "/public/home/mowp/miniconda3/lib/python3.7/site-packages/ipykernel_launcher.py:66: UserWarning: FixedFormatter should only be used together with FixedLocator\n"
     ]
    },
    {
     "name": "stdout",
     "output_type": "stream",
     "text": [
      "CPU times: user 20.6 s, sys: 931 ms, total: 21.5 s\n",
      "Wall time: 20.4 s\n"
     ]
    },
    {
     "data": {
      "image/png": "[encoded data removed]",
      "text/plain": [
       "<Figure size 576x367.2 with 6 Axes>"
      ]
     },
     "metadata": {
      "needs_background": "light"
     },
     "output_type": "display_data"
    }
   ],
   "source": [
    "%%time\n",
    "\n",
    "# WT\n",
    "\n",
    "gene_id = 'AT2G33830'\n",
    "wt_bam_file = '/public/home/mowp/data/cbRNA_3/aligned_data/cb3.adjust.sorted.tagged.bam'\n",
    "igv = IGV_transcript_categry(gene_id)\n",
    "igv.add_bam(wt_bam_file, plot_polya=True)\n",
    "igv.plot(height=.9, width=8)"
   ]
  },
  {
   "cell_type": "code",
   "execution_count": 114,
   "metadata": {},
   "outputs": [
    {
     "name": "stdout",
     "output_type": "stream",
     "text": [
      "441\n",
      "361\n",
      "54\n",
      "35\n",
      "983\n"
     ]
    }
   ],
   "source": [
    "for bam_file in igv.bam_list:\n",
    "    for intermediate in igv.bam_list[bam_file]:\n",
    "        print(len(intermediate))"
   ]
  },
  {
   "cell_type": "code",
   "execution_count": 78,
   "metadata": {},
   "outputs": [
    {
     "name": "stderr",
     "output_type": "stream",
     "text": [
      "/public/home/mowp/miniconda3/lib/python3.7/site-packages/ipykernel_launcher.py:83: MatplotlibDeprecationWarning: The 's' parameter of annotate() has been renamed 'text' since Matplotlib 3.3; support for the old name will be dropped two minor releases later.\n",
      "/public/home/mowp/miniconda3/lib/python3.7/site-packages/ipykernel_launcher.py:145: UserWarning: FixedFormatter should only be used together with FixedLocator\n"
     ]
    },
    {
     "name": "stdout",
     "output_type": "stream",
     "text": [
      "279\n",
      "103\n",
      "CPU times: user 11.3 s, sys: 67.1 ms, total: 11.4 s\n",
      "Wall time: 11.4 s\n"
     ]
    },
    {
     "data": {
      "image/png": "[encoded data removed]",
      "text/plain": [
       "<Figure size 432x504 with 3 Axes>"
      ]
     },
     "metadata": {
      "needs_background": "light"
     },
     "output_type": "display_data"
    }
   ],
   "source": [
    "%%time\n",
    "\n",
    "\n",
    "gene_id = 'AT1G61520'\n",
    "gene_id = 'AT1G01920'\n",
    "gene_id = 'AT1G02205'\n",
    "gene_id = 'AT1G02305'\n",
    "nanopore = '/public/home/mowp/data/total_RNA/nanopore_cdna/polyadenylated_data/nanopore_cdna.polyadenylated.bam'\n",
    "pacbio = '/public/home/mowp/data/total_RNA/pacbio_cdna/polyadenylated_data/totalRNA.polyadenylated.bam'\n",
    "igv = IGV(gene_id)\n",
    "igv.add_bam(nanopore, plot_polya=True)\n",
    "igv.add_bam(pacbio, plot_polya=True)\n",
    "igv.plot(height=3.2, width=6)"
   ]
  },
  {
   "cell_type": "code",
   "execution_count": null,
   "metadata": {},
   "outputs": [],
   "source": []
  },
  {
   "cell_type": "code",
   "execution_count": 86,
   "metadata": {},
   "outputs": [
    {
     "name": "stderr",
     "output_type": "stream",
     "text": [
      "/public/home/mowp/miniconda3/lib/python3.7/site-packages/ipykernel_launcher.py:83: MatplotlibDeprecationWarning: The 's' parameter of annotate() has been renamed 'text' since Matplotlib 3.3; support for the old name will be dropped two minor releases later.\n",
      "/public/home/mowp/miniconda3/lib/python3.7/site-packages/ipykernel_launcher.py:151: UserWarning: FixedFormatter should only be used together with FixedLocator\n"
     ]
    },
    {
     "name": "stdout",
     "output_type": "stream",
     "text": [
      "246\n",
      "CPU times: user 5.89 s, sys: 87.3 ms, total: 5.97 s\n",
      "Wall time: 5.92 s\n"
     ]
    },
    {
     "data": {
      "image/png": "[encoded data removed]",
      "text/plain": [
       "<Figure size 432x403.2 with 2 Axes>"
      ]
     },
     "metadata": {
      "needs_background": "light"
     },
     "output_type": "display_data"
    }
   ],
   "source": [
    "%%time\n",
    "\n",
    "gene_id = 'AT5G67110'\n",
    "nanopore = '/public/home/mowp/data/total_RNA/nanopore_cdna/polyadenylated_data/nanopore_cdna.full_len.bam'\n",
    "igv = IGV(gene_id)\n",
    "igv.add_bam(nanopore, plot_polya=True)\n",
    "igv.plot(height=5, width=6)"
   ]
  },
  {
   "cell_type": "code",
   "execution_count": 169,
   "metadata": {},
   "outputs": [
    {
     "name": "stderr",
     "output_type": "stream",
     "text": [
      "/public/home/mowp/miniconda3/lib/python3.7/site-packages/ipykernel_launcher.py:83: MatplotlibDeprecationWarning: The 's' parameter of annotate() has been renamed 'text' since Matplotlib 3.3; support for the old name will be dropped two minor releases later.\n",
      "/public/home/mowp/miniconda3/lib/python3.7/site-packages/ipykernel_launcher.py:151: UserWarning: FixedFormatter should only be used together with FixedLocator\n"
     ]
    },
    {
     "name": "stdout",
     "output_type": "stream",
     "text": [
      "111\n",
      "CPU times: user 1.75 s, sys: 15 ms, total: 1.76 s\n",
      "Wall time: 1.76 s\n"
     ]
    },
    {
     "data": {
      "image/png": "[encoded data removed]",
      "text/plain": [
       "<Figure size 432x259.2 with 2 Axes>"
      ]
     },
     "metadata": {
      "needs_background": "light"
     },
     "output_type": "display_data"
    }
   ],
   "source": [
    "%%time\n",
    "\n",
    "gene_id = 'AT2G43410'\n",
    "nanopore = '/public/home/mowp/data/total_RNA/nanopore_cdna/polyadenylated_data/nanopore_cdna.polyadenylated.bam'\n",
    "igv = IGV(gene_id)\n",
    "igv.add_bam(nanopore, plot_polya=True, sortby='three')\n",
    "igv.plot(height=3, width=6)"
   ]
  },
  {
   "cell_type": "code",
   "execution_count": 222,
   "metadata": {},
   "outputs": [
    {
     "name": "stderr",
     "output_type": "stream",
     "text": [
      "/public/home/mowp/miniconda3/lib/python3.7/site-packages/ipykernel_launcher.py:83: MatplotlibDeprecationWarning: The 's' parameter of annotate() has been renamed 'text' since Matplotlib 3.3; support for the old name will be dropped two minor releases later.\n",
      "/public/home/mowp/miniconda3/lib/python3.7/site-packages/ipykernel_launcher.py:151: UserWarning: FixedFormatter should only be used together with FixedLocator\n"
     ]
    },
    {
     "name": "stdout",
     "output_type": "stream",
     "text": [
      "427\n",
      "CPU times: user 9.91 s, sys: 78.4 ms, total: 9.99 s\n",
      "Wall time: 10.1 s\n"
     ]
    },
    {
     "data": {
      "image/png": "[encoded data removed]",
      "text/plain": [
       "<Figure size 432x259.2 with 2 Axes>"
      ]
     },
     "metadata": {
      "needs_background": "light"
     },
     "output_type": "display_data"
    }
   ],
   "source": [
    "%%time\n",
    "\n",
    "gene_id = 'AT3G56190'\n",
    "nanopore = '/public/home/mowp/data/total_RNA/nanopore_cdna/polyadenylated_data/nanopore_cdna.polyadenylated.bam'\n",
    "igv = IGV(gene_id)\n",
    "igv.add_bam(nanopore, plot_polya=True, sortby='three')\n",
    "igv.plot(height=3, width=6)"
   ]
  },
  {
   "cell_type": "code",
   "execution_count": null,
   "metadata": {},
   "outputs": [],
   "source": []
  },
  {
   "cell_type": "code",
   "execution_count": null,
   "metadata": {},
   "outputs": [],
   "source": []
  },
  {
   "cell_type": "code",
   "execution_count": null,
   "metadata": {},
   "outputs": [],
   "source": []
  },
  {
   "cell_type": "code",
   "execution_count": null,
   "metadata": {},
   "outputs": [],
   "source": []
  },
  {
   "cell_type": "markdown",
   "metadata": {},
   "source": [
    "# IGV for IR"
   ]
  },
  {
   "cell_type": "code",
   "execution_count": 89,
   "metadata": {},
   "outputs": [],
   "source": [
    "from collections import defaultdict, namedtuple, Counter\n",
    "import pickle\n",
    "\n",
    "Splice_stats = namedtuple('Splice_stats', 'intron_total_count intron_count unsplice_count unsplice_intron')\n",
    "\n",
    "splice_stats_pkl = '/public/home/mowp/data/total_RNA/nanopore_cdna/polyadenylated_data/nanopore_cdna.full_len.bed.splice_stats.tsv'\n",
    "\n",
    "with open(splice_stats_pkl+'.pkl', 'rb') as f:\n",
    "    splice_stats_dict = pickle.load(f)"
   ]
  },
  {
   "cell_type": "code",
   "execution_count": 92,
   "metadata": {},
   "outputs": [],
   "source": [
    "class IGV_splicing(IGV):\n",
    "    def _sort_bam(self, read_list):\n",
    "        if self.strand == '+':\n",
    "            read_list.sort(key=lambda read: splice_stats_dict[read.query_name][self.gene_id].unsplice_intron)\n",
    "        else:\n",
    "            read_list.sort(key=lambda read: splice_stats_dict[read.query_name][self.gene_id].unsplice_intron, reverse=True)"
   ]
  },
  {
   "cell_type": "code",
   "execution_count": 119,
   "metadata": {},
   "outputs": [],
   "source": [
    "class IGV_splicing(IGV):\n",
    "    '''\n",
    "    splice_stats_dict={\n",
    "        '7630665e-c2ca-4b8d-a6d7-2240d68f8844':\n",
    "            {'AT1G01010': Splice_stats(intron_total_count=5, intron_count=5, unsplice_count=0, unsplice_intron='')}，\n",
    "    }\n",
    "    '''\n",
    "    def __init__(self, gene_id):\n",
    "        self.gene_id = gene_id\n",
    "        self._get_gene_info()\n",
    "        self.max = self.end\n",
    "        self.min = self.start\n",
    "        self.bam_list = {}\n",
    "        self.bam_num = 0\n",
    "        \n",
    "    def _sort_bam(self, read_list):\n",
    "        if self.strand == '+':\n",
    "            read_list.sort(key=lambda read: splice_stats_dict[read.query_name][self.gene_id].unsplice_intron)\n",
    "        else:\n",
    "            read_list.sort(key=lambda read: splice_stats_dict[read.query_name][self.gene_id].unsplice_intron, reverse=True)\n",
    "    \n",
    "    def add_bam(self, *bam_paths, plot_polya=False):\n",
    "        '''\n",
    "        Input:\n",
    "            A list of bam files\n",
    "            eg. add_bam('a.bam', 'b.bam')\n",
    "        '''\n",
    "        self.plot_polya = plot_polya\n",
    "        for bam_path in bam_paths:\n",
    "            polya_len_list = []\n",
    "            with pysam.AlignmentFile(bam_path, 'rb') as inbam:\n",
    "                transcript_categries = {\n",
    "                    'spliced': [],\n",
    "                    'IR': [],\n",
    "                    }   # 以字典形式放不同类型的转录本reads\n",
    "                polya_read, non_polya_read = [], []\n",
    "                '''\n",
    "                向基因下游延申1000nt\n",
    "                不能超过染色体范围\n",
    "                '''\n",
    "                if self.strand == '-':\n",
    "                    start = self.start-1000 if self.start > 1000 else 1\n",
    "                    end = self.end\n",
    "                else:\n",
    "                    end = self.end+1000 if self.end+1000 < inbam.get_reference_length(self.chrom) else inbam.get_reference_length(self.chrom)\n",
    "                    start = self.start\n",
    "                    \n",
    "                for read in inbam.fetch(self.chrom, start, end):\n",
    "                    # 过滤read\n",
    "                    if self._filter_reads(read):\n",
    "                        continue\n",
    "\n",
    "                    polya_len = read.get_tag('pa')\n",
    "                    read_gene_id = read.get_tag('gi')\n",
    "                    if read_gene_id not in {gene_id, 'None'}:\n",
    "                        continue\n",
    "                    self._set_plot_range(read, polya_len)\n",
    "                    \n",
    "                    if splice_stats_dict[read.query_name][self.gene_id].unsplice_count == 0:\n",
    "                        transcript_categries['spliced'].append(read)\n",
    "                    else:\n",
    "                        transcript_categries['IR'].append(read)\n",
    "\n",
    "                    polya_len_list.append(polya_len)\n",
    "\n",
    "            results = []\n",
    "            for read_type in transcript_categries:\n",
    "                self._sort_bam(transcript_categries[read_type])\n",
    "                results.append(transcript_categries[read_type])\n",
    "                self.bam_num += 1\n",
    "            \n",
    "            self.bam_list[bam_path] = results\n",
    "\n",
    "\n",
    "    def _plot_bam(self, ax, read_list, bam_num, read_color='#5D93C4', polya_color='lightcoral'):\n",
    "        ypos = 0\n",
    "        height = .4\n",
    "        for read in read_list:\n",
    "            if read is None:\n",
    "                ypos += -int(len(read_list)*.08)\n",
    "                continue\n",
    "            line = mp.Rectangle((read.reference_start, ypos-height/4), read.reference_length, height/2, color='#A6A6A6', linewidth=0)\n",
    "            ax.add_patch(line)\n",
    "            #read_color = read.get_tag('co')\n",
    "            for block_start, block_size in self._find_exon(read):\n",
    "                exon = mp.Rectangle((block_start, ypos-height), block_size, height*2, color=read_color, linewidth=0)\n",
    "                ax.add_patch(exon)\n",
    "            # 画polya尾巴\n",
    "            polya_len = read.get_tag('pa')\n",
    "            if self.plot_polya and polya_len > 15:\n",
    "                if self.strand == '+':\n",
    "                    polya_tail = mp.Rectangle((block_start+block_size, ypos-height), polya_len, height*2, color=polya_color, linewidth=0)\n",
    "                    ax.add_patch(polya_tail)\n",
    "                else:\n",
    "                    polya_tail = mp.Rectangle((read.reference_start, ypos-height), -polya_len, height*2, color=polya_color, linewidth=0)\n",
    "                    ax.add_patch(polya_tail)\n",
    "            ypos += -1\n",
    "\n",
    "        #step = (self.end-self.start)//400*100  # 坐标轴步长\n",
    "        step = (self.max-self.min)//400*100  # 坐标轴步长\n",
    "\n",
    "        if self.strand == '+':\n",
    "            #xticks = np.arange(self.start, self.end+step, step)\n",
    "            xticks = np.arange(self.start, self.max+step, step)\n",
    "            ax.set_xticklabels(xticks-self.start)\n",
    "            ax.set_xticks(xticks)\n",
    "            ax.set_xlim(self.min, self.max)\n",
    "        else:\n",
    "            #xticks = np.arange(self.end, self.start-step, -step)\n",
    "            xticks = np.arange(self.end, self.min-step, -step)\n",
    "            ax.set_xticklabels(self.end-xticks)\n",
    "            ax.set_xticks(xticks)\n",
    "            ax.set_xlim(self.min, self.max)\n",
    "            ax.invert_xaxis()\n",
    "\n",
    "        ax.spines['right'].set_visible(False)\n",
    "        ax.spines['left'].set_visible(False)\n",
    "        ax.spines['top'].set_visible(False)\n",
    "        ax.yaxis.set_major_locator(ticker.NullLocator())\n",
    "        if bam_num != self.bam_num:\n",
    "            ax.xaxis.set_major_locator(ticker.NullLocator())\n",
    "            ax.xaxis.set_ticks_position('none')\n",
    "        else:\n",
    "            ax.set_xlabel('Length (nt)')\n",
    "        \n",
    "        ax.set_ylim(ypos-int(len(read_list)*.1), 1+int(len(read_list)*.2))\n",
    "        \n",
    "    \n",
    "    def plot(self, height=1, width=5):\n",
    "        nrows = self.bam_num+1\n",
    "        height_ratios = [.6]+[height]*self.bam_num\n",
    "\n",
    "        fig, ax = plt.subplots(\n",
    "            nrows=nrows, \n",
    "            gridspec_kw={'height_ratios': height_ratios},\n",
    "            figsize=(width, sum(height_ratios)),\n",
    "            sharex = True,\n",
    "        )\n",
    "\n",
    "        # plot gene_model\n",
    "        self._plot_gene_model(ax[0])\n",
    "\n",
    "        # plot bam files\n",
    "        i = 1\n",
    "        for bam_path in self.bam_list:\n",
    "            for bam_reads in self.bam_list[bam_path]:\n",
    "                self._plot_bam(ax[i], bam_reads, i)\n",
    "                i += 1\n",
    "        plt.subplots_adjust(hspace=0)\n",
    "        plt.savefig(f'igv_plot/{self.gene_id}.splicing.svg', format='svg', bbox_inches='tight')"
   ]
  },
  {
   "cell_type": "code",
   "execution_count": 122,
   "metadata": {},
   "outputs": [
    {
     "name": "stderr",
     "output_type": "stream",
     "text": [
      "/public/home/mowp/miniconda3/lib/python3.7/site-packages/ipykernel_launcher.py:83: MatplotlibDeprecationWarning: The 's' parameter of annotate() has been renamed 'text' since Matplotlib 3.3; support for the old name will be dropped two minor releases later.\n",
      "/public/home/mowp/miniconda3/lib/python3.7/site-packages/ipykernel_launcher.py:111: UserWarning: FixedFormatter should only be used together with FixedLocator\n"
     ]
    },
    {
     "name": "stdout",
     "output_type": "stream",
     "text": [
      "CPU times: user 8.19 s, sys: 219 ms, total: 8.41 s\n",
      "Wall time: 8.38 s\n"
     ]
    },
    {
     "data": {
      "image/png": "[encoded data removed]",
      "text/plain": [
       "<Figure size 432x331.2 with 3 Axes>"
      ]
     },
     "metadata": {
      "needs_background": "light"
     },
     "output_type": "display_data"
    }
   ],
   "source": [
    "%%time\n",
    "\n",
    "gene_id = 'AT5G67110'\n",
    "nanopore = '/public/home/mowp/data/total_RNA/nanopore_cdna/polyadenylated_data/nanopore_cdna.full_len.bam'\n",
    "igv = IGV_splicing(gene_id)\n",
    "igv.add_bam(nanopore, plot_polya=True)\n",
    "igv.plot(height=2, width=6)"
   ]
  },
  {
   "cell_type": "code",
   "execution_count": null,
   "metadata": {},
   "outputs": [],
   "source": []
  },
  {
   "cell_type": "markdown",
   "metadata": {},
   "source": [
    "# IGV for ES"
   ]
  },
  {
   "cell_type": "code",
   "execution_count": 128,
   "metadata": {},
   "outputs": [],
   "source": [
    "from collections import defaultdict, namedtuple, Counter\n",
    "import pickle\n",
    "\n",
    "IR_stats = namedtuple('IR_stats', 'intron_total_count intron_count unsplice_count unsplice_intron')\n",
    "\n",
    "ir_stats_pkl = '/public/home/mowp/data/total_RNA/nanopore_cdna/polyadenylated_data/nanopore_cdna.full_len.bed.ir_stats.tsv'\n",
    "\n",
    "with open(ir_stats_pkl+'.pkl', 'rb') as f:\n",
    "    ir_stats_dict = pickle.load(f)"
   ]
  },
  {
   "cell_type": "code",
   "execution_count": 124,
   "metadata": {},
   "outputs": [],
   "source": [
    "from collections import defaultdict, namedtuple, Counter\n",
    "import pickle\n",
    "\n",
    "ES_stats = namedtuple('ES_stats', 'exon_total_count exon_count skipped_exon_count skipped_exon')\n",
    "\n",
    "es_stats_pkl = '/public/home/mowp/data/total_RNA/nanopore_cdna/polyadenylated_data/nanopore_cdna.full_len.bed.es_stats.tsv.pkl'\n",
    "\n",
    "with open(es_stats_pkl, 'rb') as f:\n",
    "    es_stats_dict = pickle.load(f)"
   ]
  },
  {
   "cell_type": "code",
   "execution_count": 125,
   "metadata": {},
   "outputs": [],
   "source": [
    "class IGV_ES(IGV):\n",
    "    def _sort_bam(self, read_list):\n",
    "        if self.strand == '+':\n",
    "            read_list.sort(key=lambda read: es_stats_dict[read.query_name][self.gene_id].skipped_exon)\n",
    "        else:\n",
    "            read_list.sort(key=lambda read: es_stats_dict[read.query_name][self.gene_id].skipped_exon, reverse=True)"
   ]
  },
  {
   "cell_type": "code",
   "execution_count": 126,
   "metadata": {},
   "outputs": [
    {
     "name": "stderr",
     "output_type": "stream",
     "text": [
      "/public/home/mowp/miniconda3/lib/python3.7/site-packages/ipykernel_launcher.py:83: MatplotlibDeprecationWarning: The 's' parameter of annotate() has been renamed 'text' since Matplotlib 3.3; support for the old name will be dropped two minor releases later.\n",
      "/public/home/mowp/miniconda3/lib/python3.7/site-packages/ipykernel_launcher.py:145: UserWarning: FixedFormatter should only be used together with FixedLocator\n"
     ]
    },
    {
     "name": "stdout",
     "output_type": "stream",
     "text": [
      "79\n",
      "CPU times: user 3.01 s, sys: 31.1 ms, total: 3.04 s\n",
      "Wall time: 3.02 s\n"
     ]
    },
    {
     "data": {
      "image/png": "[encoded data removed]",
      "text/plain": [
       "<Figure size 432x403.2 with 2 Axes>"
      ]
     },
     "metadata": {
      "needs_background": "light"
     },
     "output_type": "display_data"
    }
   ],
   "source": [
    "%%time\n",
    "\n",
    "gene_id = 'AT3G23280'\n",
    "nanopore = '/public/home/mowp/data/total_RNA/nanopore_cdna/polyadenylated_data/nanopore_cdna.full_len.bam'\n",
    "igv = IGV_ES(gene_id)\n",
    "igv.add_bam(nanopore, plot_polya=True)\n",
    "igv.plot(height=5, width=6)"
   ]
  },
  {
   "cell_type": "code",
   "execution_count": 132,
   "metadata": {},
   "outputs": [],
   "source": [
    "class IGV_ES(IGV):\n",
    "    '''\n",
    "    splice_stats_dict={\n",
    "        '7630665e-c2ca-4b8d-a6d7-2240d68f8844':\n",
    "            {'AT1G01010': Splice_stats(intron_total_count=5, intron_count=5, unsplice_count=0, unsplice_intron='')}，\n",
    "    }\n",
    "    '''\n",
    "    def __init__(self, gene_id):\n",
    "        self.gene_id = gene_id\n",
    "        self._get_gene_info()\n",
    "        self.max = self.end\n",
    "        self.min = self.start\n",
    "        self.bam_list = {}\n",
    "        self.bam_num = 0\n",
    "        \n",
    "    def _sort_bam(self, read_list):\n",
    "        if self.strand == '+':\n",
    "            read_list.sort(key=lambda read: es_stats_dict[read.query_name][self.gene_id].skipped_exon)\n",
    "        else:\n",
    "            read_list.sort(key=lambda read: es_stats_dict[read.query_name][self.gene_id].skipped_exon, reverse=True)\n",
    "    \n",
    "    def add_bam(self, *bam_paths, plot_polya=False):\n",
    "        '''\n",
    "        Input:\n",
    "            A list of bam files\n",
    "            eg. add_bam('a.bam', 'b.bam')\n",
    "        '''\n",
    "        self.plot_polya = plot_polya\n",
    "        for bam_path in bam_paths:\n",
    "            polya_len_list = []\n",
    "            with pysam.AlignmentFile(bam_path, 'rb') as inbam:\n",
    "                transcript_categries = {\n",
    "                    'non-skipping': [],\n",
    "                    'skipping': [],\n",
    "                    }   # 以字典形式放不同类型的转录本reads\n",
    "                polya_read, non_polya_read = [], []\n",
    "                '''\n",
    "                向基因下游延申1000nt\n",
    "                不能超过染色体范围\n",
    "                '''\n",
    "                if self.strand == '-':\n",
    "                    start = self.start-1000 if self.start > 1000 else 1\n",
    "                    end = self.end\n",
    "                else:\n",
    "                    end = self.end+1000 if self.end+1000 < inbam.get_reference_length(self.chrom) else inbam.get_reference_length(self.chrom)\n",
    "                    start = self.start\n",
    "                    \n",
    "                for read in inbam.fetch(self.chrom, start, end):\n",
    "                    # 过滤read\n",
    "                    if self._filter_reads(read):\n",
    "                        continue\n",
    "\n",
    "                    polya_len = read.get_tag('pa')\n",
    "                    read_gene_id = read.get_tag('gi')\n",
    "                    if read_gene_id not in {gene_id, 'None'}:\n",
    "                        continue\n",
    "                    \n",
    "                    if ir_stats_dict[read.query_name][self.gene_id].unsplice_count > 0:\n",
    "                        continue\n",
    "                    \n",
    "                    self._set_plot_range(read, polya_len)\n",
    "                    if es_stats_dict[read.query_name][self.gene_id].skipped_exon_count == 0:\n",
    "                        transcript_categries['non-skipping'].append(read)\n",
    "                    else:\n",
    "                        transcript_categries['skipping'].append(read)\n",
    "\n",
    "                    polya_len_list.append(polya_len)\n",
    "\n",
    "            results = []\n",
    "            for read_type in transcript_categries:\n",
    "                self._sort_bam(transcript_categries[read_type])\n",
    "                results.append(transcript_categries[read_type])\n",
    "                self.bam_num += 1\n",
    "            \n",
    "            self.bam_list[bam_path] = results\n",
    "\n",
    "\n",
    "    def _plot_bam(self, ax, read_list, bam_num, read_color='#5D93C4', polya_color='lightcoral'):\n",
    "        ypos = 0\n",
    "        height = .4\n",
    "        for read in read_list:\n",
    "            if read is None:\n",
    "                ypos += -int(len(read_list)*.08)\n",
    "                continue\n",
    "            line = mp.Rectangle((read.reference_start, ypos-height/4), read.reference_length, height/2, color='#A6A6A6', linewidth=0)\n",
    "            ax.add_patch(line)\n",
    "            #read_color = read.get_tag('co')\n",
    "            for block_start, block_size in self._find_exon(read):\n",
    "                exon = mp.Rectangle((block_start, ypos-height), block_size, height*2, color=read_color, linewidth=0)\n",
    "                ax.add_patch(exon)\n",
    "            # 画polya尾巴\n",
    "            polya_len = read.get_tag('pa')\n",
    "            if self.plot_polya and polya_len > 15:\n",
    "                if self.strand == '+':\n",
    "                    polya_tail = mp.Rectangle((block_start+block_size, ypos-height), polya_len, height*2, color=polya_color, linewidth=0)\n",
    "                    ax.add_patch(polya_tail)\n",
    "                else:\n",
    "                    polya_tail = mp.Rectangle((read.reference_start, ypos-height), -polya_len, height*2, color=polya_color, linewidth=0)\n",
    "                    ax.add_patch(polya_tail)\n",
    "            ypos += -1\n",
    "\n",
    "        #step = (self.end-self.start)//400*100  # 坐标轴步长\n",
    "        step = (self.max-self.min)//400*100  # 坐标轴步长\n",
    "\n",
    "        if self.strand == '+':\n",
    "            #xticks = np.arange(self.start, self.end+step, step)\n",
    "            xticks = np.arange(self.start, self.max+step, step)\n",
    "            ax.set_xticklabels(xticks-self.start)\n",
    "            ax.set_xticks(xticks)\n",
    "            ax.set_xlim(self.min, self.max)\n",
    "        else:\n",
    "            #xticks = np.arange(self.end, self.start-step, -step)\n",
    "            xticks = np.arange(self.end, self.min-step, -step)\n",
    "            ax.set_xticklabels(self.end-xticks)\n",
    "            ax.set_xticks(xticks)\n",
    "            ax.set_xlim(self.min, self.max)\n",
    "            ax.invert_xaxis()\n",
    "\n",
    "        ax.spines['right'].set_visible(False)\n",
    "        ax.spines['left'].set_visible(False)\n",
    "        ax.spines['top'].set_visible(False)\n",
    "        ax.yaxis.set_major_locator(ticker.NullLocator())\n",
    "        if bam_num != self.bam_num:\n",
    "            ax.xaxis.set_major_locator(ticker.NullLocator())\n",
    "            ax.xaxis.set_ticks_position('none')\n",
    "        else:\n",
    "            ax.set_xlabel('Length (nt)')\n",
    "        \n",
    "        ax.set_ylim(ypos-int(len(read_list)*.1), 1+int(len(read_list)*.2))\n",
    "        \n",
    "    \n",
    "    def plot(self, height=1, width=5):\n",
    "        nrows = self.bam_num+1\n",
    "        height_ratios = [.6]+[height]*self.bam_num\n",
    "\n",
    "        fig, ax = plt.subplots(\n",
    "            nrows=nrows, \n",
    "            gridspec_kw={'height_ratios': height_ratios},\n",
    "            figsize=(width, sum(height_ratios)),\n",
    "            sharex = True,\n",
    "        )\n",
    "\n",
    "        # plot gene_model\n",
    "        self._plot_gene_model(ax[0])\n",
    "\n",
    "        # plot bam files\n",
    "        i = 1\n",
    "        for bam_path in self.bam_list:\n",
    "            for bam_reads in self.bam_list[bam_path]:\n",
    "                self._plot_bam(ax[i], bam_reads, i)\n",
    "                i += 1\n",
    "        plt.subplots_adjust(hspace=0)\n",
    "        plt.savefig(f'igv_plot/{self.gene_id}.splicing.svg', format='svg', bbox_inches='tight')"
   ]
  },
  {
   "cell_type": "code",
   "execution_count": 133,
   "metadata": {},
   "outputs": [
    {
     "name": "stderr",
     "output_type": "stream",
     "text": [
      "/public/home/mowp/miniconda3/lib/python3.7/site-packages/ipykernel_launcher.py:83: MatplotlibDeprecationWarning: The 's' parameter of annotate() has been renamed 'text' since Matplotlib 3.3; support for the old name will be dropped two minor releases later.\n",
      "/public/home/mowp/miniconda3/lib/python3.7/site-packages/ipykernel_launcher.py:108: UserWarning: FixedFormatter should only be used together with FixedLocator\n"
     ]
    },
    {
     "name": "stdout",
     "output_type": "stream",
     "text": [
      "CPU times: user 2.72 s, sys: 18 ms, total: 2.74 s\n",
      "Wall time: 2.73 s\n"
     ]
    },
    {
     "data": {
      "image/png": "[encoded data removed]",
      "text/plain": [
       "<Figure size 432x331.2 with 3 Axes>"
      ]
     },
     "metadata": {
      "needs_background": "light"
     },
     "output_type": "display_data"
    }
   ],
   "source": [
    "%%time\n",
    "\n",
    "gene_id = 'AT3G23280'\n",
    "nanopore = '/public/home/mowp/data/total_RNA/nanopore_cdna/polyadenylated_data/nanopore_cdna.full_len.bam'\n",
    "igv = IGV_ES(gene_id)\n",
    "igv.add_bam(nanopore, plot_polya=True)\n",
    "igv.plot(height=2, width=6)"
   ]
  },
  {
   "cell_type": "code",
   "execution_count": 134,
   "metadata": {},
   "outputs": [
    {
     "name": "stderr",
     "output_type": "stream",
     "text": [
      "/public/home/mowp/miniconda3/lib/python3.7/site-packages/ipykernel_launcher.py:83: MatplotlibDeprecationWarning: The 's' parameter of annotate() has been renamed 'text' since Matplotlib 3.3; support for the old name will be dropped two minor releases later.\n",
      "/public/home/mowp/miniconda3/lib/python3.7/site-packages/ipykernel_launcher.py:108: UserWarning: FixedFormatter should only be used together with FixedLocator\n"
     ]
    },
    {
     "name": "stdout",
     "output_type": "stream",
     "text": [
      "CPU times: user 847 ms, sys: 18.1 ms, total: 865 ms\n",
      "Wall time: 905 ms\n"
     ]
    },
    {
     "data": {
      "image/png": "[encoded data removed]",
      "text/plain": [
       "<Figure size 432x331.2 with 3 Axes>"
      ]
     },
     "metadata": {
      "needs_background": "light"
     },
     "output_type": "display_data"
    }
   ],
   "source": [
    "%%time\n",
    "\n",
    "gene_id = 'AT1G03365'\n",
    "nanopore = '/public/home/mowp/data/total_RNA/nanopore_cdna/polyadenylated_data/nanopore_cdna.full_len.bam'\n",
    "igv = IGV_ES(gene_id)\n",
    "igv.add_bam(nanopore, plot_polya=True)\n",
    "igv.plot(height=2, width=6)"
   ]
  },
  {
   "cell_type": "code",
   "execution_count": null,
   "metadata": {},
   "outputs": [],
   "source": []
  },
  {
   "cell_type": "code",
   "execution_count": null,
   "metadata": {},
   "outputs": [],
   "source": []
  },
  {
   "cell_type": "code",
   "execution_count": null,
   "metadata": {},
   "outputs": [],
   "source": []
  },
  {
   "cell_type": "markdown",
   "metadata": {},
   "source": [
    "# IGV for APA"
   ]
  },
  {
   "cell_type": "code",
   "execution_count": 171,
   "metadata": {},
   "outputs": [],
   "source": [
    "polya_cluster = '/public/home/mowp/data/total_RNA/nanopore_cdna/polya_sites/nanopore_cdna.polya_cluster.bed'\n",
    "polya_cluster = pr.read_bed(polya_cluster, as_df=True)\n",
    "polya_cluster['gene_id'] = polya_cluster.Name.map(lambda x: x.split('_')[0])"
   ]
  },
  {
   "cell_type": "code",
   "execution_count": 218,
   "metadata": {},
   "outputs": [],
   "source": [
    "class IGV_APA(IGV):\n",
    "    '''\n",
    "    splice_stats_dict={\n",
    "        '7630665e-c2ca-4b8d-a6d7-2240d68f8844':\n",
    "            {'AT1G01010': Splice_stats(intron_total_count=5, intron_count=5, unsplice_count=0, unsplice_intron='')}，\n",
    "    }\n",
    "    '''\n",
    "    def __init__(self, gene_id):\n",
    "        self.gene_id = gene_id\n",
    "        self._get_gene_info()\n",
    "        self.max = self.end\n",
    "        self.min = self.start\n",
    "        self.bam_list = {}\n",
    "        self.bam_num = 0\n",
    "\n",
    "    \n",
    "    def add_bam(self, *bam_paths, plot_polya=False):\n",
    "        '''\n",
    "        Input:\n",
    "            A list of bam files\n",
    "            eg. add_bam('a.bam', 'b.bam')\n",
    "        '''\n",
    "        self.plot_polya = plot_polya\n",
    "        polya_len_list = []\n",
    "        for bam_path in bam_paths:\n",
    "            apa_isoform = {}\n",
    "            with pysam.AlignmentFile(bam_path, 'rb') as inbam:\n",
    "                for item in polya_cluster.query('gene_id == @self.gene_id').values:\n",
    "                    apa = item[:6]\n",
    "                    apa_isoform[apa[3]] = []\n",
    "                \n",
    "                    chrom, start, end, *_, gene_strand = apa\n",
    "                    for read in inbam.fetch(self.chrom, start, end):\n",
    "                        # 过滤read\n",
    "                        if self._filter_reads(read):\n",
    "                            continue\n",
    "\n",
    "                        polya_len = read.get_tag('pa')\n",
    "                        read_gene_id = read.get_tag('gi')\n",
    "                        if read_gene_id not in {gene_id, 'None'}:\n",
    "                            continue\n",
    "                        \n",
    "                        three_prime_end = read.reference_end if gene_strand else read.reference_start\n",
    "                        if start <= three_prime_end <= end+1:\n",
    "                            polya_len_list.append(polya_len)\n",
    "                            apa_isoform[apa[3]].append(read)\n",
    "\n",
    "            results = []\n",
    "            for read_type in apa_isoform:\n",
    "                self._sort_bam(apa_isoform[read_type], sortby='three')\n",
    "                results.append(apa_isoform[read_type])\n",
    "                self.bam_num += 1\n",
    "            \n",
    "            self.bam_list[bam_path] = results\n",
    "        \n",
    "        self.polya_len_threshold = self.zscore_treatment(polya_len_list)\n",
    "        for bam_path in bam_paths:\n",
    "            with pysam.AlignmentFile(bam_path, 'rb') as inbam:\n",
    "                for read in inbam.fetch(self.chrom, start, end):\n",
    "                    if polya_len < self.polya_len_threshold:\n",
    "                        self._set_plot_range(read, polya_len)        \n",
    "\n",
    "\n",
    "    def _plot_bam(self, ax, read_list, bam_num, read_color='#5D93C4', polya_color='lightcoral'):\n",
    "        ypos = 0\n",
    "        height = .4\n",
    "        for read in read_list:\n",
    "            if read is None:\n",
    "                ypos += -int(len(read_list)*.08)\n",
    "                continue\n",
    "\n",
    "            # 画polya尾巴\n",
    "            polya_len = read.get_tag('pa')\n",
    "            if polya_len > self.polya_len_threshold:\n",
    "                continue\n",
    "            \n",
    "            line = mp.Rectangle((read.reference_start, ypos-height/4), read.reference_length, height/2, color='#A6A6A6', linewidth=0)\n",
    "            ax.add_patch(line)\n",
    "            #read_color = read.get_tag('co')\n",
    "            for block_start, block_size in self._find_exon(read):\n",
    "                exon = mp.Rectangle((block_start, ypos-height), block_size, height*2, color=read_color, linewidth=0)\n",
    "                ax.add_patch(exon)\n",
    "            \n",
    "            if self.plot_polya and polya_len > 15:\n",
    "                if self.strand == '+':\n",
    "                    polya_tail = mp.Rectangle((block_start+block_size, ypos-height), polya_len, height*2, color=polya_color, linewidth=0)\n",
    "                    ax.add_patch(polya_tail)\n",
    "                else:\n",
    "                    polya_tail = mp.Rectangle((read.reference_start, ypos-height), -polya_len, height*2, color=polya_color, linewidth=0)\n",
    "                    ax.add_patch(polya_tail)\n",
    "            ypos += -1\n",
    "\n",
    "        #step = (self.end-self.start)//400*100  # 坐标轴步长\n",
    "        step = (self.max-self.min)//400*100  # 坐标轴步长\n",
    "\n",
    "        if self.strand == '+':\n",
    "            #xticks = np.arange(self.start, self.end+step, step)\n",
    "            xticks = np.arange(self.start, self.max+step, step)\n",
    "            ax.set_xticklabels(xticks-self.start)\n",
    "            ax.set_xticks(xticks)\n",
    "            ax.set_xlim(self.min, self.max)\n",
    "        else:\n",
    "            #xticks = np.arange(self.end, self.start-step, -step)\n",
    "            xticks = np.arange(self.end, self.min-step, -step)\n",
    "            ax.set_xticklabels(self.end-xticks)\n",
    "            ax.set_xticks(xticks)\n",
    "            ax.set_xlim(self.min, self.max)\n",
    "            ax.invert_xaxis()\n",
    "\n",
    "        ax.spines['right'].set_visible(False)\n",
    "        ax.spines['left'].set_visible(False)\n",
    "        ax.spines['top'].set_visible(False)\n",
    "        ax.yaxis.set_major_locator(ticker.NullLocator())\n",
    "        if bam_num != self.bam_num:\n",
    "            ax.xaxis.set_major_locator(ticker.NullLocator())\n",
    "            ax.xaxis.set_ticks_position('none')\n",
    "        else:\n",
    "            ax.set_xlabel('Length (nt)')\n",
    "        \n",
    "        ax.set_ylim(ypos-int(len(read_list)*.1), 1+int(len(read_list)*.2))\n",
    "        \n",
    "    \n",
    "    def plot(self, height=1, width=5):\n",
    "        nrows = self.bam_num+1\n",
    "        height_ratios = [.6]+[height]*self.bam_num\n",
    "\n",
    "        fig, ax = plt.subplots(\n",
    "            nrows=nrows, \n",
    "            gridspec_kw={'height_ratios': height_ratios},\n",
    "            figsize=(width, sum(height_ratios)),\n",
    "            sharex = True,\n",
    "        )\n",
    "\n",
    "        # plot gene_model\n",
    "        self._plot_gene_model(ax[0])\n",
    "\n",
    "        # plot bam files\n",
    "        i = 1\n",
    "        for bam_path in self.bam_list:\n",
    "            for bam_reads in self.bam_list[bam_path]:\n",
    "                self._plot_bam(ax[i], bam_reads, i)\n",
    "                i += 1\n",
    "        plt.subplots_adjust(hspace=0)\n",
    "        plt.savefig(f'igv_plot/{self.gene_id}.APA.svg', format='svg', bbox_inches='tight')"
   ]
  },
  {
   "cell_type": "code",
   "execution_count": 219,
   "metadata": {},
   "outputs": [
    {
     "name": "stderr",
     "output_type": "stream",
     "text": [
      "/public/home/mowp/miniconda3/lib/python3.7/site-packages/ipykernel_launcher.py:83: MatplotlibDeprecationWarning: The 's' parameter of annotate() has been renamed 'text' since Matplotlib 3.3; support for the old name will be dropped two minor releases later.\n",
      "/public/home/mowp/miniconda3/lib/python3.7/site-packages/ipykernel_launcher.py:99: UserWarning: FixedFormatter should only be used together with FixedLocator\n"
     ]
    },
    {
     "name": "stdout",
     "output_type": "stream",
     "text": [
      "CPU times: user 2.36 s, sys: 20 ms, total: 2.38 s\n",
      "Wall time: 2.37 s\n"
     ]
    },
    {
     "data": {
      "image/png": "[encoded data removed]",
      "text/plain": [
       "<Figure size 432x331.2 with 3 Axes>"
      ]
     },
     "metadata": {
      "needs_background": "light"
     },
     "output_type": "display_data"
    }
   ],
   "source": [
    "%%time\n",
    "\n",
    "gene_id = 'AT5G66052'\n",
    "nanopore = '/public/home/mowp/data/total_RNA/nanopore_cdna/polyadenylated_data/nanopore_cdna.polyadenylated.bam'\n",
    "igv = IGV_APA(gene_id)\n",
    "igv.add_bam(nanopore, plot_polya=True)\n",
    "igv.plot(height=2, width=6)"
   ]
  },
  {
   "cell_type": "code",
   "execution_count": 214,
   "metadata": {},
   "outputs": [
    {
     "data": {
      "text/html": [
       "<div>\n",
       "<style scoped>\n",
       "    .dataframe tbody tr th:only-of-type {\n",
       "        vertical-align: middle;\n",
       "    }\n",
       "\n",
       "    .dataframe tbody tr th {\n",
       "        vertical-align: top;\n",
       "    }\n",
       "\n",
       "    .dataframe thead th {\n",
       "        text-align: right;\n",
       "    }\n",
       "</style>\n",
       "<table border=\"1\" class=\"dataframe\">\n",
       "  <thead>\n",
       "    <tr style=\"text-align: right;\">\n",
       "      <th></th>\n",
       "      <th>Chromosome</th>\n",
       "      <th>Start</th>\n",
       "      <th>End</th>\n",
       "      <th>Name</th>\n",
       "      <th>Score</th>\n",
       "      <th>Strand</th>\n",
       "      <th>ThickStart</th>\n",
       "      <th>gene_id</th>\n",
       "    </tr>\n",
       "  </thead>\n",
       "  <tbody>\n",
       "    <tr>\n",
       "      <th>20569</th>\n",
       "      <td>5</td>\n",
       "      <td>26416560</td>\n",
       "      <td>26416659</td>\n",
       "      <td>AT5G66052_1</td>\n",
       "      <td>36</td>\n",
       "      <td>+</td>\n",
       "      <td>3.365</td>\n",
       "      <td>AT5G66052</td>\n",
       "    </tr>\n",
       "    <tr>\n",
       "      <th>20570</th>\n",
       "      <td>5</td>\n",
       "      <td>26416908</td>\n",
       "      <td>26416952</td>\n",
       "      <td>AT5G66052_2</td>\n",
       "      <td>174</td>\n",
       "      <td>+</td>\n",
       "      <td>3.605</td>\n",
       "      <td>AT5G66052</td>\n",
       "    </tr>\n",
       "  </tbody>\n",
       "</table>\n",
       "</div>"
      ],
      "text/plain": [
       "       Chromosome     Start       End         Name  Score Strand  ThickStart  \\\n",
       "20569           5  26416560  26416659  AT5G66052_1     36      +       3.365   \n",
       "20570           5  26416908  26416952  AT5G66052_2    174      +       3.605   \n",
       "\n",
       "         gene_id  \n",
       "20569  AT5G66052  \n",
       "20570  AT5G66052  "
      ]
     },
     "execution_count": 214,
     "metadata": {},
     "output_type": "execute_result"
    }
   ],
   "source": [
    "polya_cluster.query('gene_id == @gene_id')"
   ]
  },
  {
   "cell_type": "code",
   "execution_count": null,
   "metadata": {},
   "outputs": [],
   "source": []
  }
 ],
 "metadata": {
  "kernelspec": {
   "display_name": "Python 3",
   "language": "python",
   "name": "python3"
  },
  "language_info": {
   "codemirror_mode": {
    "name": "ipython",
    "version": 3
   },
   "file_extension": ".py",
   "mimetype": "text/x-python",
   "name": "python",
   "nbconvert_exporter": "python",
   "pygments_lexer": "ipython3",
   "version": "3.7.8"
  },
  "toc-autonumbering": true
 },
 "nbformat": 4,
 "nbformat_minor": 4
}
