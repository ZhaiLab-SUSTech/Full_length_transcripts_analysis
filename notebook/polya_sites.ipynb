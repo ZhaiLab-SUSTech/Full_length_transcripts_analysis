{
 "cells": [
  {
   "cell_type": "code",
   "execution_count": 8,
   "metadata": {},
   "outputs": [],
   "source": [
    "from collections import Counter\n",
    "import numpy as np\n",
    "import pysam\n",
    "from scipy import stats\n",
    "import click\n",
    "import pyranges as pr\n",
    "from concurrent.futures import ProcessPoolExecutor\n",
    "from matplotlib import pyplot as plt\n",
    "from collections import defaultdict"
   ]
  },
  {
   "cell_type": "code",
   "execution_count": 4,
   "metadata": {},
   "outputs": [],
   "source": [
    "# 设置全局字体\n",
    "\n",
    "import matplotlib.font_manager as font_manager\n",
    "font_dirs = [\"/public/home/mowp/test/fonts/\"]\n",
    "font_files = font_manager.findSystemFonts(fontpaths=font_dirs)\n",
    "\n",
    "for font_file in font_files:\n",
    "    font_manager.fontManager.addfont(font_file)\n",
    "    \n",
    "plt.rcParams[\"font.family\"] = \"Arial\"\n",
    "plt.rcParams['font.size'] = 12"
   ]
  },
  {
   "cell_type": "markdown",
   "metadata": {},
   "source": [
    "# main"
   ]
  },
  {
   "cell_type": "code",
   "execution_count": 5,
   "metadata": {},
   "outputs": [],
   "source": [
    "STRAND_TO_BOOL = {'-': True, '+': False}"
   ]
  },
  {
   "cell_type": "code",
   "execution_count": 6,
   "metadata": {},
   "outputs": [
    {
     "data": {
      "text/html": [
       "<div>\n",
       "<style scoped>\n",
       "    .dataframe tbody tr th:only-of-type {\n",
       "        vertical-align: middle;\n",
       "    }\n",
       "\n",
       "    .dataframe tbody tr th {\n",
       "        vertical-align: top;\n",
       "    }\n",
       "\n",
       "    .dataframe thead th {\n",
       "        text-align: right;\n",
       "    }\n",
       "</style>\n",
       "<table border=\"1\" class=\"dataframe\">\n",
       "  <thead>\n",
       "    <tr style=\"text-align: right;\">\n",
       "      <th></th>\n",
       "      <th>Chromosome</th>\n",
       "      <th>Start</th>\n",
       "      <th>End</th>\n",
       "      <th>Score</th>\n",
       "      <th>Strand</th>\n",
       "    </tr>\n",
       "    <tr>\n",
       "      <th>Name</th>\n",
       "      <th></th>\n",
       "      <th></th>\n",
       "      <th></th>\n",
       "      <th></th>\n",
       "      <th></th>\n",
       "    </tr>\n",
       "  </thead>\n",
       "  <tbody>\n",
       "    <tr>\n",
       "      <th>AT1G01010</th>\n",
       "      <td>1</td>\n",
       "      <td>3629</td>\n",
       "      <td>5899</td>\n",
       "      <td>.</td>\n",
       "      <td>+</td>\n",
       "    </tr>\n",
       "    <tr>\n",
       "      <th>AT1G01020</th>\n",
       "      <td>1</td>\n",
       "      <td>6786</td>\n",
       "      <td>9130</td>\n",
       "      <td>.</td>\n",
       "      <td>-</td>\n",
       "    </tr>\n",
       "    <tr>\n",
       "      <th>AT1G03987</th>\n",
       "      <td>1</td>\n",
       "      <td>11099</td>\n",
       "      <td>11372</td>\n",
       "      <td>.</td>\n",
       "      <td>+</td>\n",
       "    </tr>\n",
       "    <tr>\n",
       "      <th>AT1G01030</th>\n",
       "      <td>1</td>\n",
       "      <td>11647</td>\n",
       "      <td>13714</td>\n",
       "      <td>.</td>\n",
       "      <td>-</td>\n",
       "    </tr>\n",
       "    <tr>\n",
       "      <th>AT1G01040</th>\n",
       "      <td>1</td>\n",
       "      <td>23119</td>\n",
       "      <td>31227</td>\n",
       "      <td>.</td>\n",
       "      <td>+</td>\n",
       "    </tr>\n",
       "  </tbody>\n",
       "</table>\n",
       "</div>"
      ],
      "text/plain": [
       "          Chromosome  Start    End Score Strand\n",
       "Name                                           \n",
       "AT1G01010          1   3629   5899     .      +\n",
       "AT1G01020          1   6786   9130     .      -\n",
       "AT1G03987          1  11099  11372     .      +\n",
       "AT1G01030          1  11647  13714     .      -\n",
       "AT1G01040          1  23119  31227     .      +"
      ]
     },
     "execution_count": 6,
     "metadata": {},
     "output_type": "execute_result"
    }
   ],
   "source": [
    "# 1️⃣ 读取gene_bed信息\n",
    "\n",
    "gene_model_bed = '/public/home/mowp/db/Arabidopsis_thaliana/isoform/araport11.gene.bed'\n",
    "gene_model = pr.read_bed(gene_model_bed, as_df=True)\n",
    "gene_model = gene_model.set_index(['Name'])\n",
    "gene_model.head()"
   ]
  },
  {
   "cell_type": "markdown",
   "metadata": {},
   "source": [
    "# result"
   ]
  },
  {
   "cell_type": "code",
   "execution_count": 11,
   "metadata": {},
   "outputs": [],
   "source": [
    "from matplotlib import pyplot as plt"
   ]
  },
  {
   "cell_type": "code",
   "execution_count": 12,
   "metadata": {},
   "outputs": [],
   "source": [
    "polya_cluster = '/public/home/mowp/data/total_RNA/nanopore_cdna/polya_sites/nanopore_cdna.polya_cluster.bed'\n",
    "polya_cluster = pr.read_bed(polya_cluster, as_df=True)\n",
    "polya_cluster['gene_id'] = polya_cluster.Name.map(lambda x: x.split('_')[0])"
   ]
  },
  {
   "cell_type": "code",
   "execution_count": 22,
   "metadata": {},
   "outputs": [
    {
     "data": {
      "text/html": [
       "<div>\n",
       "<style scoped>\n",
       "    .dataframe tbody tr th:only-of-type {\n",
       "        vertical-align: middle;\n",
       "    }\n",
       "\n",
       "    .dataframe tbody tr th {\n",
       "        vertical-align: top;\n",
       "    }\n",
       "\n",
       "    .dataframe thead th {\n",
       "        text-align: right;\n",
       "    }\n",
       "</style>\n",
       "<table border=\"1\" class=\"dataframe\">\n",
       "  <thead>\n",
       "    <tr style=\"text-align: right;\">\n",
       "      <th></th>\n",
       "      <th>Chromosome</th>\n",
       "      <th>Start</th>\n",
       "      <th>End</th>\n",
       "      <th>Name</th>\n",
       "      <th>Score</th>\n",
       "      <th>Strand</th>\n",
       "      <th>ThickStart</th>\n",
       "      <th>gene_id</th>\n",
       "    </tr>\n",
       "  </thead>\n",
       "  <tbody>\n",
       "    <tr>\n",
       "      <th>0</th>\n",
       "      <td>1</td>\n",
       "      <td>5820</td>\n",
       "      <td>5902</td>\n",
       "      <td>AT1G01010_1</td>\n",
       "      <td>16</td>\n",
       "      <td>+</td>\n",
       "      <td>3.453</td>\n",
       "      <td>AT1G01010</td>\n",
       "    </tr>\n",
       "    <tr>\n",
       "      <th>1</th>\n",
       "      <td>1</td>\n",
       "      <td>6762</td>\n",
       "      <td>6965</td>\n",
       "      <td>AT1G01020_1</td>\n",
       "      <td>113</td>\n",
       "      <td>-</td>\n",
       "      <td>5.099</td>\n",
       "      <td>AT1G01020</td>\n",
       "    </tr>\n",
       "    <tr>\n",
       "      <th>2</th>\n",
       "      <td>1</td>\n",
       "      <td>11601</td>\n",
       "      <td>11629</td>\n",
       "      <td>AT1G01030_1</td>\n",
       "      <td>22</td>\n",
       "      <td>-</td>\n",
       "      <td>3.516</td>\n",
       "      <td>AT1G01030</td>\n",
       "    </tr>\n",
       "    <tr>\n",
       "      <th>3</th>\n",
       "      <td>1</td>\n",
       "      <td>31142</td>\n",
       "      <td>31249</td>\n",
       "      <td>AT1G01040_1</td>\n",
       "      <td>103</td>\n",
       "      <td>+</td>\n",
       "      <td>4.441</td>\n",
       "      <td>AT1G01040</td>\n",
       "    </tr>\n",
       "    <tr>\n",
       "      <th>4</th>\n",
       "      <td>1</td>\n",
       "      <td>31114</td>\n",
       "      <td>31306</td>\n",
       "      <td>AT1G01050_1</td>\n",
       "      <td>596</td>\n",
       "      <td>-</td>\n",
       "      <td>5.071</td>\n",
       "      <td>AT1G01050</td>\n",
       "    </tr>\n",
       "    <tr>\n",
       "      <th>...</th>\n",
       "      <td>...</td>\n",
       "      <td>...</td>\n",
       "      <td>...</td>\n",
       "      <td>...</td>\n",
       "      <td>...</td>\n",
       "      <td>...</td>\n",
       "      <td>...</td>\n",
       "      <td>...</td>\n",
       "    </tr>\n",
       "    <tr>\n",
       "      <th>20704</th>\n",
       "      <td>5</td>\n",
       "      <td>26959508</td>\n",
       "      <td>26959682</td>\n",
       "      <td>AT5G67600_1</td>\n",
       "      <td>594</td>\n",
       "      <td>-</td>\n",
       "      <td>5.181</td>\n",
       "      <td>AT5G67600</td>\n",
       "    </tr>\n",
       "    <tr>\n",
       "      <th>20705</th>\n",
       "      <td>5</td>\n",
       "      <td>26960881</td>\n",
       "      <td>26961015</td>\n",
       "      <td>AT5G67610_1</td>\n",
       "      <td>89</td>\n",
       "      <td>-</td>\n",
       "      <td>4.774</td>\n",
       "      <td>AT5G67610</td>\n",
       "    </tr>\n",
       "    <tr>\n",
       "      <th>20706</th>\n",
       "      <td>5</td>\n",
       "      <td>26964767</td>\n",
       "      <td>26964775</td>\n",
       "      <td>AT5G67620_1</td>\n",
       "      <td>14</td>\n",
       "      <td>-</td>\n",
       "      <td>1.089</td>\n",
       "      <td>AT5G67620</td>\n",
       "    </tr>\n",
       "    <tr>\n",
       "      <th>20707</th>\n",
       "      <td>5</td>\n",
       "      <td>26967374</td>\n",
       "      <td>26967455</td>\n",
       "      <td>AT5G67630_1</td>\n",
       "      <td>122</td>\n",
       "      <td>-</td>\n",
       "      <td>3.846</td>\n",
       "      <td>AT5G67630</td>\n",
       "    </tr>\n",
       "    <tr>\n",
       "      <th>20708</th>\n",
       "      <td>5</td>\n",
       "      <td>26969395</td>\n",
       "      <td>26969494</td>\n",
       "      <td>AT5G67640_1</td>\n",
       "      <td>34</td>\n",
       "      <td>-</td>\n",
       "      <td>4.172</td>\n",
       "      <td>AT5G67640</td>\n",
       "    </tr>\n",
       "  </tbody>\n",
       "</table>\n",
       "<p>20709 rows × 8 columns</p>\n",
       "</div>"
      ],
      "text/plain": [
       "       Chromosome     Start       End         Name  Score Strand  ThickStart  \\\n",
       "0               1      5820      5902  AT1G01010_1     16      +       3.453   \n",
       "1               1      6762      6965  AT1G01020_1    113      -       5.099   \n",
       "2               1     11601     11629  AT1G01030_1     22      -       3.516   \n",
       "3               1     31142     31249  AT1G01040_1    103      +       4.441   \n",
       "4               1     31114     31306  AT1G01050_1    596      -       5.071   \n",
       "...           ...       ...       ...          ...    ...    ...         ...   \n",
       "20704           5  26959508  26959682  AT5G67600_1    594      -       5.181   \n",
       "20705           5  26960881  26961015  AT5G67610_1     89      -       4.774   \n",
       "20706           5  26964767  26964775  AT5G67620_1     14      -       1.089   \n",
       "20707           5  26967374  26967455  AT5G67630_1    122      -       3.846   \n",
       "20708           5  26969395  26969494  AT5G67640_1     34      -       4.172   \n",
       "\n",
       "         gene_id  \n",
       "0      AT1G01010  \n",
       "1      AT1G01020  \n",
       "2      AT1G01030  \n",
       "3      AT1G01040  \n",
       "4      AT1G01050  \n",
       "...          ...  \n",
       "20704  AT5G67600  \n",
       "20705  AT5G67610  \n",
       "20706  AT5G67620  \n",
       "20707  AT5G67630  \n",
       "20708  AT5G67640  \n",
       "\n",
       "[20709 rows x 8 columns]"
      ]
     },
     "execution_count": 22,
     "metadata": {},
     "output_type": "execute_result"
    }
   ],
   "source": [
    "polya_cluster"
   ]
  },
  {
   "cell_type": "code",
   "execution_count": 13,
   "metadata": {},
   "outputs": [],
   "source": [
    "apa_num = polya_cluster.groupby(['gene_id']).apply(len)"
   ]
  },
  {
   "cell_type": "code",
   "execution_count": 14,
   "metadata": {},
   "outputs": [
    {
     "data": {
      "text/plain": [
       "(array([15208,  2413,   206,    13,     1,     0,     0,     0]),\n",
       " array([1, 2, 3, 4, 5, 6, 7, 8, 9]))"
      ]
     },
     "execution_count": 14,
     "metadata": {},
     "output_type": "execute_result"
    }
   ],
   "source": [
    "np.histogram(apa_num, bins=np.arange(1, 10))"
   ]
  },
  {
   "cell_type": "code",
   "execution_count": 15,
   "metadata": {},
   "outputs": [],
   "source": [
    "x, y = [], []\n",
    "for i in range(1, 3):\n",
    "    x.append(i)\n",
    "    y.append(len(apa_num[apa_num==i]))\n",
    "x.append(3)\n",
    "y.append(len(apa_num[apa_num>=3]))"
   ]
  },
  {
   "cell_type": "code",
   "execution_count": 16,
   "metadata": {},
   "outputs": [
    {
     "data": {
      "text/plain": [
       "[1, 2, 3]"
      ]
     },
     "execution_count": 16,
     "metadata": {},
     "output_type": "execute_result"
    }
   ],
   "source": [
    "x"
   ]
  },
  {
   "cell_type": "code",
   "execution_count": 17,
   "metadata": {},
   "outputs": [
    {
     "data": {
      "text/plain": [
       "[15208, 2413, 220]"
      ]
     },
     "execution_count": 17,
     "metadata": {},
     "output_type": "execute_result"
    }
   ],
   "source": [
    "y"
   ]
  },
  {
   "cell_type": "code",
   "execution_count": 23,
   "metadata": {},
   "outputs": [
    {
     "data": {
      "image/png": "[encoded data removed]",
      "text/plain": [
       "<Figure size 144x216 with 1 Axes>"
      ]
     },
     "metadata": {
      "needs_background": "light"
     },
     "output_type": "display_data"
    }
   ],
   "source": [
    "plt.figure(figsize=(2,3))\n",
    "plt.bar(x=x, height=y, width=.5)\n",
    "plt.ylabel('Gene counts')\n",
    "plt.xlabel('Number of poly(A) site cluster')\n",
    "plt.xticks([1,2,3], [1,2, '≥3'])\n",
    "plt.show()"
   ]
  },
  {
   "cell_type": "markdown",
   "metadata": {},
   "source": [
    "# overlap"
   ]
  },
  {
   "cell_type": "code",
   "execution_count": 24,
   "metadata": {},
   "outputs": [],
   "source": [
    "import pybedtools"
   ]
  },
  {
   "cell_type": "code",
   "execution_count": 25,
   "metadata": {},
   "outputs": [],
   "source": [
    "nanopore_cdna_bed = '/public/home/mowp/data/total_RNA/nanopore_cdna/polya_sites/nanopore_cdna.polya_cluster.bed'\n",
    "nanopore_cdna_bed = pybedtools.example_bedtool(nanopore_cdna_bed)"
   ]
  },
  {
   "cell_type": "code",
   "execution_count": 27,
   "metadata": {},
   "outputs": [],
   "source": [
    "drs_bed = '/public/home/mowp/data/total_RNA/notebook/plant_apa_db/AraDRS_WT_EXPR1.ERP001018.high_confidence.PAC.bed'\n",
    "drs_bed = pybedtools.example_bedtool(drs_bed)"
   ]
  },
  {
   "cell_type": "code",
   "execution_count": 37,
   "metadata": {},
   "outputs": [],
   "source": [
    "pas_bed = '/public/home/mowp/data/total_RNA/notebook/plant_apa_db/pas_seq.SRP013996_wildType.high_confidence.PAC.bed'\n",
    "pas_bed = pybedtools.example_bedtool(pas_bed)"
   ]
  },
  {
   "cell_type": "markdown",
   "metadata": {},
   "source": [
    "## nanopore vs drs"
   ]
  },
  {
   "cell_type": "code",
   "execution_count": 36,
   "metadata": {},
   "outputs": [
    {
     "data": {
      "text/plain": [
       "16250"
      ]
     },
     "execution_count": 36,
     "metadata": {},
     "output_type": "execute_result"
    }
   ],
   "source": [
    "nano_and_drs = nanopore_cdna_bed.intersect(drs_bed, s=True)\n",
    "len(nano_and_drs)"
   ]
  },
  {
   "cell_type": "markdown",
   "metadata": {},
   "source": [
    "## nanopore vs pas"
   ]
  },
  {
   "cell_type": "code",
   "execution_count": 38,
   "metadata": {},
   "outputs": [
    {
     "data": {
      "text/plain": [
       "15449"
      ]
     },
     "execution_count": 38,
     "metadata": {},
     "output_type": "execute_result"
    }
   ],
   "source": [
    "nano_and_pas = nanopore_cdna_bed.intersect(pas_bed, s=True)\n",
    "len(nano_and_pas)"
   ]
  },
  {
   "cell_type": "markdown",
   "metadata": {},
   "source": [
    "## DRS vs pas"
   ]
  },
  {
   "cell_type": "code",
   "execution_count": 41,
   "metadata": {},
   "outputs": [
    {
     "data": {
      "text/plain": [
       "15965"
      ]
     },
     "execution_count": 41,
     "metadata": {},
     "output_type": "execute_result"
    }
   ],
   "source": [
    "drs_and_pas = drs_bed.intersect(pas_bed, s=True)\n",
    "len(drs_and_pas)"
   ]
  },
  {
   "cell_type": "markdown",
   "metadata": {},
   "source": [
    "## nanopore vs drs vs pas"
   ]
  },
  {
   "cell_type": "code",
   "execution_count": 45,
   "metadata": {},
   "outputs": [
    {
     "data": {
      "text/plain": [
       "14976"
      ]
     },
     "execution_count": 45,
     "metadata": {},
     "output_type": "execute_result"
    }
   ],
   "source": [
    "three_and = nano_and_drs.intersect(pas_bed, s=True)\n",
    "len(three_and)"
   ]
  },
  {
   "cell_type": "code",
   "execution_count": 46,
   "metadata": {},
   "outputs": [
    {
     "data": {
      "text/plain": [
       "\u001b[0;31mType:\u001b[0m        module\n",
       "\u001b[0;31mString form:\u001b[0m <module 'pybedtools.contrib.venn_maker' from '/public/home/mowp/miniconda3/lib/python3.7/site-packages/pybedtools/contrib/venn_maker.py'>\n",
       "\u001b[0;31mFile:\u001b[0m        ~/miniconda3/lib/python3.7/site-packages/pybedtools/contrib/venn_maker.py\n",
       "\u001b[0;31mDocstring:\u001b[0m  \n",
       "Interface between pybedtools and the R package VennDiagram.\n",
       "\n",
       "Rather than depend on the user to have rpy2 installed, this simply writes an\n",
       "R script that can be edited and tweaked by the user before being run in R.\n"
      ]
     },
     "metadata": {},
     "output_type": "display_data"
    }
   ],
   "source": [
    "pybedtools.contrib.venn_maker?"
   ]
  },
  {
   "cell_type": "markdown",
   "metadata": {},
   "source": [
    "## venn plot"
   ]
  },
  {
   "cell_type": "markdown",
   "metadata": {},
   "source": [
    "`venn_mpl.py \n",
    "  -a /public/home/mowp/data/total_RNA/nanopore_cdna/polya_sites/nanopore_cdna.polya_cluster.bed \n",
    "  -b /public/home/mowp/data/total_RNA/notebook/plant_apa_db/AraDRS_WT_EXPR1.ERP001018.high_confidence.PAC.bed \n",
    "  -c /public/home/mowp/data/total_RNA/notebook/plant_apa_db/pas_seq.SRP013996_wildType.high_confidence.PAC.bed \n",
    "  -o out.svg`"
   ]
  },
  {
   "cell_type": "markdown",
   "metadata": {},
   "source": [
    "# nucleotide frequency"
   ]
  },
  {
   "cell_type": "code",
   "execution_count": 48,
   "metadata": {},
   "outputs": [],
   "source": [
    "from Bio import SeqIO\n",
    "infile = '/public/home/mowp/db/Arabidopsis_thaliana/dna/Arabidopsis_thaliana.TAIR10.dna.toplevel.fa'\n",
    "genome = {}\n",
    "for seq in SeqIO.parse(infile, 'fasta'):\n",
    "    genome[seq.name] = seq.seq"
   ]
  },
  {
   "cell_type": "code",
   "execution_count": 83,
   "metadata": {},
   "outputs": [],
   "source": [
    "def get_base_frequency(df, before=50, after=50):\n",
    "    '''\n",
    "    获取TTS上下游碱基频率分布\n",
    "    '''\n",
    "    STRAND_TO_BOOL = {'-': True, '+': False}\n",
    "    length = before+after+1\n",
    "    base_frequency = {'A':np.zeros(length), 'T':np.zeros(length), 'C':np.zeros(length), 'G':np.zeros(length),}\n",
    "    for item in df.itertuples():\n",
    "        gene_strand = STRAND_TO_BOOL[item.Strand]\n",
    "        pas = item.End\n",
    "        chrom = str(item.Chromosome)\n",
    "        if gene_strand:\n",
    "            seq = genome[chrom][pas-after-1: pas+before]\n",
    "            seq = seq.reverse_complement()\n",
    "        else:\n",
    "            seq = genome[chrom][pas-before: pas+after+1]\n",
    "            \n",
    "        for n, base in enumerate(seq):\n",
    "            if base in base_frequency:\n",
    "                base_frequency[base][n] += 1\n",
    "            else:\n",
    "                logging.info(f'{base} base occured')\n",
    "    return base_frequency\n",
    "\n",
    "\n",
    "def plot_base_frequency(base_frequency, before=50, after=50):\n",
    "    for n, base in enumerate(base_frequency):\n",
    "        plt.plot(\n",
    "            base_frequency[base]/(\n",
    "                base_frequency['A'][n]\n",
    "                + base_frequency['T'][n]\n",
    "                + base_frequency['C'][n]\n",
    "                + base_frequency['G'][n]), \n",
    "            label=base\n",
    "        )\n",
    "\n",
    "    plt.ylabel('Nucleotide frequency')\n",
    "    plt.xlabel('Distance to PAS')\n",
    "    plt.axvline(before, ls='--', color='#555555')\n",
    "    ticks = np.linspace(0, before+after, 5, dtype='int')\n",
    "    labels = np.linspace(-before, after, 5, dtype='int')\n",
    "    plt.xticks(ticks, labels)\n",
    "    plt.legend(frameon=False)"
   ]
  },
  {
   "cell_type": "code",
   "execution_count": 56,
   "metadata": {},
   "outputs": [],
   "source": [
    "infile = '/public/home/mowp/data/total_RNA/nanopore_cdna/polya_sites/nanopore_cdna.polya_cluster.summit.bed'\n",
    "polya_site = pr.read_bed(infile, as_df=True)"
   ]
  },
  {
   "cell_type": "code",
   "execution_count": 65,
   "metadata": {},
   "outputs": [],
   "source": [
    "base_frequency = get_base_frequency(polya_site, before=100, after=100)"
   ]
  },
  {
   "cell_type": "code",
   "execution_count": 84,
   "metadata": {},
   "outputs": [
    {
     "data": {
      "image/png": "[encoded data removed]",
      "text/plain": [
       "<Figure size 288x216 with 1 Axes>"
      ]
     },
     "metadata": {
      "needs_background": "light"
     },
     "output_type": "display_data"
    }
   ],
   "source": [
    "plt.figure(figsize=(4, 3))\n",
    "plot_base_frequency(base_frequency, before=100, after=100)"
   ]
  },
  {
   "cell_type": "code",
   "execution_count": null,
   "metadata": {},
   "outputs": [],
   "source": []
  }
 ],
 "metadata": {
  "kernelspec": {
   "display_name": "Python 3",
   "language": "python",
   "name": "python3"
  },
  "language_info": {
   "codemirror_mode": {
    "name": "ipython",
    "version": 3
   },
   "file_extension": ".py",
   "mimetype": "text/x-python",
   "name": "python",
   "nbconvert_exporter": "python",
   "pygments_lexer": "ipython3",
   "version": "3.7.8"
  },
  "toc-autonumbering": true
 },
 "nbformat": 4,
 "nbformat_minor": 4
}
